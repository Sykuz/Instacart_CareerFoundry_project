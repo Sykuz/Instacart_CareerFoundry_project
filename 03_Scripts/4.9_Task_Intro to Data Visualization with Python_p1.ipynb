{
 "cells": [
  {
   "cell_type": "markdown",
   "id": "40e62eaf-4a6c-4a49-8eaf-3204a6efbb4b",
   "metadata": {},
   "source": [
    "# 01. Import Libraries"
   ]
  },
  {
   "cell_type": "code",
   "execution_count": 1,
   "id": "9031664c-1e7f-466d-b858-79235bdca833",
   "metadata": {},
   "outputs": [],
   "source": [
    "import pandas as pd\n",
    "import numpy as np\n",
    "import os\n",
    "import matplotlib.pyplot as plt\n",
    "import seaborn as sns\n",
    "import scipy"
   ]
  },
  {
   "cell_type": "markdown",
   "id": "b4d27853-12ef-4ad9-8dfc-956e3ee12c92",
   "metadata": {},
   "source": [
    "# 02. Import Data"
   ]
  },
  {
   "cell_type": "code",
   "execution_count": 2,
   "id": "b4518bee-6db3-442e-b37a-f260ed88da33",
   "metadata": {},
   "outputs": [],
   "source": [
    "path = r'C:\\Users\\esteb\\OneDrive\\Desktop\\2025_Instacart Basket Analysis'"
   ]
  },
  {
   "cell_type": "code",
   "execution_count": 3,
   "id": "92642bd1-84a3-47fc-9cd1-4490f7d9b07f",
   "metadata": {},
   "outputs": [],
   "source": [
    "df_new_cus = pd.read_csv(os.path.join(path, '02_Data', 'Original Data', 'customers.csv'))"
   ]
  },
  {
   "cell_type": "code",
   "execution_count": 4,
   "id": "a59ed6ab-ddc1-4481-a915-68bb05d1877c",
   "metadata": {},
   "outputs": [],
   "source": [
    "df_agg = pd.read_pickle(os.path.join(path, '02_Data', 'Prepared Data', 'aggregated_ords_prods_merge.pkl'))"
   ]
  },
  {
   "cell_type": "markdown",
   "id": "c5a2590d-6a77-4afe-ba02-e7836237f623",
   "metadata": {},
   "source": [
    "# 03. Wrangle the Data"
   ]
  },
  {
   "cell_type": "code",
   "execution_count": 5,
   "id": "47512b0c-50d1-4af2-9b08-57b634bf7320",
   "metadata": {},
   "outputs": [
    {
     "name": "stdout",
     "output_type": "stream",
     "text": [
      "<class 'pandas.core.frame.DataFrame'>\n",
      "RangeIndex: 206209 entries, 0 to 206208\n",
      "Data columns (total 10 columns):\n",
      " #   Column        Non-Null Count   Dtype \n",
      "---  ------        --------------   ----- \n",
      " 0   user_id       206209 non-null  int64 \n",
      " 1   First Name    194950 non-null  object\n",
      " 2   Surnam        206209 non-null  object\n",
      " 3   Gender        206209 non-null  object\n",
      " 4   STATE         206209 non-null  object\n",
      " 5   Age           206209 non-null  int64 \n",
      " 6   date_joined   206209 non-null  object\n",
      " 7   n_dependants  206209 non-null  int64 \n",
      " 8   fam_status    206209 non-null  object\n",
      " 9   income        206209 non-null  int64 \n",
      "dtypes: int64(4), object(6)\n",
      "memory usage: 15.7+ MB\n"
     ]
    }
   ],
   "source": [
    "# Fundamental data quality and consistency check\n",
    "df_new_cus.info()"
   ]
  },
  {
   "cell_type": "code",
   "execution_count": 6,
   "id": "74560c90-4874-4ff8-81c8-f19313ef808c",
   "metadata": {},
   "outputs": [
    {
     "data": {
      "text/html": [
       "<div>\n",
       "<style scoped>\n",
       "    .dataframe tbody tr th:only-of-type {\n",
       "        vertical-align: middle;\n",
       "    }\n",
       "\n",
       "    .dataframe tbody tr th {\n",
       "        vertical-align: top;\n",
       "    }\n",
       "\n",
       "    .dataframe thead th {\n",
       "        text-align: right;\n",
       "    }\n",
       "</style>\n",
       "<table border=\"1\" class=\"dataframe\">\n",
       "  <thead>\n",
       "    <tr style=\"text-align: right;\">\n",
       "      <th></th>\n",
       "      <th>user_id</th>\n",
       "      <th>Age</th>\n",
       "      <th>n_dependants</th>\n",
       "      <th>income</th>\n",
       "    </tr>\n",
       "  </thead>\n",
       "  <tbody>\n",
       "    <tr>\n",
       "      <th>count</th>\n",
       "      <td>206209.000000</td>\n",
       "      <td>206209.000000</td>\n",
       "      <td>206209.000000</td>\n",
       "      <td>206209.000000</td>\n",
       "    </tr>\n",
       "    <tr>\n",
       "      <th>mean</th>\n",
       "      <td>103105.000000</td>\n",
       "      <td>49.501646</td>\n",
       "      <td>1.499823</td>\n",
       "      <td>94632.852548</td>\n",
       "    </tr>\n",
       "    <tr>\n",
       "      <th>std</th>\n",
       "      <td>59527.555167</td>\n",
       "      <td>18.480962</td>\n",
       "      <td>1.118433</td>\n",
       "      <td>42473.786988</td>\n",
       "    </tr>\n",
       "    <tr>\n",
       "      <th>min</th>\n",
       "      <td>1.000000</td>\n",
       "      <td>18.000000</td>\n",
       "      <td>0.000000</td>\n",
       "      <td>25903.000000</td>\n",
       "    </tr>\n",
       "    <tr>\n",
       "      <th>25%</th>\n",
       "      <td>51553.000000</td>\n",
       "      <td>33.000000</td>\n",
       "      <td>0.000000</td>\n",
       "      <td>59874.000000</td>\n",
       "    </tr>\n",
       "    <tr>\n",
       "      <th>50%</th>\n",
       "      <td>103105.000000</td>\n",
       "      <td>49.000000</td>\n",
       "      <td>1.000000</td>\n",
       "      <td>93547.000000</td>\n",
       "    </tr>\n",
       "    <tr>\n",
       "      <th>75%</th>\n",
       "      <td>154657.000000</td>\n",
       "      <td>66.000000</td>\n",
       "      <td>3.000000</td>\n",
       "      <td>124244.000000</td>\n",
       "    </tr>\n",
       "    <tr>\n",
       "      <th>max</th>\n",
       "      <td>206209.000000</td>\n",
       "      <td>81.000000</td>\n",
       "      <td>3.000000</td>\n",
       "      <td>593901.000000</td>\n",
       "    </tr>\n",
       "  </tbody>\n",
       "</table>\n",
       "</div>"
      ],
      "text/plain": [
       "             user_id            Age   n_dependants         income\n",
       "count  206209.000000  206209.000000  206209.000000  206209.000000\n",
       "mean   103105.000000      49.501646       1.499823   94632.852548\n",
       "std     59527.555167      18.480962       1.118433   42473.786988\n",
       "min         1.000000      18.000000       0.000000   25903.000000\n",
       "25%     51553.000000      33.000000       0.000000   59874.000000\n",
       "50%    103105.000000      49.000000       1.000000   93547.000000\n",
       "75%    154657.000000      66.000000       3.000000  124244.000000\n",
       "max    206209.000000      81.000000       3.000000  593901.000000"
      ]
     },
     "execution_count": 6,
     "metadata": {},
     "output_type": "execute_result"
    }
   ],
   "source": [
    "# Fundamental data quality and consistency check\n",
    "df_new_cus.describe()"
   ]
  },
  {
   "cell_type": "code",
   "execution_count": 7,
   "id": "7801eb26-f101-429f-a64c-ab47a8bfd2cd",
   "metadata": {},
   "outputs": [],
   "source": [
    "# Drop unecessary column\n",
    "df_new_cus = df_new_cus.drop('date_joined', axis = 1)"
   ]
  },
  {
   "cell_type": "code",
   "execution_count": 8,
   "id": "01671d68-a7d8-4128-aa1c-228726132043",
   "metadata": {},
   "outputs": [
    {
     "data": {
      "text/html": [
       "<div>\n",
       "<style scoped>\n",
       "    .dataframe tbody tr th:only-of-type {\n",
       "        vertical-align: middle;\n",
       "    }\n",
       "\n",
       "    .dataframe tbody tr th {\n",
       "        vertical-align: top;\n",
       "    }\n",
       "\n",
       "    .dataframe thead th {\n",
       "        text-align: right;\n",
       "    }\n",
       "</style>\n",
       "<table border=\"1\" class=\"dataframe\">\n",
       "  <thead>\n",
       "    <tr style=\"text-align: right;\">\n",
       "      <th></th>\n",
       "      <th>user_id</th>\n",
       "      <th>First Name</th>\n",
       "      <th>Surnam</th>\n",
       "      <th>Gender</th>\n",
       "      <th>STATE</th>\n",
       "      <th>Age</th>\n",
       "      <th>n_dependants</th>\n",
       "      <th>fam_status</th>\n",
       "      <th>income</th>\n",
       "    </tr>\n",
       "  </thead>\n",
       "  <tbody>\n",
       "    <tr>\n",
       "      <th>0</th>\n",
       "      <td>26711</td>\n",
       "      <td>Deborah</td>\n",
       "      <td>Esquivel</td>\n",
       "      <td>Female</td>\n",
       "      <td>Missouri</td>\n",
       "      <td>48</td>\n",
       "      <td>3</td>\n",
       "      <td>married</td>\n",
       "      <td>165665</td>\n",
       "    </tr>\n",
       "    <tr>\n",
       "      <th>1</th>\n",
       "      <td>33890</td>\n",
       "      <td>Patricia</td>\n",
       "      <td>Hart</td>\n",
       "      <td>Female</td>\n",
       "      <td>New Mexico</td>\n",
       "      <td>36</td>\n",
       "      <td>0</td>\n",
       "      <td>single</td>\n",
       "      <td>59285</td>\n",
       "    </tr>\n",
       "    <tr>\n",
       "      <th>2</th>\n",
       "      <td>65803</td>\n",
       "      <td>Kenneth</td>\n",
       "      <td>Farley</td>\n",
       "      <td>Male</td>\n",
       "      <td>Idaho</td>\n",
       "      <td>35</td>\n",
       "      <td>2</td>\n",
       "      <td>married</td>\n",
       "      <td>99568</td>\n",
       "    </tr>\n",
       "    <tr>\n",
       "      <th>3</th>\n",
       "      <td>125935</td>\n",
       "      <td>Michelle</td>\n",
       "      <td>Hicks</td>\n",
       "      <td>Female</td>\n",
       "      <td>Iowa</td>\n",
       "      <td>40</td>\n",
       "      <td>0</td>\n",
       "      <td>single</td>\n",
       "      <td>42049</td>\n",
       "    </tr>\n",
       "    <tr>\n",
       "      <th>4</th>\n",
       "      <td>130797</td>\n",
       "      <td>Ann</td>\n",
       "      <td>Gilmore</td>\n",
       "      <td>Female</td>\n",
       "      <td>Maryland</td>\n",
       "      <td>26</td>\n",
       "      <td>1</td>\n",
       "      <td>married</td>\n",
       "      <td>40374</td>\n",
       "    </tr>\n",
       "  </tbody>\n",
       "</table>\n",
       "</div>"
      ],
      "text/plain": [
       "   user_id First Name    Surnam  Gender       STATE  Age  n_dependants  \\\n",
       "0    26711    Deborah  Esquivel  Female    Missouri   48             3   \n",
       "1    33890   Patricia      Hart  Female  New Mexico   36             0   \n",
       "2    65803    Kenneth    Farley    Male       Idaho   35             2   \n",
       "3   125935   Michelle     Hicks  Female        Iowa   40             0   \n",
       "4   130797        Ann   Gilmore  Female    Maryland   26             1   \n",
       "\n",
       "  fam_status  income  \n",
       "0    married  165665  \n",
       "1     single   59285  \n",
       "2    married   99568  \n",
       "3     single   42049  \n",
       "4    married   40374  "
      ]
     },
     "execution_count": 8,
     "metadata": {},
     "output_type": "execute_result"
    }
   ],
   "source": [
    "# Check dataframe for dropped columns\n",
    "df_new_cus.head()"
   ]
  },
  {
   "cell_type": "code",
   "execution_count": 9,
   "id": "0c5103b5-8bd8-472a-8ea2-2b5102871591",
   "metadata": {},
   "outputs": [],
   "source": [
    "# Renaming Columns\n",
    "df_cus = df_new_cus.rename(columns = {'First Name':'first_name', 'Surnam':'last_name', 'Gender':'gender', 'STATE':'state', 'Age':'age'})"
   ]
  },
  {
   "cell_type": "code",
   "execution_count": 10,
   "id": "965402f5-07fa-4ce8-a247-831eaf16e8ec",
   "metadata": {},
   "outputs": [
    {
     "data": {
      "text/html": [
       "<div>\n",
       "<style scoped>\n",
       "    .dataframe tbody tr th:only-of-type {\n",
       "        vertical-align: middle;\n",
       "    }\n",
       "\n",
       "    .dataframe tbody tr th {\n",
       "        vertical-align: top;\n",
       "    }\n",
       "\n",
       "    .dataframe thead th {\n",
       "        text-align: right;\n",
       "    }\n",
       "</style>\n",
       "<table border=\"1\" class=\"dataframe\">\n",
       "  <thead>\n",
       "    <tr style=\"text-align: right;\">\n",
       "      <th></th>\n",
       "      <th>user_id</th>\n",
       "      <th>first_name</th>\n",
       "      <th>last_name</th>\n",
       "      <th>gender</th>\n",
       "      <th>state</th>\n",
       "      <th>age</th>\n",
       "      <th>n_dependants</th>\n",
       "      <th>fam_status</th>\n",
       "      <th>income</th>\n",
       "    </tr>\n",
       "  </thead>\n",
       "  <tbody>\n",
       "    <tr>\n",
       "      <th>0</th>\n",
       "      <td>26711</td>\n",
       "      <td>Deborah</td>\n",
       "      <td>Esquivel</td>\n",
       "      <td>Female</td>\n",
       "      <td>Missouri</td>\n",
       "      <td>48</td>\n",
       "      <td>3</td>\n",
       "      <td>married</td>\n",
       "      <td>165665</td>\n",
       "    </tr>\n",
       "    <tr>\n",
       "      <th>1</th>\n",
       "      <td>33890</td>\n",
       "      <td>Patricia</td>\n",
       "      <td>Hart</td>\n",
       "      <td>Female</td>\n",
       "      <td>New Mexico</td>\n",
       "      <td>36</td>\n",
       "      <td>0</td>\n",
       "      <td>single</td>\n",
       "      <td>59285</td>\n",
       "    </tr>\n",
       "    <tr>\n",
       "      <th>2</th>\n",
       "      <td>65803</td>\n",
       "      <td>Kenneth</td>\n",
       "      <td>Farley</td>\n",
       "      <td>Male</td>\n",
       "      <td>Idaho</td>\n",
       "      <td>35</td>\n",
       "      <td>2</td>\n",
       "      <td>married</td>\n",
       "      <td>99568</td>\n",
       "    </tr>\n",
       "    <tr>\n",
       "      <th>3</th>\n",
       "      <td>125935</td>\n",
       "      <td>Michelle</td>\n",
       "      <td>Hicks</td>\n",
       "      <td>Female</td>\n",
       "      <td>Iowa</td>\n",
       "      <td>40</td>\n",
       "      <td>0</td>\n",
       "      <td>single</td>\n",
       "      <td>42049</td>\n",
       "    </tr>\n",
       "    <tr>\n",
       "      <th>4</th>\n",
       "      <td>130797</td>\n",
       "      <td>Ann</td>\n",
       "      <td>Gilmore</td>\n",
       "      <td>Female</td>\n",
       "      <td>Maryland</td>\n",
       "      <td>26</td>\n",
       "      <td>1</td>\n",
       "      <td>married</td>\n",
       "      <td>40374</td>\n",
       "    </tr>\n",
       "  </tbody>\n",
       "</table>\n",
       "</div>"
      ],
      "text/plain": [
       "   user_id first_name last_name  gender       state  age  n_dependants  \\\n",
       "0    26711    Deborah  Esquivel  Female    Missouri   48             3   \n",
       "1    33890   Patricia      Hart  Female  New Mexico   36             0   \n",
       "2    65803    Kenneth    Farley    Male       Idaho   35             2   \n",
       "3   125935   Michelle     Hicks  Female        Iowa   40             0   \n",
       "4   130797        Ann   Gilmore  Female    Maryland   26             1   \n",
       "\n",
       "  fam_status  income  \n",
       "0    married  165665  \n",
       "1     single   59285  \n",
       "2    married   99568  \n",
       "3     single   42049  \n",
       "4    married   40374  "
      ]
     },
     "execution_count": 10,
     "metadata": {},
     "output_type": "execute_result"
    }
   ],
   "source": [
    "# Check Renamed Columns\n",
    "df_cus.head()"
   ]
  },
  {
   "cell_type": "code",
   "execution_count": 11,
   "id": "5a691364-9074-4ace-b540-057ff8e09b36",
   "metadata": {
    "scrolled": true
   },
   "outputs": [
    {
     "data": {
      "text/plain": [
       "user_id             0\n",
       "first_name      11259\n",
       "last_name           0\n",
       "gender              0\n",
       "state               0\n",
       "age                 0\n",
       "n_dependants        0\n",
       "fam_status          0\n",
       "income              0\n",
       "dtype: int64"
      ]
     },
     "execution_count": 11,
     "metadata": {},
     "output_type": "execute_result"
    }
   ],
   "source": [
    "# Count the Missing values per column\n",
    "df_cus.isnull().sum()"
   ]
  },
  {
   "cell_type": "code",
   "execution_count": 12,
   "id": "9d3d9ec1-eadd-422f-a11b-4f03bd24780e",
   "metadata": {},
   "outputs": [],
   "source": [
    "# Handle missing values by creating a full_name column. \n",
    "df_cus['full_name'] = df_cus['first_name'].fillna('') + ' ' + df_cus['last_name']"
   ]
  },
  {
   "cell_type": "code",
   "execution_count": 13,
   "id": "0431aac3-7627-4067-8f03-67e1b160d13f",
   "metadata": {},
   "outputs": [],
   "source": [
    "# If Nan first name in full_name column then use last name\n",
    "df_cus['full_name'] = df_cus['full_name'].str.strip()"
   ]
  },
  {
   "cell_type": "code",
   "execution_count": 14,
   "id": "6b677ade-e46b-4d63-98aa-8afd02b1d0b5",
   "metadata": {},
   "outputs": [],
   "source": [
    "#Drop first_name and last_name columns\n",
    "df_cus.drop(['first_name', 'last_name'], axis=1, inplace=True)"
   ]
  },
  {
   "cell_type": "code",
   "execution_count": 16,
   "id": "7fa9dc57-785f-4601-8220-72044a36b1cd",
   "metadata": {},
   "outputs": [
    {
     "data": {
      "text/plain": [
       "user_id          int64\n",
       "gender          object\n",
       "state           object\n",
       "age              int64\n",
       "n_dependants     int64\n",
       "fam_status      object\n",
       "income           int64\n",
       "full_name       object\n",
       "dtype: object"
      ]
     },
     "execution_count": 16,
     "metadata": {},
     "output_type": "execute_result"
    }
   ],
   "source": [
    "# View Data Types\n",
    "df_cus.dtypes"
   ]
  },
  {
   "cell_type": "code",
   "execution_count": 15,
   "id": "e614e046-7453-41ca-8121-8942569f3d2c",
   "metadata": {},
   "outputs": [
    {
     "data": {
      "text/plain": [
       "0"
      ]
     },
     "execution_count": 15,
     "metadata": {},
     "output_type": "execute_result"
    }
   ],
   "source": [
    "# Check for duplicates\n",
    "df_cus.duplicated().sum()"
   ]
  },
  {
   "cell_type": "code",
   "execution_count": 17,
   "id": "dcf628d0-dba3-4096-8387-edd3f80efb85",
   "metadata": {},
   "outputs": [
    {
     "name": "stderr",
     "output_type": "stream",
     "text": [
      "C:\\Users\\esteb\\AppData\\Local\\Temp\\ipykernel_36528\\2476940742.py:2: FutureWarning: DataFrame.applymap has been deprecated. Use DataFrame.map instead.\n",
      "  df_cus.applymap(type).nunique()\n"
     ]
    },
    {
     "data": {
      "text/plain": [
       "user_id         1\n",
       "gender          1\n",
       "state           1\n",
       "age             1\n",
       "n_dependants    1\n",
       "fam_status      1\n",
       "income          1\n",
       "full_name       1\n",
       "dtype: int64"
      ]
     },
     "execution_count": 17,
     "metadata": {},
     "output_type": "execute_result"
    }
   ],
   "source": [
    "# Check for mixed Data Types\n",
    "df_cus.applymap(type).nunique()"
   ]
  },
  {
   "cell_type": "code",
   "execution_count": 18,
   "id": "31f821ef-416a-4f21-804a-4e2bb8f81aa1",
   "metadata": {},
   "outputs": [
    {
     "name": "stdout",
     "output_type": "stream",
     "text": [
      "<class 'pandas.core.frame.DataFrame'>\n",
      "RangeIndex: 206209 entries, 0 to 206208\n",
      "Data columns (total 8 columns):\n",
      " #   Column        Non-Null Count   Dtype \n",
      "---  ------        --------------   ----- \n",
      " 0   user_id       206209 non-null  int64 \n",
      " 1   gender        206209 non-null  object\n",
      " 2   state         206209 non-null  object\n",
      " 3   age           206209 non-null  int64 \n",
      " 4   n_dependants  206209 non-null  int64 \n",
      " 5   fam_status    206209 non-null  object\n",
      " 6   income        206209 non-null  int64 \n",
      " 7   full_name     206209 non-null  object\n",
      "dtypes: int64(4), object(4)\n",
      "memory usage: 12.6+ MB\n"
     ]
    }
   ],
   "source": [
    "# Check Wrangled Work\n",
    "df_cus.info()"
   ]
  },
  {
   "cell_type": "markdown",
   "id": "2168ff73-52c4-4edf-8cd6-176c0a53cba0",
   "metadata": {},
   "source": [
    "# 04. Combine Datasets"
   ]
  },
  {
   "cell_type": "code",
   "execution_count": 19,
   "id": "85c42c26-e885-43b9-8d71-3cb26f72473c",
   "metadata": {},
   "outputs": [
    {
     "name": "stdout",
     "output_type": "stream",
     "text": [
      "<class 'pandas.core.frame.DataFrame'>\n",
      "RangeIndex: 32404859 entries, 0 to 32404858\n",
      "Data columns (total 25 columns):\n",
      " #   Column                  Dtype  \n",
      "---  ------                  -----  \n",
      " 0   order_id                int64  \n",
      " 1   user_id                 int64  \n",
      " 2   order_number            int64  \n",
      " 3   orders_day_of_week      int64  \n",
      " 4   order_hour_of_day       int64  \n",
      " 5   days_since_prior_order  float64\n",
      " 6   product_id              int64  \n",
      " 7   add_to_cart_order       int64  \n",
      " 8   reordered               int64  \n",
      " 9   product_name            object \n",
      " 10  aisle_id                int64  \n",
      " 11  department_id           int64  \n",
      " 12  prices                  float64\n",
      " 13  price_range_loc         object \n",
      " 14  daily_frequency         object \n",
      " 15  new_daily_frequency     object \n",
      " 16  busiest_period_of_day   object \n",
      " 17  max_order               int64  \n",
      " 18  loyalty_flag            object \n",
      " 19  average_spend_item      float64\n",
      " 20  spnd_itm_price_flag     object \n",
      " 21  total_order_spend       float64\n",
      " 22  order_spend_flag        object \n",
      " 23  customer_freq           float64\n",
      " 24  customer_freq_flag      object \n",
      "dtypes: float64(5), int64(11), object(9)\n",
      "memory usage: 6.0+ GB\n"
     ]
    }
   ],
   "source": [
    "df_agg.info()"
   ]
  },
  {
   "cell_type": "markdown",
   "id": "9733d611-ff20-4421-84a4-dfb0356bffe2",
   "metadata": {},
   "source": [
    "The common column is the user_id"
   ]
  },
  {
   "cell_type": "code",
   "execution_count": 20,
   "id": "3f32a6fd-d4f7-4a9c-9e86-3b12a495fe41",
   "metadata": {},
   "outputs": [],
   "source": [
    "# Use merge function to combine datasets\n",
    "df = df_agg.merge(df_cus, on = ['user_id'], how = 'left')"
   ]
  },
  {
   "cell_type": "markdown",
   "id": "4fb7adf8-5ac6-4ce1-b80b-4d655616ef33",
   "metadata": {},
   "source": [
    "Adds all customer data to df_agg without loosing any information from df_agg. The left join allows all rows from df_agg to be match with customer info from df_cus where possible."
   ]
  },
  {
   "cell_type": "code",
   "execution_count": 21,
   "id": "765e1831-ca62-418a-b09d-0b95e6f42466",
   "metadata": {
    "scrolled": true
   },
   "outputs": [
    {
     "name": "stdout",
     "output_type": "stream",
     "text": [
      "<class 'pandas.core.frame.DataFrame'>\n",
      "RangeIndex: 32404859 entries, 0 to 32404858\n",
      "Data columns (total 32 columns):\n",
      " #   Column                  Dtype  \n",
      "---  ------                  -----  \n",
      " 0   order_id                int64  \n",
      " 1   user_id                 int64  \n",
      " 2   order_number            int64  \n",
      " 3   orders_day_of_week      int64  \n",
      " 4   order_hour_of_day       int64  \n",
      " 5   days_since_prior_order  float64\n",
      " 6   product_id              int64  \n",
      " 7   add_to_cart_order       int64  \n",
      " 8   reordered               int64  \n",
      " 9   product_name            object \n",
      " 10  aisle_id                int64  \n",
      " 11  department_id           int64  \n",
      " 12  prices                  float64\n",
      " 13  price_range_loc         object \n",
      " 14  daily_frequency         object \n",
      " 15  new_daily_frequency     object \n",
      " 16  busiest_period_of_day   object \n",
      " 17  max_order               int64  \n",
      " 18  loyalty_flag            object \n",
      " 19  average_spend_item      float64\n",
      " 20  spnd_itm_price_flag     object \n",
      " 21  total_order_spend       float64\n",
      " 22  order_spend_flag        object \n",
      " 23  customer_freq           float64\n",
      " 24  customer_freq_flag      object \n",
      " 25  gender                  object \n",
      " 26  state                   object \n",
      " 27  age                     int64  \n",
      " 28  n_dependants            int64  \n",
      " 29  fam_status              object \n",
      " 30  income                  int64  \n",
      " 31  full_name               object \n",
      "dtypes: float64(5), int64(14), object(13)\n",
      "memory usage: 7.7+ GB\n"
     ]
    }
   ],
   "source": [
    "df.info()"
   ]
  },
  {
   "cell_type": "markdown",
   "id": "83c23a53-09eb-4965-b38a-54381faa2389",
   "metadata": {},
   "source": [
    "Merge seems to be succesful."
   ]
  },
  {
   "cell_type": "code",
   "execution_count": 22,
   "id": "327c2936-f48b-48fe-813a-36a824a1702f",
   "metadata": {},
   "outputs": [
    {
     "data": {
      "text/plain": [
       "order_id                        0\n",
       "user_id                         0\n",
       "order_number                    0\n",
       "orders_day_of_week              0\n",
       "order_hour_of_day               0\n",
       "days_since_prior_order    2076096\n",
       "product_id                      0\n",
       "add_to_cart_order               0\n",
       "reordered                       0\n",
       "product_name                    0\n",
       "aisle_id                        0\n",
       "department_id                   0\n",
       "prices                          0\n",
       "price_range_loc                 0\n",
       "daily_frequency                 0\n",
       "new_daily_frequency             0\n",
       "busiest_period_of_day           0\n",
       "max_order                       0\n",
       "loyalty_flag                    0\n",
       "average_spend_item              0\n",
       "spnd_itm_price_flag             0\n",
       "total_order_spend               0\n",
       "order_spend_flag                0\n",
       "customer_freq                   5\n",
       "customer_freq_flag              5\n",
       "gender                          0\n",
       "state                           0\n",
       "age                             0\n",
       "n_dependants                    0\n",
       "fam_status                      0\n",
       "income                          0\n",
       "full_name                       0\n",
       "dtype: int64"
      ]
     },
     "execution_count": 22,
     "metadata": {},
     "output_type": "execute_result"
    }
   ],
   "source": [
    "# Count the Missing values per column\n",
    "df.isnull().sum()"
   ]
  },
  {
   "cell_type": "code",
   "execution_count": 23,
   "id": "2e994b7d-8057-4307-ae56-203ffa210927",
   "metadata": {
    "scrolled": true
   },
   "outputs": [
    {
     "data": {
      "text/html": [
       "<div>\n",
       "<style scoped>\n",
       "    .dataframe tbody tr th:only-of-type {\n",
       "        vertical-align: middle;\n",
       "    }\n",
       "\n",
       "    .dataframe tbody tr th {\n",
       "        vertical-align: top;\n",
       "    }\n",
       "\n",
       "    .dataframe thead th {\n",
       "        text-align: right;\n",
       "    }\n",
       "</style>\n",
       "<table border=\"1\" class=\"dataframe\">\n",
       "  <thead>\n",
       "    <tr style=\"text-align: right;\">\n",
       "      <th></th>\n",
       "      <th>order_id</th>\n",
       "      <th>user_id</th>\n",
       "      <th>order_number</th>\n",
       "      <th>orders_day_of_week</th>\n",
       "      <th>order_hour_of_day</th>\n",
       "      <th>days_since_prior_order</th>\n",
       "      <th>product_id</th>\n",
       "      <th>add_to_cart_order</th>\n",
       "      <th>reordered</th>\n",
       "      <th>product_name</th>\n",
       "      <th>...</th>\n",
       "      <th>order_spend_flag</th>\n",
       "      <th>customer_freq</th>\n",
       "      <th>customer_freq_flag</th>\n",
       "      <th>gender</th>\n",
       "      <th>state</th>\n",
       "      <th>age</th>\n",
       "      <th>n_dependants</th>\n",
       "      <th>fam_status</th>\n",
       "      <th>income</th>\n",
       "      <th>full_name</th>\n",
       "    </tr>\n",
       "  </thead>\n",
       "  <tbody>\n",
       "    <tr>\n",
       "      <th>25156870</th>\n",
       "      <td>895835</td>\n",
       "      <td>159838</td>\n",
       "      <td>1</td>\n",
       "      <td>0</td>\n",
       "      <td>17</td>\n",
       "      <td>NaN</td>\n",
       "      <td>22198</td>\n",
       "      <td>1</td>\n",
       "      <td>0</td>\n",
       "      <td>4X Ultra Concentrated Natural Laundry Detergen...</td>\n",
       "      <td>...</td>\n",
       "      <td>Lower Spender</td>\n",
       "      <td>NaN</td>\n",
       "      <td>NaN</td>\n",
       "      <td>Male</td>\n",
       "      <td>Arkansas</td>\n",
       "      <td>63</td>\n",
       "      <td>3</td>\n",
       "      <td>married</td>\n",
       "      <td>140994</td>\n",
       "      <td>Jason Nava</td>\n",
       "    </tr>\n",
       "    <tr>\n",
       "      <th>25156871</th>\n",
       "      <td>895835</td>\n",
       "      <td>159838</td>\n",
       "      <td>1</td>\n",
       "      <td>0</td>\n",
       "      <td>17</td>\n",
       "      <td>NaN</td>\n",
       "      <td>23695</td>\n",
       "      <td>2</td>\n",
       "      <td>0</td>\n",
       "      <td>California Veggie Burger</td>\n",
       "      <td>...</td>\n",
       "      <td>Lower Spender</td>\n",
       "      <td>NaN</td>\n",
       "      <td>NaN</td>\n",
       "      <td>Male</td>\n",
       "      <td>Arkansas</td>\n",
       "      <td>63</td>\n",
       "      <td>3</td>\n",
       "      <td>married</td>\n",
       "      <td>140994</td>\n",
       "      <td>Jason Nava</td>\n",
       "    </tr>\n",
       "    <tr>\n",
       "      <th>25156872</th>\n",
       "      <td>895835</td>\n",
       "      <td>159838</td>\n",
       "      <td>1</td>\n",
       "      <td>0</td>\n",
       "      <td>17</td>\n",
       "      <td>NaN</td>\n",
       "      <td>10749</td>\n",
       "      <td>3</td>\n",
       "      <td>0</td>\n",
       "      <td>Organic Red Bell Pepper</td>\n",
       "      <td>...</td>\n",
       "      <td>Lower Spender</td>\n",
       "      <td>NaN</td>\n",
       "      <td>NaN</td>\n",
       "      <td>Male</td>\n",
       "      <td>Arkansas</td>\n",
       "      <td>63</td>\n",
       "      <td>3</td>\n",
       "      <td>married</td>\n",
       "      <td>140994</td>\n",
       "      <td>Jason Nava</td>\n",
       "    </tr>\n",
       "    <tr>\n",
       "      <th>25156873</th>\n",
       "      <td>895835</td>\n",
       "      <td>159838</td>\n",
       "      <td>1</td>\n",
       "      <td>0</td>\n",
       "      <td>17</td>\n",
       "      <td>NaN</td>\n",
       "      <td>21334</td>\n",
       "      <td>5</td>\n",
       "      <td>0</td>\n",
       "      <td>Organic Peeled Garlic</td>\n",
       "      <td>...</td>\n",
       "      <td>Lower Spender</td>\n",
       "      <td>NaN</td>\n",
       "      <td>NaN</td>\n",
       "      <td>Male</td>\n",
       "      <td>Arkansas</td>\n",
       "      <td>63</td>\n",
       "      <td>3</td>\n",
       "      <td>married</td>\n",
       "      <td>140994</td>\n",
       "      <td>Jason Nava</td>\n",
       "    </tr>\n",
       "    <tr>\n",
       "      <th>25156874</th>\n",
       "      <td>895835</td>\n",
       "      <td>159838</td>\n",
       "      <td>1</td>\n",
       "      <td>0</td>\n",
       "      <td>17</td>\n",
       "      <td>NaN</td>\n",
       "      <td>33401</td>\n",
       "      <td>6</td>\n",
       "      <td>0</td>\n",
       "      <td>Goat Cheese Crumbles</td>\n",
       "      <td>...</td>\n",
       "      <td>Lower Spender</td>\n",
       "      <td>NaN</td>\n",
       "      <td>NaN</td>\n",
       "      <td>Male</td>\n",
       "      <td>Arkansas</td>\n",
       "      <td>63</td>\n",
       "      <td>3</td>\n",
       "      <td>married</td>\n",
       "      <td>140994</td>\n",
       "      <td>Jason Nava</td>\n",
       "    </tr>\n",
       "  </tbody>\n",
       "</table>\n",
       "<p>5 rows × 32 columns</p>\n",
       "</div>"
      ],
      "text/plain": [
       "          order_id  user_id  order_number  orders_day_of_week  \\\n",
       "25156870    895835   159838             1                   0   \n",
       "25156871    895835   159838             1                   0   \n",
       "25156872    895835   159838             1                   0   \n",
       "25156873    895835   159838             1                   0   \n",
       "25156874    895835   159838             1                   0   \n",
       "\n",
       "          order_hour_of_day  days_since_prior_order  product_id  \\\n",
       "25156870                 17                     NaN       22198   \n",
       "25156871                 17                     NaN       23695   \n",
       "25156872                 17                     NaN       10749   \n",
       "25156873                 17                     NaN       21334   \n",
       "25156874                 17                     NaN       33401   \n",
       "\n",
       "          add_to_cart_order  reordered  \\\n",
       "25156870                  1          0   \n",
       "25156871                  2          0   \n",
       "25156872                  3          0   \n",
       "25156873                  5          0   \n",
       "25156874                  6          0   \n",
       "\n",
       "                                               product_name  ...  \\\n",
       "25156870  4X Ultra Concentrated Natural Laundry Detergen...  ...   \n",
       "25156871                           California Veggie Burger  ...   \n",
       "25156872                            Organic Red Bell Pepper  ...   \n",
       "25156873                              Organic Peeled Garlic  ...   \n",
       "25156874                               Goat Cheese Crumbles  ...   \n",
       "\n",
       "          order_spend_flag  customer_freq  customer_freq_flag gender  \\\n",
       "25156870     Lower Spender            NaN                 NaN   Male   \n",
       "25156871     Lower Spender            NaN                 NaN   Male   \n",
       "25156872     Lower Spender            NaN                 NaN   Male   \n",
       "25156873     Lower Spender            NaN                 NaN   Male   \n",
       "25156874     Lower Spender            NaN                 NaN   Male   \n",
       "\n",
       "             state age n_dependants  fam_status  income   full_name  \n",
       "25156870  Arkansas  63            3     married  140994  Jason Nava  \n",
       "25156871  Arkansas  63            3     married  140994  Jason Nava  \n",
       "25156872  Arkansas  63            3     married  140994  Jason Nava  \n",
       "25156873  Arkansas  63            3     married  140994  Jason Nava  \n",
       "25156874  Arkansas  63            3     married  140994  Jason Nava  \n",
       "\n",
       "[5 rows x 32 columns]"
      ]
     },
     "execution_count": 23,
     "metadata": {},
     "output_type": "execute_result"
    }
   ],
   "source": [
    "# Check for missing values in customer_freq and customer_freq_flag\n",
    "df[df[['customer_freq', 'customer_freq_flag']].isnull().any(axis=1)]"
   ]
  },
  {
   "cell_type": "code",
   "execution_count": 24,
   "id": "b6bd00a8-89bf-4802-bc5d-80ed17e05539",
   "metadata": {},
   "outputs": [
    {
     "data": {
      "text/html": [
       "<div>\n",
       "<style scoped>\n",
       "    .dataframe tbody tr th:only-of-type {\n",
       "        vertical-align: middle;\n",
       "    }\n",
       "\n",
       "    .dataframe tbody tr th {\n",
       "        vertical-align: top;\n",
       "    }\n",
       "\n",
       "    .dataframe thead th {\n",
       "        text-align: right;\n",
       "    }\n",
       "</style>\n",
       "<table border=\"1\" class=\"dataframe\">\n",
       "  <thead>\n",
       "    <tr style=\"text-align: right;\">\n",
       "      <th></th>\n",
       "      <th>order_id</th>\n",
       "      <th>user_id</th>\n",
       "      <th>order_number</th>\n",
       "      <th>orders_day_of_week</th>\n",
       "      <th>order_hour_of_day</th>\n",
       "      <th>days_since_prior_order</th>\n",
       "      <th>product_id</th>\n",
       "      <th>add_to_cart_order</th>\n",
       "      <th>reordered</th>\n",
       "      <th>product_name</th>\n",
       "      <th>...</th>\n",
       "      <th>order_spend_flag</th>\n",
       "      <th>customer_freq</th>\n",
       "      <th>customer_freq_flag</th>\n",
       "      <th>gender</th>\n",
       "      <th>state</th>\n",
       "      <th>age</th>\n",
       "      <th>n_dependants</th>\n",
       "      <th>fam_status</th>\n",
       "      <th>income</th>\n",
       "      <th>full_name</th>\n",
       "    </tr>\n",
       "  </thead>\n",
       "  <tbody>\n",
       "    <tr>\n",
       "      <th>25156870</th>\n",
       "      <td>895835</td>\n",
       "      <td>159838</td>\n",
       "      <td>1</td>\n",
       "      <td>0</td>\n",
       "      <td>17</td>\n",
       "      <td>NaN</td>\n",
       "      <td>22198</td>\n",
       "      <td>1</td>\n",
       "      <td>0</td>\n",
       "      <td>4X Ultra Concentrated Natural Laundry Detergen...</td>\n",
       "      <td>...</td>\n",
       "      <td>Lower Spender</td>\n",
       "      <td>NaN</td>\n",
       "      <td>NaN</td>\n",
       "      <td>Male</td>\n",
       "      <td>Arkansas</td>\n",
       "      <td>63</td>\n",
       "      <td>3</td>\n",
       "      <td>married</td>\n",
       "      <td>140994</td>\n",
       "      <td>Jason Nava</td>\n",
       "    </tr>\n",
       "    <tr>\n",
       "      <th>25156871</th>\n",
       "      <td>895835</td>\n",
       "      <td>159838</td>\n",
       "      <td>1</td>\n",
       "      <td>0</td>\n",
       "      <td>17</td>\n",
       "      <td>NaN</td>\n",
       "      <td>23695</td>\n",
       "      <td>2</td>\n",
       "      <td>0</td>\n",
       "      <td>California Veggie Burger</td>\n",
       "      <td>...</td>\n",
       "      <td>Lower Spender</td>\n",
       "      <td>NaN</td>\n",
       "      <td>NaN</td>\n",
       "      <td>Male</td>\n",
       "      <td>Arkansas</td>\n",
       "      <td>63</td>\n",
       "      <td>3</td>\n",
       "      <td>married</td>\n",
       "      <td>140994</td>\n",
       "      <td>Jason Nava</td>\n",
       "    </tr>\n",
       "    <tr>\n",
       "      <th>25156872</th>\n",
       "      <td>895835</td>\n",
       "      <td>159838</td>\n",
       "      <td>1</td>\n",
       "      <td>0</td>\n",
       "      <td>17</td>\n",
       "      <td>NaN</td>\n",
       "      <td>10749</td>\n",
       "      <td>3</td>\n",
       "      <td>0</td>\n",
       "      <td>Organic Red Bell Pepper</td>\n",
       "      <td>...</td>\n",
       "      <td>Lower Spender</td>\n",
       "      <td>NaN</td>\n",
       "      <td>NaN</td>\n",
       "      <td>Male</td>\n",
       "      <td>Arkansas</td>\n",
       "      <td>63</td>\n",
       "      <td>3</td>\n",
       "      <td>married</td>\n",
       "      <td>140994</td>\n",
       "      <td>Jason Nava</td>\n",
       "    </tr>\n",
       "    <tr>\n",
       "      <th>25156873</th>\n",
       "      <td>895835</td>\n",
       "      <td>159838</td>\n",
       "      <td>1</td>\n",
       "      <td>0</td>\n",
       "      <td>17</td>\n",
       "      <td>NaN</td>\n",
       "      <td>21334</td>\n",
       "      <td>5</td>\n",
       "      <td>0</td>\n",
       "      <td>Organic Peeled Garlic</td>\n",
       "      <td>...</td>\n",
       "      <td>Lower Spender</td>\n",
       "      <td>NaN</td>\n",
       "      <td>NaN</td>\n",
       "      <td>Male</td>\n",
       "      <td>Arkansas</td>\n",
       "      <td>63</td>\n",
       "      <td>3</td>\n",
       "      <td>married</td>\n",
       "      <td>140994</td>\n",
       "      <td>Jason Nava</td>\n",
       "    </tr>\n",
       "    <tr>\n",
       "      <th>25156874</th>\n",
       "      <td>895835</td>\n",
       "      <td>159838</td>\n",
       "      <td>1</td>\n",
       "      <td>0</td>\n",
       "      <td>17</td>\n",
       "      <td>NaN</td>\n",
       "      <td>33401</td>\n",
       "      <td>6</td>\n",
       "      <td>0</td>\n",
       "      <td>Goat Cheese Crumbles</td>\n",
       "      <td>...</td>\n",
       "      <td>Lower Spender</td>\n",
       "      <td>NaN</td>\n",
       "      <td>NaN</td>\n",
       "      <td>Male</td>\n",
       "      <td>Arkansas</td>\n",
       "      <td>63</td>\n",
       "      <td>3</td>\n",
       "      <td>married</td>\n",
       "      <td>140994</td>\n",
       "      <td>Jason Nava</td>\n",
       "    </tr>\n",
       "  </tbody>\n",
       "</table>\n",
       "<p>5 rows × 32 columns</p>\n",
       "</div>"
      ],
      "text/plain": [
       "          order_id  user_id  order_number  orders_day_of_week  \\\n",
       "25156870    895835   159838             1                   0   \n",
       "25156871    895835   159838             1                   0   \n",
       "25156872    895835   159838             1                   0   \n",
       "25156873    895835   159838             1                   0   \n",
       "25156874    895835   159838             1                   0   \n",
       "\n",
       "          order_hour_of_day  days_since_prior_order  product_id  \\\n",
       "25156870                 17                     NaN       22198   \n",
       "25156871                 17                     NaN       23695   \n",
       "25156872                 17                     NaN       10749   \n",
       "25156873                 17                     NaN       21334   \n",
       "25156874                 17                     NaN       33401   \n",
       "\n",
       "          add_to_cart_order  reordered  \\\n",
       "25156870                  1          0   \n",
       "25156871                  2          0   \n",
       "25156872                  3          0   \n",
       "25156873                  5          0   \n",
       "25156874                  6          0   \n",
       "\n",
       "                                               product_name  ...  \\\n",
       "25156870  4X Ultra Concentrated Natural Laundry Detergen...  ...   \n",
       "25156871                           California Veggie Burger  ...   \n",
       "25156872                            Organic Red Bell Pepper  ...   \n",
       "25156873                              Organic Peeled Garlic  ...   \n",
       "25156874                               Goat Cheese Crumbles  ...   \n",
       "\n",
       "          order_spend_flag  customer_freq  customer_freq_flag gender  \\\n",
       "25156870     Lower Spender            NaN                 NaN   Male   \n",
       "25156871     Lower Spender            NaN                 NaN   Male   \n",
       "25156872     Lower Spender            NaN                 NaN   Male   \n",
       "25156873     Lower Spender            NaN                 NaN   Male   \n",
       "25156874     Lower Spender            NaN                 NaN   Male   \n",
       "\n",
       "             state age n_dependants  fam_status  income   full_name  \n",
       "25156870  Arkansas  63            3     married  140994  Jason Nava  \n",
       "25156871  Arkansas  63            3     married  140994  Jason Nava  \n",
       "25156872  Arkansas  63            3     married  140994  Jason Nava  \n",
       "25156873  Arkansas  63            3     married  140994  Jason Nava  \n",
       "25156874  Arkansas  63            3     married  140994  Jason Nava  \n",
       "\n",
       "[5 rows x 32 columns]"
      ]
     },
     "execution_count": 24,
     "metadata": {},
     "output_type": "execute_result"
    }
   ],
   "source": [
    "# Show user to deep dive into frequency\n",
    "df[df['user_id'] == 159838]"
   ]
  },
  {
   "cell_type": "markdown",
   "id": "a17488b8-c37a-447c-94d5-b22cc9f0a366",
   "metadata": {},
   "source": [
    "Seems like this user only used instacart 1 time and should have a frequency of 0.0 and a frequency flag of Non-Frequent Customer"
   ]
  },
  {
   "cell_type": "code",
   "execution_count": 25,
   "id": "e774130f-bd47-4ba1-9846-6e407a7dfd99",
   "metadata": {},
   "outputs": [],
   "source": [
    "# Change all the values in the customer_freq column of user_id 159838\n",
    "df.loc[df['user_id'] == 159838, 'customer_freq'] = 0.0"
   ]
  },
  {
   "cell_type": "code",
   "execution_count": 26,
   "id": "cd581792-ed25-41fa-87c9-e54eb25d308a",
   "metadata": {},
   "outputs": [],
   "source": [
    "# Change all the values in the customer_freq_flag column of user_id 159838\n",
    "df.loc[df['user_id'] == 159838, 'customer_freq_flag'] = 'Non-Frequent Customer'"
   ]
  },
  {
   "cell_type": "code",
   "execution_count": 27,
   "id": "8f50bd78-f535-47ff-8e0b-e6f6811a3314",
   "metadata": {
    "scrolled": true
   },
   "outputs": [
    {
     "data": {
      "text/plain": [
       "order_id                  1\n",
       "user_id                   1\n",
       "order_number              1\n",
       "orders_day_of_week        1\n",
       "order_hour_of_day         1\n",
       "days_since_prior_order    1\n",
       "product_id                1\n",
       "add_to_cart_order         1\n",
       "reordered                 1\n",
       "product_name              1\n",
       "aisle_id                  1\n",
       "department_id             1\n",
       "prices                    1\n",
       "price_range_loc           1\n",
       "daily_frequency           1\n",
       "new_daily_frequency       1\n",
       "busiest_period_of_day     1\n",
       "max_order                 1\n",
       "loyalty_flag              1\n",
       "average_spend_item        1\n",
       "spnd_itm_price_flag       1\n",
       "total_order_spend         1\n",
       "order_spend_flag          1\n",
       "customer_freq             1\n",
       "customer_freq_flag        1\n",
       "gender                    1\n",
       "state                     1\n",
       "age                       1\n",
       "n_dependants              1\n",
       "fam_status                1\n",
       "income                    1\n",
       "full_name                 1\n",
       "dtype: int64"
      ]
     },
     "execution_count": 27,
     "metadata": {},
     "output_type": "execute_result"
    }
   ],
   "source": [
    "# Check for mixed Data Types\n",
    "df.apply(lambda col: col.map(type).nunique())"
   ]
  },
  {
   "cell_type": "code",
   "execution_count": 29,
   "id": "68836774-4619-4073-b0e3-c82840b63e7c",
   "metadata": {
    "scrolled": true
   },
   "outputs": [
    {
     "data": {
      "text/plain": [
       "order_id                        0\n",
       "user_id                         0\n",
       "order_number                    0\n",
       "orders_day_of_week              0\n",
       "order_hour_of_day               0\n",
       "days_since_prior_order    2076096\n",
       "product_id                      0\n",
       "add_to_cart_order               0\n",
       "reordered                       0\n",
       "product_name                    0\n",
       "aisle_id                        0\n",
       "department_id                   0\n",
       "prices                          0\n",
       "price_range_loc                 0\n",
       "daily_frequency                 0\n",
       "new_daily_frequency             0\n",
       "busiest_period_of_day           0\n",
       "max_order                       0\n",
       "loyalty_flag                    0\n",
       "average_spend_item              0\n",
       "spnd_itm_price_flag             0\n",
       "total_order_spend               0\n",
       "order_spend_flag                0\n",
       "customer_freq                   0\n",
       "customer_freq_flag              0\n",
       "gender                          0\n",
       "state                           0\n",
       "age                             0\n",
       "n_dependants                    0\n",
       "fam_status                      0\n",
       "income                          0\n",
       "full_name                       0\n",
       "dtype: int64"
      ]
     },
     "execution_count": 29,
     "metadata": {},
     "output_type": "execute_result"
    }
   ],
   "source": [
    "# Count the Missing values per column again\n",
    "df.isnull().sum()"
   ]
  },
  {
   "cell_type": "markdown",
   "id": "7d0ed897-4760-45ab-800b-5fcb9d5ab8fc",
   "metadata": {},
   "source": [
    "# Export Data"
   ]
  },
  {
   "cell_type": "code",
   "execution_count": 31,
   "id": "bf0d44f4-3873-4ea4-ad66-9b4eb8600fcc",
   "metadata": {},
   "outputs": [],
   "source": [
    "df.to_pickle(os.path.join(path, '02_Data', 'Prepared Data', 'instacart_dataset.pkl'))"
   ]
  },
  {
   "cell_type": "code",
   "execution_count": null,
   "id": "d50aae4d-a52a-47ce-97e2-32ad4b4e3949",
   "metadata": {},
   "outputs": [],
   "source": []
  }
 ],
 "metadata": {
  "kernelspec": {
   "display_name": "Python 3 (ipykernel)",
   "language": "python",
   "name": "python3"
  },
  "language_info": {
   "codemirror_mode": {
    "name": "ipython",
    "version": 3
   },
   "file_extension": ".py",
   "mimetype": "text/x-python",
   "name": "python",
   "nbconvert_exporter": "python",
   "pygments_lexer": "ipython3",
   "version": "3.12.7"
  }
 },
 "nbformat": 4,
 "nbformat_minor": 5
}
