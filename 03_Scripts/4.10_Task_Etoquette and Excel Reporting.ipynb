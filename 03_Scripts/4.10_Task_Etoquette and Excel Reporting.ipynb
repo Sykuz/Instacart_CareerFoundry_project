{
 "cells": [
  {
   "cell_type": "markdown",
   "id": "3f413053-8533-4426-8840-fe8b66ea409f",
   "metadata": {},
   "source": [
    "# 00. Contents"
   ]
  },
  {
   "cell_type": "markdown",
   "id": "0b9c83db-4330-41d5-87ac-b10e14fa08d9",
   "metadata": {},
   "source": [
    "01. Importing Libraries\n",
    "02. Importing Data\n",
    "03. PPI Consideration\n",
    "04. Creating a Regional Column\n",
    "05. Determining Spending by Region\n",
    "06. Creating an Exclusion Flag\n",
    "07. Marketing Strategies -\n",
    "       Age Profile,\n",
    "       Age Group Loyalty,\n",
    "       Age Dependant Profile,\n",
    "       Income Profile,\n",
    "       Department Profile,\n",
    "       Time Pattern Profile\n",
    "08. Customer Profile Aggregation\n",
    "09. Comparing Customer Profile with Region and Department\n",
    "10. Export DF "
   ]
  },
  {
   "cell_type": "markdown",
   "id": "8e7d8b4b-1cd0-4abb-9bc5-01da5fa50316",
   "metadata": {},
   "source": [
    "# 01. Importing Libraries"
   ]
  },
  {
   "cell_type": "code",
   "execution_count": 1,
   "id": "e35efcc7-c8a9-486b-bee5-1dfd512339e6",
   "metadata": {},
   "outputs": [],
   "source": [
    "import pandas as pd\n",
    "import numpy as np\n",
    "import os\n",
    "import seaborn as sns\n",
    "import matplotlib.pyplot as plt\n",
    "import scipy"
   ]
  },
  {
   "cell_type": "markdown",
   "id": "b4cbe584-9fd6-4660-b843-99d63559fdf5",
   "metadata": {},
   "source": [
    "# 02. Importing Data"
   ]
  },
  {
   "cell_type": "code",
   "execution_count": 2,
   "id": "9ef38f6f-a9e9-4a5d-8b5c-1888eb654029",
   "metadata": {},
   "outputs": [],
   "source": [
    "path = r'C:\\Users\\esteb\\OneDrive\\Desktop\\2025_Instacart Basket Analysis'"
   ]
  },
  {
   "cell_type": "code",
   "execution_count": 3,
   "id": "d680dfd1-c3f6-468d-bfa9-93e7c60c177e",
   "metadata": {},
   "outputs": [],
   "source": [
    "df = pd.read_pickle(os.path.join(path, '02_Data', 'Prepared Data', 'instacart_dataset.pkl'))"
   ]
  },
  {
   "cell_type": "markdown",
   "id": "b8d97a4b-908b-4826-84f0-0865dc61b853",
   "metadata": {},
   "source": [
    "# 03. Personally Identifiable Information (PII) Consideration"
   ]
  },
  {
   "cell_type": "code",
   "execution_count": 4,
   "id": "a8467d0c-4166-4386-ab55-040def7d81bb",
   "metadata": {},
   "outputs": [
    {
     "data": {
      "text/plain": [
       "Index(['order_id', 'user_id', 'order_number', 'orders_day_of_week',\n",
       "       'order_hour_of_day', 'days_since_prior_order', 'product_id',\n",
       "       'add_to_cart_order', 'reordered', 'product_name', 'aisle_id',\n",
       "       'department_id', 'prices', 'price_range_loc', 'daily_frequency',\n",
       "       'new_daily_frequency', 'busiest_period_of_day', 'max_order',\n",
       "       'loyalty_flag', 'average_spend_item', 'spnd_itm_price_flag',\n",
       "       'total_order_spend', 'order_spend_flag', 'customer_freq',\n",
       "       'customer_freq_flag', 'gender', 'state', 'age', 'n_dependants',\n",
       "       'fam_status', 'income', 'full_name'],\n",
       "      dtype='object')"
      ]
     },
     "execution_count": 4,
     "metadata": {},
     "output_type": "execute_result"
    }
   ],
   "source": [
    "df.columns"
   ]
  },
  {
   "cell_type": "markdown",
   "id": "5fdec9cc-b851-4e35-807a-41c4986728eb",
   "metadata": {},
   "source": [
    "The only potential source of personal identiafiable information I see is the customers full name."
   ]
  },
  {
   "cell_type": "markdown",
   "id": "9a0b2d0d-fa52-45eb-9a37-d18fe51b59d7",
   "metadata": {},
   "source": [
    "# 04. Creating a Regional Column"
   ]
  },
  {
   "cell_type": "code",
   "execution_count": 5,
   "id": "f6469ed2-6b66-4ce7-bd16-f16a06afefec",
   "metadata": {},
   "outputs": [
    {
     "data": {
      "text/plain": [
       "0"
      ]
     },
     "execution_count": 5,
     "metadata": {},
     "output_type": "execute_result"
    }
   ],
   "source": [
    "# Missing values\n",
    "df['state'].isnull().sum()"
   ]
  },
  {
   "cell_type": "code",
   "execution_count": 6,
   "id": "2bcde57d-488a-4f3b-b21f-1999bded8497",
   "metadata": {},
   "outputs": [],
   "source": [
    "# Normalize states to make them uniform\n",
    "df['state'] = df['state'].str.title().str.strip()"
   ]
  },
  {
   "cell_type": "code",
   "execution_count": 7,
   "id": "bb07e1a6-fbf8-4c1a-977e-919738c64c5c",
   "metadata": {},
   "outputs": [],
   "source": [
    "# Define region mappings\n",
    "region_map = {\n",
    "    # Region 1 (Northeast)\n",
    "    'Maine': 'Northeast',\n",
    "    'New Hampshire': 'Northeast',\n",
    "    'Vermont': 'Northeast',\n",
    "    'Massachusetts': 'Northeast',\n",
    "    'Rhode Island': 'Northeast',\n",
    "    'Connecticut': 'Northeast',\n",
    "    'New York': 'Northeast',\n",
    "    'Pennsylvania': 'Northeast',\n",
    "    'New Jersey': 'Northeast',\n",
    "\n",
    "    # Region 2 (Midwest)\n",
    "    'Wisconsin': 'Midwest',\n",
    "    'Michigan': 'Midwest',\n",
    "    'Illinois': 'Midwest',\n",
    "    'Indiana': 'Midwest',\n",
    "    'Ohio': 'Midwest',\n",
    "    'North Dakota': 'Midwest',\n",
    "    'South Dakota': 'Midwest',\n",
    "    'Nebraska': 'Midwest',\n",
    "    'Kansas': 'Midwest',\n",
    "    'Minnesota': 'Midwest',\n",
    "    'Iowa': 'Midwest',\n",
    "    'Missouri': 'Midwest',\n",
    "\n",
    "    # Region 3 (South)\n",
    "    'Delaware': 'South',\n",
    "    'Maryland': 'South',\n",
    "    'District of Columbia': 'South',\n",
    "    'Virginia': 'South',\n",
    "    'West Virginia': 'South',\n",
    "    'North Carolina': 'South',\n",
    "    'South Carolina': 'South',\n",
    "    'Georgia': 'South',\n",
    "    'Florida': 'South',\n",
    "    'Kentucky': 'South',\n",
    "    'Tennessee': 'South',\n",
    "    'Mississippi': 'South',\n",
    "    'Alabama': 'South',\n",
    "    'Oklahoma': 'South',\n",
    "    'Texas': 'South',\n",
    "    'Arkansas': 'South',\n",
    "    'Louisiana': 'South',\n",
    "\n",
    "    # Region 4 (West)\n",
    "    'Idaho': 'West',\n",
    "    'Montana': 'West',\n",
    "    'Wyoming': 'West',\n",
    "    'Nevada': 'West',\n",
    "    'Utah': 'West',\n",
    "    'Colorado': 'West',\n",
    "    'Arizona': 'West',\n",
    "    'New Mexico': 'West',\n",
    "    'Alaska': 'West',\n",
    "    'Washington': 'West',\n",
    "    'Oregon': 'West',\n",
    "    'California': 'West',\n",
    "    'Hawaii': 'West'\n",
    "}"
   ]
  },
  {
   "cell_type": "code",
   "execution_count": 8,
   "id": "9fc686b5-9530-4270-9139-caeba8968894",
   "metadata": {},
   "outputs": [],
   "source": [
    "# Create new region column\n",
    "df['region'] = df['state'].map(region_map)"
   ]
  },
  {
   "cell_type": "markdown",
   "id": "53597b5d-79de-4247-a994-ed50ee5b723a",
   "metadata": {},
   "source": [
    "# 05. Determining Spending By Region"
   ]
  },
  {
   "cell_type": "code",
   "execution_count": 9,
   "id": "1b2a71f9-9e04-47a6-9872-e94074a43202",
   "metadata": {
    "scrolled": true
   },
   "outputs": [
    {
     "data": {
      "text/html": [
       "<div>\n",
       "<style scoped>\n",
       "    .dataframe tbody tr th:only-of-type {\n",
       "        vertical-align: middle;\n",
       "    }\n",
       "\n",
       "    .dataframe tbody tr th {\n",
       "        vertical-align: top;\n",
       "    }\n",
       "\n",
       "    .dataframe thead th {\n",
       "        text-align: right;\n",
       "    }\n",
       "</style>\n",
       "<table border=\"1\" class=\"dataframe\">\n",
       "  <thead>\n",
       "    <tr style=\"text-align: right;\">\n",
       "      <th>order_spend_flag</th>\n",
       "      <th>Higher Spender</th>\n",
       "      <th>Lower Spender</th>\n",
       "    </tr>\n",
       "    <tr>\n",
       "      <th>region</th>\n",
       "      <th></th>\n",
       "      <th></th>\n",
       "    </tr>\n",
       "  </thead>\n",
       "  <tbody>\n",
       "    <tr>\n",
       "      <th>Midwest</th>\n",
       "      <td>6465276</td>\n",
       "      <td>1132049</td>\n",
       "    </tr>\n",
       "    <tr>\n",
       "      <th>Northeast</th>\n",
       "      <td>4876766</td>\n",
       "      <td>845970</td>\n",
       "    </tr>\n",
       "    <tr>\n",
       "      <th>South</th>\n",
       "      <td>8668525</td>\n",
       "      <td>1509665</td>\n",
       "    </tr>\n",
       "    <tr>\n",
       "      <th>West</th>\n",
       "      <td>7066952</td>\n",
       "      <td>1225961</td>\n",
       "    </tr>\n",
       "  </tbody>\n",
       "</table>\n",
       "</div>"
      ],
      "text/plain": [
       "order_spend_flag  Higher Spender  Lower Spender\n",
       "region                                         \n",
       "Midwest                  6465276        1132049\n",
       "Northeast                4876766         845970\n",
       "South                    8668525        1509665\n",
       "West                     7066952        1225961"
      ]
     },
     "execution_count": 9,
     "metadata": {},
     "output_type": "execute_result"
    }
   ],
   "source": [
    "# Spending Flag Count by region\n",
    "pd.crosstab(df['region'], df['order_spend_flag'])"
   ]
  },
  {
   "cell_type": "markdown",
   "id": "5fcc92e4-8db5-4c5a-971e-20fc6cbdda84",
   "metadata": {},
   "source": [
    "Using the spend flag is a great starting point but I want to view the monetary value of what was actually spent to see if it makes a difference. I would asssume that more orders is in fact going to lead to a higher spending amount."
   ]
  },
  {
   "cell_type": "code",
   "execution_count": 10,
   "id": "d852d171-5aca-4459-a9d6-865a5744398a",
   "metadata": {},
   "outputs": [
    {
     "data": {
      "text/html": [
       "<style type=\"text/css\">\n",
       "</style>\n",
       "<table id=\"T_55377\">\n",
       "  <thead>\n",
       "    <tr>\n",
       "      <th class=\"index_name level0\" >order_spend_flag</th>\n",
       "      <th id=\"T_55377_level0_col0\" class=\"col_heading level0 col0\" >Higher Spender</th>\n",
       "      <th id=\"T_55377_level0_col1\" class=\"col_heading level0 col1\" >Lower Spender</th>\n",
       "    </tr>\n",
       "    <tr>\n",
       "      <th class=\"index_name level0\" >region</th>\n",
       "      <th class=\"blank col0\" >&nbsp;</th>\n",
       "      <th class=\"blank col1\" >&nbsp;</th>\n",
       "    </tr>\n",
       "  </thead>\n",
       "  <tbody>\n",
       "    <tr>\n",
       "      <th id=\"T_55377_level0_row0\" class=\"row_heading level0 row0\" >Midwest</th>\n",
       "      <td id=\"T_55377_row0_col0\" class=\"data row0 col0\" >$889,597,542.50</td>\n",
       "      <td id=\"T_55377_row0_col1\" class=\"data row0 col1\" >$37,400,031.70</td>\n",
       "    </tr>\n",
       "    <tr>\n",
       "      <th id=\"T_55377_level0_row1\" class=\"row_heading level0 row1\" >Northeast</th>\n",
       "      <td id=\"T_55377_row1_col0\" class=\"data row1 col0\" >$670,768,593.60</td>\n",
       "      <td id=\"T_55377_row1_col1\" class=\"data row1 col1\" >$27,871,855.30</td>\n",
       "    </tr>\n",
       "    <tr>\n",
       "      <th id=\"T_55377_level0_row2\" class=\"row_heading level0 row2\" >South</th>\n",
       "      <td id=\"T_55377_row2_col0\" class=\"data row2 col0\" >$1,196,839,738.20</td>\n",
       "      <td id=\"T_55377_row2_col1\" class=\"data row2 col1\" >$49,791,550.90</td>\n",
       "    </tr>\n",
       "    <tr>\n",
       "      <th id=\"T_55377_level0_row3\" class=\"row_heading level0 row3\" >West</th>\n",
       "      <td id=\"T_55377_row3_col0\" class=\"data row3 col0\" >$971,334,723.80</td>\n",
       "      <td id=\"T_55377_row3_col1\" class=\"data row3 col1\" >$40,414,713.30</td>\n",
       "    </tr>\n",
       "  </tbody>\n",
       "</table>\n"
      ],
      "text/plain": [
       "<pandas.io.formats.style.Styler at 0x208f917bf80>"
      ]
     },
     "execution_count": 10,
     "metadata": {},
     "output_type": "execute_result"
    }
   ],
   "source": [
    "# Total Money spent by each region split up by spender flag\n",
    "df.pivot_table(\n",
    "    values='total_order_spend',\n",
    "    index='region',\n",
    "    columns='order_spend_flag',\n",
    "    aggfunc='sum'\n",
    ").style.format('${:,.2f}')\n"
   ]
  },
  {
   "cell_type": "markdown",
   "id": "f5123a26-4fb8-430c-9c9a-25b3ab4e3b9c",
   "metadata": {},
   "source": [
    "For both the Higher Spender and the Lower Spender flag most money is spent in the South, West, Midwest, and finally Northeast."
   ]
  },
  {
   "cell_type": "markdown",
   "id": "8fc734c3-fc82-4833-9005-adce9f9167a6",
   "metadata": {},
   "source": [
    "# 06. Creating an Exclusion Flag"
   ]
  },
  {
   "cell_type": "code",
   "execution_count": 11,
   "id": "c6b6bc8b-cf55-4428-a0cb-ba68d9977b2e",
   "metadata": {},
   "outputs": [],
   "source": [
    "# Create a flag column of customer activity based on max orders\n",
    "df.loc[df['max_order'] < 5, 'customer_activity'] = 'LOW'\n",
    "df.loc[df['max_order'] >= 5, 'customer_activity'] = 'HIGH'"
   ]
  },
  {
   "cell_type": "code",
   "execution_count": 12,
   "id": "e9676750-4fb3-4892-8a14-c5e49a00aab0",
   "metadata": {},
   "outputs": [
    {
     "data": {
      "text/plain": [
       "32404859"
      ]
     },
     "execution_count": 12,
     "metadata": {},
     "output_type": "execute_result"
    }
   ],
   "source": [
    "# Check dataframe row count\n",
    "len(df)"
   ]
  },
  {
   "cell_type": "code",
   "execution_count": 13,
   "id": "3eb87922-922a-4478-9fd5-fb63c7248e94",
   "metadata": {
    "scrolled": true
   },
   "outputs": [
    {
     "data": {
      "text/plain": [
       "customer_activity\n",
       "HIGH    30964564\n",
       "LOW      1440295\n",
       "Name: count, dtype: int64"
      ]
     },
     "execution_count": 13,
     "metadata": {},
     "output_type": "execute_result"
    }
   ],
   "source": [
    "# Count the frequency of customer activity\n",
    "df['customer_activity'].value_counts()"
   ]
  },
  {
   "cell_type": "code",
   "execution_count": 14,
   "id": "46ffe684-ed71-4969-a62f-8c64ba90dd75",
   "metadata": {},
   "outputs": [],
   "source": [
    "# Create dataframe of high activity customers per user_id\n",
    "df_high_activity = df[df['customer_activity'] == 'HIGH']"
   ]
  },
  {
   "cell_type": "code",
   "execution_count": 15,
   "id": "7a5dc464-3f4c-40e0-b58f-80867f422ead",
   "metadata": {},
   "outputs": [
    {
     "data": {
      "text/plain": [
       "customer_activity\n",
       "HIGH    30964564\n",
       "Name: count, dtype: int64"
      ]
     },
     "execution_count": 15,
     "metadata": {},
     "output_type": "execute_result"
    }
   ],
   "source": [
    "# Count frequency of high activity\n",
    "df_high_activity['customer_activity'].value_counts()"
   ]
  },
  {
   "cell_type": "markdown",
   "id": "db1fdfb3-fb34-44fc-b6f9-64d64c8b04a5",
   "metadata": {},
   "source": [
    "#### Extra "
   ]
  },
  {
   "cell_type": "code",
   "execution_count": 16,
   "id": "ef94a6d9-589d-4682-b7e5-e81ba596fc0c",
   "metadata": {},
   "outputs": [
    {
     "data": {
      "text/html": [
       "<div>\n",
       "<style scoped>\n",
       "    .dataframe tbody tr th:only-of-type {\n",
       "        vertical-align: middle;\n",
       "    }\n",
       "\n",
       "    .dataframe tbody tr th {\n",
       "        vertical-align: top;\n",
       "    }\n",
       "\n",
       "    .dataframe thead th {\n",
       "        text-align: right;\n",
       "    }\n",
       "</style>\n",
       "<table border=\"1\" class=\"dataframe\">\n",
       "  <thead>\n",
       "    <tr style=\"text-align: right;\">\n",
       "      <th></th>\n",
       "      <th>user_id</th>\n",
       "      <th>customer_activity</th>\n",
       "    </tr>\n",
       "  </thead>\n",
       "  <tbody>\n",
       "    <tr>\n",
       "      <th>0</th>\n",
       "      <td>1</td>\n",
       "      <td>HIGH</td>\n",
       "    </tr>\n",
       "    <tr>\n",
       "      <th>1</th>\n",
       "      <td>2</td>\n",
       "      <td>HIGH</td>\n",
       "    </tr>\n",
       "    <tr>\n",
       "      <th>2</th>\n",
       "      <td>3</td>\n",
       "      <td>HIGH</td>\n",
       "    </tr>\n",
       "    <tr>\n",
       "      <th>3</th>\n",
       "      <td>4</td>\n",
       "      <td>HIGH</td>\n",
       "    </tr>\n",
       "    <tr>\n",
       "      <th>4</th>\n",
       "      <td>5</td>\n",
       "      <td>LOW</td>\n",
       "    </tr>\n",
       "  </tbody>\n",
       "</table>\n",
       "</div>"
      ],
      "text/plain": [
       "   user_id customer_activity\n",
       "0        1              HIGH\n",
       "1        2              HIGH\n",
       "2        3              HIGH\n",
       "3        4              HIGH\n",
       "4        5               LOW"
      ]
     },
     "execution_count": 16,
     "metadata": {},
     "output_type": "execute_result"
    }
   ],
   "source": [
    "# Check how the new column might look per user_id\n",
    "df.groupby('user_id')['customer_activity'].first().reset_index().head()"
   ]
  },
  {
   "cell_type": "code",
   "execution_count": 17,
   "id": "14d96e07-cd69-44ff-9180-14ac973a2c07",
   "metadata": {},
   "outputs": [
    {
     "data": {
      "text/plain": [
       "customer_activity\n",
       "HIGH    162631\n",
       "LOW      43578\n",
       "Name: count, dtype: int64"
      ]
     },
     "execution_count": 17,
     "metadata": {},
     "output_type": "execute_result"
    }
   ],
   "source": [
    "# Count the frequency of customer activity grouped by user_id\n",
    "df.groupby('user_id')['customer_activity'].first().value_counts()"
   ]
  },
  {
   "cell_type": "markdown",
   "id": "c69b37be-d53d-490d-b363-dcb95b8602b9",
   "metadata": {},
   "source": [
    "#### Export"
   ]
  },
  {
   "cell_type": "code",
   "execution_count": 18,
   "id": "a527ce7d-3850-4224-b224-707bc03cc69d",
   "metadata": {},
   "outputs": [],
   "source": [
    "# Export the filtered dataset to CSV\n",
    "df_high_activity.to_pickle(os.path.join(path, '02_Data', 'Prepared Data', 'instacart_high_activity_customers.pkl'))"
   ]
  },
  {
   "cell_type": "markdown",
   "id": "ee3a3599-6fbb-4cc1-82f9-a1af7ad96cdc",
   "metadata": {},
   "source": [
    "# 07. Marketing Strategies"
   ]
  },
  {
   "cell_type": "markdown",
   "id": "fc29012d-a601-4da3-a7b7-9d9d16f2a231",
   "metadata": {},
   "source": [
    "### Age Profile"
   ]
  },
  {
   "cell_type": "code",
   "execution_count": 19,
   "id": "0cca5004-e725-4fb3-92d3-f7fa2be6c049",
   "metadata": {},
   "outputs": [],
   "source": [
    "# Create Age Group Profile\n",
    "df.loc[df['age'] < 26, 'age_group_profile'] = 'Young Adult'\n",
    "df.loc[(df['age'] >= 26) &(df['age'] < 65 ), 'age_group_profile'] = 'Adult'\n",
    "df.loc[df['age'] >= 65, 'age_group_profile'] = 'Senior'"
   ]
  },
  {
   "cell_type": "code",
   "execution_count": 20,
   "id": "5738da13-4795-491e-82d8-aefdec4930d7",
   "metadata": {},
   "outputs": [
    {
     "data": {
      "text/plain": [
       "user_id\n",
       "1               [Adult]\n",
       "2              [Senior]\n",
       "3               [Adult]\n",
       "4               [Adult]\n",
       "5              [Senior]\n",
       "              ...      \n",
       "206205          [Adult]\n",
       "206206    [Young Adult]\n",
       "206207         [Senior]\n",
       "206208          [Adult]\n",
       "206209         [Senior]\n",
       "Name: age_group_profile, Length: 206209, dtype: object"
      ]
     },
     "execution_count": 20,
     "metadata": {},
     "output_type": "execute_result"
    }
   ],
   "source": [
    "# Check new age group profile\n",
    "df.groupby('user_id')['age_group_profile'].unique()"
   ]
  },
  {
   "cell_type": "code",
   "execution_count": 21,
   "id": "de558da0-f599-48f6-b582-cafd360071a5",
   "metadata": {
    "scrolled": true
   },
   "outputs": [
    {
     "data": {
      "text/plain": [
       "age_group_profile\n",
       "Adult          125793\n",
       "Senior          54729\n",
       "Young Adult     25687\n",
       "Name: user_id, dtype: int64"
      ]
     },
     "execution_count": 21,
     "metadata": {},
     "output_type": "execute_result"
    }
   ],
   "source": [
    "# Count of user per age group\n",
    "df.groupby('age_group_profile')['user_id'].nunique()"
   ]
  },
  {
   "cell_type": "code",
   "execution_count": 22,
   "id": "bb8a30cf-163d-40fe-a532-3930ef407de3",
   "metadata": {},
   "outputs": [
    {
     "data": {
      "text/html": [
       "<div>\n",
       "<style scoped>\n",
       "    .dataframe tbody tr th:only-of-type {\n",
       "        vertical-align: middle;\n",
       "    }\n",
       "\n",
       "    .dataframe tbody tr th {\n",
       "        vertical-align: top;\n",
       "    }\n",
       "\n",
       "    .dataframe thead th {\n",
       "        text-align: right;\n",
       "    }\n",
       "</style>\n",
       "<table border=\"1\" class=\"dataframe\">\n",
       "  <thead>\n",
       "    <tr style=\"text-align: right;\">\n",
       "      <th></th>\n",
       "      <th>user_id</th>\n",
       "      <th>order_id</th>\n",
       "      <th>order_number</th>\n",
       "      <th>orders_day_of_week</th>\n",
       "      <th>order_hour_of_day</th>\n",
       "      <th>days_since_prior_order</th>\n",
       "      <th>product_id</th>\n",
       "      <th>add_to_cart_order</th>\n",
       "      <th>reordered</th>\n",
       "      <th>product_name</th>\n",
       "      <th>...</th>\n",
       "      <th>gender</th>\n",
       "      <th>state</th>\n",
       "      <th>age</th>\n",
       "      <th>n_dependants</th>\n",
       "      <th>fam_status</th>\n",
       "      <th>income</th>\n",
       "      <th>full_name</th>\n",
       "      <th>region</th>\n",
       "      <th>customer_activity</th>\n",
       "      <th>age_group_profile</th>\n",
       "    </tr>\n",
       "  </thead>\n",
       "  <tbody>\n",
       "    <tr>\n",
       "      <th>0</th>\n",
       "      <td>1</td>\n",
       "      <td>2539329</td>\n",
       "      <td>1</td>\n",
       "      <td>2</td>\n",
       "      <td>8</td>\n",
       "      <td>15.0</td>\n",
       "      <td>196</td>\n",
       "      <td>1</td>\n",
       "      <td>0</td>\n",
       "      <td>Soda</td>\n",
       "      <td>...</td>\n",
       "      <td>Female</td>\n",
       "      <td>Alabama</td>\n",
       "      <td>31</td>\n",
       "      <td>3</td>\n",
       "      <td>married</td>\n",
       "      <td>40423</td>\n",
       "      <td>Linda Nguyen</td>\n",
       "      <td>South</td>\n",
       "      <td>HIGH</td>\n",
       "      <td>Adult</td>\n",
       "    </tr>\n",
       "    <tr>\n",
       "      <th>1</th>\n",
       "      <td>2</td>\n",
       "      <td>2168274</td>\n",
       "      <td>1</td>\n",
       "      <td>2</td>\n",
       "      <td>11</td>\n",
       "      <td>10.0</td>\n",
       "      <td>32792</td>\n",
       "      <td>1</td>\n",
       "      <td>0</td>\n",
       "      <td>Chipotle Beef &amp; Pork Realstick</td>\n",
       "      <td>...</td>\n",
       "      <td>Female</td>\n",
       "      <td>Alaska</td>\n",
       "      <td>68</td>\n",
       "      <td>3</td>\n",
       "      <td>married</td>\n",
       "      <td>64940</td>\n",
       "      <td>Norma Chapman</td>\n",
       "      <td>West</td>\n",
       "      <td>HIGH</td>\n",
       "      <td>Senior</td>\n",
       "    </tr>\n",
       "    <tr>\n",
       "      <th>2</th>\n",
       "      <td>3</td>\n",
       "      <td>1374495</td>\n",
       "      <td>1</td>\n",
       "      <td>1</td>\n",
       "      <td>14</td>\n",
       "      <td>9.0</td>\n",
       "      <td>9387</td>\n",
       "      <td>1</td>\n",
       "      <td>0</td>\n",
       "      <td>Granny Smith Apples</td>\n",
       "      <td>...</td>\n",
       "      <td>Female</td>\n",
       "      <td>Arizona</td>\n",
       "      <td>33</td>\n",
       "      <td>3</td>\n",
       "      <td>married</td>\n",
       "      <td>93240</td>\n",
       "      <td>Janice Fry</td>\n",
       "      <td>West</td>\n",
       "      <td>HIGH</td>\n",
       "      <td>Adult</td>\n",
       "    </tr>\n",
       "    <tr>\n",
       "      <th>3</th>\n",
       "      <td>4</td>\n",
       "      <td>3343014</td>\n",
       "      <td>1</td>\n",
       "      <td>6</td>\n",
       "      <td>11</td>\n",
       "      <td>19.0</td>\n",
       "      <td>36606</td>\n",
       "      <td>1</td>\n",
       "      <td>0</td>\n",
       "      <td>Sprouted Multi-Grain Bread</td>\n",
       "      <td>...</td>\n",
       "      <td>Male</td>\n",
       "      <td>Arkansas</td>\n",
       "      <td>31</td>\n",
       "      <td>3</td>\n",
       "      <td>married</td>\n",
       "      <td>45435</td>\n",
       "      <td>Bobby Reed</td>\n",
       "      <td>South</td>\n",
       "      <td>HIGH</td>\n",
       "      <td>Adult</td>\n",
       "    </tr>\n",
       "    <tr>\n",
       "      <th>4</th>\n",
       "      <td>5</td>\n",
       "      <td>2717275</td>\n",
       "      <td>1</td>\n",
       "      <td>3</td>\n",
       "      <td>12</td>\n",
       "      <td>11.0</td>\n",
       "      <td>15349</td>\n",
       "      <td>1</td>\n",
       "      <td>0</td>\n",
       "      <td>Organic Raw Agave Nectar</td>\n",
       "      <td>...</td>\n",
       "      <td>Female</td>\n",
       "      <td>California</td>\n",
       "      <td>75</td>\n",
       "      <td>0</td>\n",
       "      <td>divorced/widowed</td>\n",
       "      <td>115242</td>\n",
       "      <td>Janet Lester</td>\n",
       "      <td>West</td>\n",
       "      <td>LOW</td>\n",
       "      <td>Senior</td>\n",
       "    </tr>\n",
       "  </tbody>\n",
       "</table>\n",
       "<p>5 rows × 35 columns</p>\n",
       "</div>"
      ],
      "text/plain": [
       "   user_id  order_id  order_number  orders_day_of_week  order_hour_of_day  \\\n",
       "0        1   2539329             1                   2                  8   \n",
       "1        2   2168274             1                   2                 11   \n",
       "2        3   1374495             1                   1                 14   \n",
       "3        4   3343014             1                   6                 11   \n",
       "4        5   2717275             1                   3                 12   \n",
       "\n",
       "   days_since_prior_order  product_id  add_to_cart_order  reordered  \\\n",
       "0                    15.0         196                  1          0   \n",
       "1                    10.0       32792                  1          0   \n",
       "2                     9.0        9387                  1          0   \n",
       "3                    19.0       36606                  1          0   \n",
       "4                    11.0       15349                  1          0   \n",
       "\n",
       "                     product_name  ...  gender       state  age n_dependants  \\\n",
       "0                            Soda  ...  Female     Alabama   31            3   \n",
       "1  Chipotle Beef & Pork Realstick  ...  Female      Alaska   68            3   \n",
       "2             Granny Smith Apples  ...  Female     Arizona   33            3   \n",
       "3      Sprouted Multi-Grain Bread  ...    Male    Arkansas   31            3   \n",
       "4        Organic Raw Agave Nectar  ...  Female  California   75            0   \n",
       "\n",
       "         fam_status  income      full_name  region customer_activity  \\\n",
       "0           married   40423   Linda Nguyen   South              HIGH   \n",
       "1           married   64940  Norma Chapman    West              HIGH   \n",
       "2           married   93240     Janice Fry    West              HIGH   \n",
       "3           married   45435     Bobby Reed   South              HIGH   \n",
       "4  divorced/widowed  115242   Janet Lester    West               LOW   \n",
       "\n",
       "   age_group_profile  \n",
       "0              Adult  \n",
       "1             Senior  \n",
       "2              Adult  \n",
       "3              Adult  \n",
       "4             Senior  \n",
       "\n",
       "[5 rows x 35 columns]"
      ]
     },
     "execution_count": 22,
     "metadata": {},
     "output_type": "execute_result"
    }
   ],
   "source": [
    "# Check columns by user id with no repeats\n",
    "df.groupby('user_id').first().reset_index().head()"
   ]
  },
  {
   "cell_type": "markdown",
   "id": "8bc1d50e-aecb-45a3-b227-61c98e7d2968",
   "metadata": {},
   "source": [
    "##### Pie Chart of Age Groups"
   ]
  },
  {
   "cell_type": "code",
   "execution_count": 23,
   "id": "293a9944-1ee6-4d02-a369-dc82308fe965",
   "metadata": {},
   "outputs": [],
   "source": [
    "# pandas Series for the diet profile count\n",
    "age_group_profile_count = df.groupby('age_group_profile')['user_id'].nunique()"
   ]
  },
  {
   "cell_type": "code",
   "execution_count": 24,
   "id": "be838118-a64c-431a-ae1f-ec3173f40886",
   "metadata": {},
   "outputs": [
    {
     "data": {
      "image/png": "[encoded data removed]",
      "text/plain": [
       "<Figure size 640x480 with 1 Axes>"
      ]
     },
     "metadata": {},
     "output_type": "display_data"
    }
   ],
   "source": [
    "# Visualize a pie chart \n",
    "age_group_profile_pie_chart = age_group_profile_count.plot.pie(autopct='%1.1f%%')\n",
    "plt.title('Distribution of Age Groups')\n",
    "# Hide the y-label\n",
    "plt.ylabel('')\n",
    "plt.show()"
   ]
  },
  {
   "cell_type": "markdown",
   "id": "80efb07e-a16e-4aed-8843-2406c4612597",
   "metadata": {},
   "source": [
    "### Age Group Loyalty"
   ]
  },
  {
   "cell_type": "code",
   "execution_count": 25,
   "id": "a9265e3e-293f-46e4-b159-f918765a3fdc",
   "metadata": {},
   "outputs": [],
   "source": [
    "# Crosstab of Age Group Loyalty\n",
    "crosstab_age_group_loyalty = pd.crosstab(\n",
    "    df.groupby('user_id')[['loyalty_flag', 'age_group_profile']].first().reset_index()['loyalty_flag'],\n",
    "    df.groupby('user_id')[['loyalty_flag', 'age_group_profile']].first().reset_index()['age_group_profile'],\n",
    "    dropna=False)"
   ]
  },
  {
   "cell_type": "code",
   "execution_count": 26,
   "id": "45c3e704-3b6a-42bb-8a9b-523e1f81aae0",
   "metadata": {},
   "outputs": [
    {
     "name": "stdout",
     "output_type": "stream",
     "text": [
      "age_group_profile  Adult  Senior  Young Adult\n",
      "loyalty_flag                                 \n",
      "Loyal Customer     10361    4551         2105\n",
      "New Customer       68617   29671        14040\n",
      "Regular Customer   46815   20507         9542\n"
     ]
    }
   ],
   "source": [
    "# Check Crostab of Age Group Loyalty\n",
    "print(crosstab_age_group_loyalty)"
   ]
  },
  {
   "cell_type": "markdown",
   "id": "a7f09642-27a9-4800-a94c-48fe2913f6a6",
   "metadata": {},
   "source": [
    "##### Bar Chart of Age Group Loyalty"
   ]
  },
  {
   "cell_type": "code",
   "execution_count": 27,
   "id": "cd23c6f4-8836-4c7f-88d3-436493c9d3c4",
   "metadata": {},
   "outputs": [
    {
     "data": {
      "text/plain": [
       "(array([0, 1, 2]),\n",
       " [Text(0, 0, 'Loyal Customer'),\n",
       "  Text(1, 0, 'New Customer'),\n",
       "  Text(2, 0, 'Regular Customer')])"
      ]
     },
     "execution_count": 27,
     "metadata": {},
     "output_type": "execute_result"
    },
    {
     "data": {
      "image/png": "[encoded data removed]",
      "text/plain": [
       "<Figure size 640x480 with 1 Axes>"
      ]
     },
     "metadata": {},
     "output_type": "display_data"
    }
   ],
   "source": [
    "# Visualize a bar chart for the crosstab between loyalty_flag and Age Group\n",
    "age_group_loyalty_bar_chart = crosstab_age_group_loyalty.plot.bar()\n",
    "plt.title('Loyalty by Age Group')\n",
    "plt.xlabel('')\n",
    "plt.ylabel('Count')\n",
    "plt.xticks(rotation=0)"
   ]
  },
  {
   "cell_type": "markdown",
   "id": "977a6c26-38aa-456a-b6fd-018106153579",
   "metadata": {},
   "source": [
    "##### Export"
   ]
  },
  {
   "cell_type": "code",
   "execution_count": 28,
   "id": "b627763f-18dc-49f2-b020-c6b644ddd8c6",
   "metadata": {},
   "outputs": [],
   "source": [
    "age_group_profile_pie_chart.figure.savefig(os.path.join(path, '04_Analysis','Visualizations', 'age_group_profile_pie_chart.png'))"
   ]
  },
  {
   "cell_type": "code",
   "execution_count": 29,
   "id": "bdd9880f-c750-419d-a54f-aa50279b255d",
   "metadata": {},
   "outputs": [],
   "source": [
    "age_group_loyalty_bar_chart.figure.savefig(os.path.join(path, '04_Analysis','Visualizations', 'age_group_loyalty_bar_chart.png'))"
   ]
  },
  {
   "cell_type": "markdown",
   "id": "8b45c46d-d273-45a4-aa28-1b0319809249",
   "metadata": {},
   "source": [
    "### Age and Depenants Profile"
   ]
  },
  {
   "cell_type": "code",
   "execution_count": 30,
   "id": "6ff35027-1fec-46ba-9561-f856c9dc2acc",
   "metadata": {},
   "outputs": [],
   "source": [
    "# Create a age and dependant column \n",
    "df.loc[(df['age'] <= 26) & (df['n_dependants'] == 0), 'age_dependant_profile'] = 'Young Adult'\n",
    "df.loc[(df['age'] <= 26) & (df['n_dependants'] > 0), 'age_dependant_profile'] = 'Young Parent'\n",
    "df.loc[(df['age'] > 26) & (df['age'] < 65) & (df['n_dependants'] == 0), 'age_dependant_profile'] = 'Adult'\n",
    "df.loc[(df['age'] > 26) & (df['age'] < 65) & (df['n_dependants'] > 0), 'age_dependant_profile'] = 'Parent'\n",
    "df.loc[(df['age'] >= 65) & (df['n_dependants'] == 0), 'age_dependant_profile'] = 'Senior'\n",
    "df.loc[(df['age'] >= 65) & (df['n_dependants'] > 0), 'age_dependant_profile'] = 'Caregiver'\n"
   ]
  },
  {
   "cell_type": "code",
   "execution_count": 31,
   "id": "3b3c4353-5e4c-42a5-bd2b-b5e1d99f78a0",
   "metadata": {
    "scrolled": true
   },
   "outputs": [
    {
     "data": {
      "text/plain": [
       "user_id\n",
       "1               [Parent]\n",
       "2            [Caregiver]\n",
       "3               [Parent]\n",
       "4               [Parent]\n",
       "5               [Senior]\n",
       "               ...      \n",
       "206205          [Parent]\n",
       "206206    [Young Parent]\n",
       "206207       [Caregiver]\n",
       "206208          [Parent]\n",
       "206209       [Caregiver]\n",
       "Name: age_dependant_profile, Length: 206209, dtype: object"
      ]
     },
     "execution_count": 31,
     "metadata": {},
     "output_type": "execute_result"
    }
   ],
   "source": [
    "# Check new age dependant profile column per user\n",
    "df.groupby('user_id')['age_dependant_profile'].unique()"
   ]
  },
  {
   "cell_type": "code",
   "execution_count": 32,
   "id": "c5dfb6ad-8a04-4c82-92e6-c70d0152b61a",
   "metadata": {
    "scrolled": true
   },
   "outputs": [
    {
     "data": {
      "text/html": [
       "<div>\n",
       "<style scoped>\n",
       "    .dataframe tbody tr th:only-of-type {\n",
       "        vertical-align: middle;\n",
       "    }\n",
       "\n",
       "    .dataframe tbody tr th {\n",
       "        vertical-align: top;\n",
       "    }\n",
       "\n",
       "    .dataframe thead th {\n",
       "        text-align: right;\n",
       "    }\n",
       "</style>\n",
       "<table border=\"1\" class=\"dataframe\">\n",
       "  <thead>\n",
       "    <tr style=\"text-align: right;\">\n",
       "      <th></th>\n",
       "      <th>user_id</th>\n",
       "      <th>order_id</th>\n",
       "      <th>order_number</th>\n",
       "      <th>orders_day_of_week</th>\n",
       "      <th>order_hour_of_day</th>\n",
       "      <th>days_since_prior_order</th>\n",
       "      <th>product_id</th>\n",
       "      <th>add_to_cart_order</th>\n",
       "      <th>reordered</th>\n",
       "      <th>product_name</th>\n",
       "      <th>...</th>\n",
       "      <th>state</th>\n",
       "      <th>age</th>\n",
       "      <th>n_dependants</th>\n",
       "      <th>fam_status</th>\n",
       "      <th>income</th>\n",
       "      <th>full_name</th>\n",
       "      <th>region</th>\n",
       "      <th>customer_activity</th>\n",
       "      <th>age_group_profile</th>\n",
       "      <th>age_dependant_profile</th>\n",
       "    </tr>\n",
       "  </thead>\n",
       "  <tbody>\n",
       "    <tr>\n",
       "      <th>0</th>\n",
       "      <td>1</td>\n",
       "      <td>2539329</td>\n",
       "      <td>1</td>\n",
       "      <td>2</td>\n",
       "      <td>8</td>\n",
       "      <td>15.0</td>\n",
       "      <td>196</td>\n",
       "      <td>1</td>\n",
       "      <td>0</td>\n",
       "      <td>Soda</td>\n",
       "      <td>...</td>\n",
       "      <td>Alabama</td>\n",
       "      <td>31</td>\n",
       "      <td>3</td>\n",
       "      <td>married</td>\n",
       "      <td>40423</td>\n",
       "      <td>Linda Nguyen</td>\n",
       "      <td>South</td>\n",
       "      <td>HIGH</td>\n",
       "      <td>Adult</td>\n",
       "      <td>Parent</td>\n",
       "    </tr>\n",
       "    <tr>\n",
       "      <th>1</th>\n",
       "      <td>2</td>\n",
       "      <td>2168274</td>\n",
       "      <td>1</td>\n",
       "      <td>2</td>\n",
       "      <td>11</td>\n",
       "      <td>10.0</td>\n",
       "      <td>32792</td>\n",
       "      <td>1</td>\n",
       "      <td>0</td>\n",
       "      <td>Chipotle Beef &amp; Pork Realstick</td>\n",
       "      <td>...</td>\n",
       "      <td>Alaska</td>\n",
       "      <td>68</td>\n",
       "      <td>3</td>\n",
       "      <td>married</td>\n",
       "      <td>64940</td>\n",
       "      <td>Norma Chapman</td>\n",
       "      <td>West</td>\n",
       "      <td>HIGH</td>\n",
       "      <td>Senior</td>\n",
       "      <td>Caregiver</td>\n",
       "    </tr>\n",
       "    <tr>\n",
       "      <th>2</th>\n",
       "      <td>3</td>\n",
       "      <td>1374495</td>\n",
       "      <td>1</td>\n",
       "      <td>1</td>\n",
       "      <td>14</td>\n",
       "      <td>9.0</td>\n",
       "      <td>9387</td>\n",
       "      <td>1</td>\n",
       "      <td>0</td>\n",
       "      <td>Granny Smith Apples</td>\n",
       "      <td>...</td>\n",
       "      <td>Arizona</td>\n",
       "      <td>33</td>\n",
       "      <td>3</td>\n",
       "      <td>married</td>\n",
       "      <td>93240</td>\n",
       "      <td>Janice Fry</td>\n",
       "      <td>West</td>\n",
       "      <td>HIGH</td>\n",
       "      <td>Adult</td>\n",
       "      <td>Parent</td>\n",
       "    </tr>\n",
       "    <tr>\n",
       "      <th>3</th>\n",
       "      <td>4</td>\n",
       "      <td>3343014</td>\n",
       "      <td>1</td>\n",
       "      <td>6</td>\n",
       "      <td>11</td>\n",
       "      <td>19.0</td>\n",
       "      <td>36606</td>\n",
       "      <td>1</td>\n",
       "      <td>0</td>\n",
       "      <td>Sprouted Multi-Grain Bread</td>\n",
       "      <td>...</td>\n",
       "      <td>Arkansas</td>\n",
       "      <td>31</td>\n",
       "      <td>3</td>\n",
       "      <td>married</td>\n",
       "      <td>45435</td>\n",
       "      <td>Bobby Reed</td>\n",
       "      <td>South</td>\n",
       "      <td>HIGH</td>\n",
       "      <td>Adult</td>\n",
       "      <td>Parent</td>\n",
       "    </tr>\n",
       "    <tr>\n",
       "      <th>4</th>\n",
       "      <td>5</td>\n",
       "      <td>2717275</td>\n",
       "      <td>1</td>\n",
       "      <td>3</td>\n",
       "      <td>12</td>\n",
       "      <td>11.0</td>\n",
       "      <td>15349</td>\n",
       "      <td>1</td>\n",
       "      <td>0</td>\n",
       "      <td>Organic Raw Agave Nectar</td>\n",
       "      <td>...</td>\n",
       "      <td>California</td>\n",
       "      <td>75</td>\n",
       "      <td>0</td>\n",
       "      <td>divorced/widowed</td>\n",
       "      <td>115242</td>\n",
       "      <td>Janet Lester</td>\n",
       "      <td>West</td>\n",
       "      <td>LOW</td>\n",
       "      <td>Senior</td>\n",
       "      <td>Senior</td>\n",
       "    </tr>\n",
       "  </tbody>\n",
       "</table>\n",
       "<p>5 rows × 36 columns</p>\n",
       "</div>"
      ],
      "text/plain": [
       "   user_id  order_id  order_number  orders_day_of_week  order_hour_of_day  \\\n",
       "0        1   2539329             1                   2                  8   \n",
       "1        2   2168274             1                   2                 11   \n",
       "2        3   1374495             1                   1                 14   \n",
       "3        4   3343014             1                   6                 11   \n",
       "4        5   2717275             1                   3                 12   \n",
       "\n",
       "   days_since_prior_order  product_id  add_to_cart_order  reordered  \\\n",
       "0                    15.0         196                  1          0   \n",
       "1                    10.0       32792                  1          0   \n",
       "2                     9.0        9387                  1          0   \n",
       "3                    19.0       36606                  1          0   \n",
       "4                    11.0       15349                  1          0   \n",
       "\n",
       "                     product_name  ...       state  age  n_dependants  \\\n",
       "0                            Soda  ...     Alabama   31             3   \n",
       "1  Chipotle Beef & Pork Realstick  ...      Alaska   68             3   \n",
       "2             Granny Smith Apples  ...     Arizona   33             3   \n",
       "3      Sprouted Multi-Grain Bread  ...    Arkansas   31             3   \n",
       "4        Organic Raw Agave Nectar  ...  California   75             0   \n",
       "\n",
       "         fam_status  income      full_name region  customer_activity  \\\n",
       "0           married   40423   Linda Nguyen  South               HIGH   \n",
       "1           married   64940  Norma Chapman   West               HIGH   \n",
       "2           married   93240     Janice Fry   West               HIGH   \n",
       "3           married   45435     Bobby Reed  South               HIGH   \n",
       "4  divorced/widowed  115242   Janet Lester   West                LOW   \n",
       "\n",
       "  age_group_profile  age_dependant_profile  \n",
       "0             Adult                 Parent  \n",
       "1            Senior              Caregiver  \n",
       "2             Adult                 Parent  \n",
       "3             Adult                 Parent  \n",
       "4            Senior                 Senior  \n",
       "\n",
       "[5 rows x 36 columns]"
      ]
     },
     "execution_count": 32,
     "metadata": {},
     "output_type": "execute_result"
    }
   ],
   "source": [
    "# Check columns by user id with no repeats\n",
    "df.groupby('user_id').first().reset_index().head()"
   ]
  },
  {
   "cell_type": "code",
   "execution_count": 33,
   "id": "298f8a53-9923-4499-a143-a69a7cd3820b",
   "metadata": {
    "scrolled": true
   },
   "outputs": [
    {
     "data": {
      "text/plain": [
       "age_dependant_profile\n",
       "Adult           30669\n",
       "Caregiver       41071\n",
       "Parent          91847\n",
       "Senior          13658\n",
       "Young Adult      7275\n",
       "Young Parent    21689\n",
       "Name: user_id, dtype: int64"
      ]
     },
     "execution_count": 33,
     "metadata": {},
     "output_type": "execute_result"
    }
   ],
   "source": [
    "# Count unique users by age and dependent profile\n",
    "df.groupby('age_dependant_profile')['user_id'].nunique()"
   ]
  },
  {
   "cell_type": "markdown",
   "id": "9926da48-a0fd-494f-8e68-db0c514663d8",
   "metadata": {},
   "source": [
    "#### Age and Dependant Visualization"
   ]
  },
  {
   "cell_type": "code",
   "execution_count": 34,
   "id": "b3ff5e28-6cb6-4297-be8b-ab33e0df35e9",
   "metadata": {},
   "outputs": [],
   "source": [
    "# Create age dependant profile count\n",
    "profile_counts = df.groupby('user_id')['age_dependant_profile'].first().value_counts()"
   ]
  },
  {
   "cell_type": "code",
   "execution_count": 35,
   "id": "81603fb7-6293-4505-9c2a-b23dc2b4815c",
   "metadata": {},
   "outputs": [],
   "source": [
    "# Reorder Index\n",
    "profile_order = [ 'Young Adult', 'Adult', 'Senior', '', 'Young Parent', 'Parent', 'Caregiver']\n",
    "profile_counts = profile_counts.reindex(profile_order)"
   ]
  },
  {
   "cell_type": "code",
   "execution_count": 36,
   "id": "94c12c68-b8f9-4f8e-a2cb-80f11e8c57a9",
   "metadata": {},
   "outputs": [],
   "source": [
    "# Assign Colors\n",
    "colors = ['blue', 'orange', 'green', 'white', 'blue', 'orange', 'green']"
   ]
  },
  {
   "cell_type": "code",
   "execution_count": 37,
   "id": "a8cdba6b-b88f-4c59-8153-8c8d2694cf61",
   "metadata": {
    "scrolled": true
   },
   "outputs": [
    {
     "data": {
      "text/plain": [
       "(array([0, 1, 2, 3, 4, 5, 6]),\n",
       " [Text(0, 0, 'Young Adult'),\n",
       "  Text(1, 0, 'Adult'),\n",
       "  Text(2, 0, 'Senior'),\n",
       "  Text(3, 0, ''),\n",
       "  Text(4, 0, 'Young Parent'),\n",
       "  Text(5, 0, 'Parent'),\n",
       "  Text(6, 0, 'Caregiver')])"
      ]
     },
     "execution_count": 37,
     "metadata": {},
     "output_type": "execute_result"
    },
    {
     "data": {
      "image/png": "[encoded data removed]",
      "text/plain": [
       "<Figure size 640x480 with 1 Axes>"
      ]
     },
     "metadata": {},
     "output_type": "display_data"
    }
   ],
   "source": [
    "# Create Bar Chart based on each users age dependant profile\n",
    "age_dependant_bar_chart = profile_counts.plot.bar(color = colors)\n",
    "plt.title('Age and Dependant Profile')\n",
    "plt.xlabel('')\n",
    "plt.ylabel('count')\n",
    "plt.xticks(rotation=0)"
   ]
  },
  {
   "cell_type": "code",
   "execution_count": 38,
   "id": "1a94b9d5-35f9-44d0-9e94-d6c122f2f445",
   "metadata": {},
   "outputs": [
    {
     "data": {
      "image/png": "[encoded data removed]",
      "text/plain": [
       "<Figure size 640x480 with 1 Axes>"
      ]
     },
     "metadata": {},
     "output_type": "display_data"
    }
   ],
   "source": [
    "# Group profiles into With or No Dependents\n",
    "df['dependant_group'] = df['age_dependant_profile'].map(lambda x: 'With Dependents' if x in ['Parent', 'Young Parent', 'Caregiver'] \n",
    "    else 'No Dependents')\n",
    "\n",
    "# Count each user's group once\n",
    "dependant_group_bar_chart = df.groupby('user_id')['dependant_group'].first().value_counts().plot.bar(color = ['purple', 'orange'])\n",
    "\n",
    "plt.title('Age Dependant Profile Bar Chart')\n",
    "plt.xlabel('')\n",
    "plt.ylabel('Count')\n",
    "plt.xticks(rotation=0)\n",
    "plt.show()\n"
   ]
  },
  {
   "cell_type": "markdown",
   "id": "0b36135c-7e47-4cfe-9d4b-777ff299628b",
   "metadata": {},
   "source": [
    "##### Export "
   ]
  },
  {
   "cell_type": "code",
   "execution_count": 39,
   "id": "47251d69-eb67-44de-8e61-61a7104c77e7",
   "metadata": {},
   "outputs": [],
   "source": [
    "# Export Image of Bar Chart frequency of age_dependant_profile\n",
    "age_dependant_bar_chart.figure.savefig(os.path.join(path, '04_Analysis','Visualizations', 'age_dependant_bar_chart.png'))"
   ]
  },
  {
   "cell_type": "code",
   "execution_count": 40,
   "id": "72d0a394-9a9c-4a12-9ec3-eceb3d8e49c8",
   "metadata": {},
   "outputs": [],
   "source": [
    "dependant_group_bar_chart.figure.savefig(os.path.join(path, '04_Analysis','Visualizations', 'dependant_group_bar_chart.png'))"
   ]
  },
  {
   "cell_type": "markdown",
   "id": "9adb12eb-2f8e-4957-94a6-081e9552ba14",
   "metadata": {},
   "source": [
    "### Income Profile"
   ]
  },
  {
   "cell_type": "code",
   "execution_count": 41,
   "id": "3d5b356c-4adb-443a-8bad-cf23e1649c7d",
   "metadata": {},
   "outputs": [],
   "source": [
    "# Create income flag column\n",
    "df.loc[(df['income'] <= 50000), 'income_profile'] = 'Low Income'\n",
    "df.loc[(df['income'] > 50000) & (df['income'] <= 120000), 'income_profile'] = 'Regular Income'\n",
    "df.loc[(df['income'] > 120000), 'income_profile'] = 'High Income'"
   ]
  },
  {
   "cell_type": "code",
   "execution_count": 42,
   "id": "8b4220bc-bd8a-4c8c-bae2-5839fb9e5d99",
   "metadata": {
    "scrolled": true
   },
   "outputs": [
    {
     "data": {
      "text/plain": [
       "user_id\n",
       "1             [Low Income]\n",
       "2         [Regular Income]\n",
       "3         [Regular Income]\n",
       "4             [Low Income]\n",
       "5         [Regular Income]\n",
       "                ...       \n",
       "206205    [Regular Income]\n",
       "206206    [Regular Income]\n",
       "206207    [Regular Income]\n",
       "206208       [High Income]\n",
       "206209       [High Income]\n",
       "Name: income_profile, Length: 206209, dtype: object"
      ]
     },
     "execution_count": 42,
     "metadata": {},
     "output_type": "execute_result"
    }
   ],
   "source": [
    "# Check new income profile column\n",
    "df.groupby('user_id')['income_profile'].unique()"
   ]
  },
  {
   "cell_type": "code",
   "execution_count": 43,
   "id": "15c2013e-12f4-4d97-963b-57f5653be000",
   "metadata": {},
   "outputs": [
    {
     "data": {
      "text/plain": [
       "income_profile\n",
       "High Income        56296\n",
       "Low Income         34105\n",
       "Regular Income    115808\n",
       "Name: user_id, dtype: int64"
      ]
     },
     "execution_count": 43,
     "metadata": {},
     "output_type": "execute_result"
    }
   ],
   "source": [
    "# Count of income profile groups\n",
    "df.groupby('income_profile')['user_id'].nunique()"
   ]
  },
  {
   "cell_type": "code",
   "execution_count": 44,
   "id": "1c294467-4ce4-4d80-a34d-c63d6c9bcf76",
   "metadata": {
    "scrolled": true
   },
   "outputs": [
    {
     "data": {
      "text/html": [
       "<div>\n",
       "<style scoped>\n",
       "    .dataframe tbody tr th:only-of-type {\n",
       "        vertical-align: middle;\n",
       "    }\n",
       "\n",
       "    .dataframe tbody tr th {\n",
       "        vertical-align: top;\n",
       "    }\n",
       "\n",
       "    .dataframe thead th {\n",
       "        text-align: right;\n",
       "    }\n",
       "</style>\n",
       "<table border=\"1\" class=\"dataframe\">\n",
       "  <thead>\n",
       "    <tr style=\"text-align: right;\">\n",
       "      <th></th>\n",
       "      <th>user_id</th>\n",
       "      <th>order_id</th>\n",
       "      <th>order_number</th>\n",
       "      <th>orders_day_of_week</th>\n",
       "      <th>order_hour_of_day</th>\n",
       "      <th>days_since_prior_order</th>\n",
       "      <th>product_id</th>\n",
       "      <th>add_to_cart_order</th>\n",
       "      <th>reordered</th>\n",
       "      <th>product_name</th>\n",
       "      <th>...</th>\n",
       "      <th>n_dependants</th>\n",
       "      <th>fam_status</th>\n",
       "      <th>income</th>\n",
       "      <th>full_name</th>\n",
       "      <th>region</th>\n",
       "      <th>customer_activity</th>\n",
       "      <th>age_group_profile</th>\n",
       "      <th>age_dependant_profile</th>\n",
       "      <th>dependant_group</th>\n",
       "      <th>income_profile</th>\n",
       "    </tr>\n",
       "  </thead>\n",
       "  <tbody>\n",
       "    <tr>\n",
       "      <th>0</th>\n",
       "      <td>1</td>\n",
       "      <td>2539329</td>\n",
       "      <td>1</td>\n",
       "      <td>2</td>\n",
       "      <td>8</td>\n",
       "      <td>15.0</td>\n",
       "      <td>196</td>\n",
       "      <td>1</td>\n",
       "      <td>0</td>\n",
       "      <td>Soda</td>\n",
       "      <td>...</td>\n",
       "      <td>3</td>\n",
       "      <td>married</td>\n",
       "      <td>40423</td>\n",
       "      <td>Linda Nguyen</td>\n",
       "      <td>South</td>\n",
       "      <td>HIGH</td>\n",
       "      <td>Adult</td>\n",
       "      <td>Parent</td>\n",
       "      <td>With Dependents</td>\n",
       "      <td>Low Income</td>\n",
       "    </tr>\n",
       "    <tr>\n",
       "      <th>1</th>\n",
       "      <td>2</td>\n",
       "      <td>2168274</td>\n",
       "      <td>1</td>\n",
       "      <td>2</td>\n",
       "      <td>11</td>\n",
       "      <td>10.0</td>\n",
       "      <td>32792</td>\n",
       "      <td>1</td>\n",
       "      <td>0</td>\n",
       "      <td>Chipotle Beef &amp; Pork Realstick</td>\n",
       "      <td>...</td>\n",
       "      <td>3</td>\n",
       "      <td>married</td>\n",
       "      <td>64940</td>\n",
       "      <td>Norma Chapman</td>\n",
       "      <td>West</td>\n",
       "      <td>HIGH</td>\n",
       "      <td>Senior</td>\n",
       "      <td>Caregiver</td>\n",
       "      <td>With Dependents</td>\n",
       "      <td>Regular Income</td>\n",
       "    </tr>\n",
       "    <tr>\n",
       "      <th>2</th>\n",
       "      <td>3</td>\n",
       "      <td>1374495</td>\n",
       "      <td>1</td>\n",
       "      <td>1</td>\n",
       "      <td>14</td>\n",
       "      <td>9.0</td>\n",
       "      <td>9387</td>\n",
       "      <td>1</td>\n",
       "      <td>0</td>\n",
       "      <td>Granny Smith Apples</td>\n",
       "      <td>...</td>\n",
       "      <td>3</td>\n",
       "      <td>married</td>\n",
       "      <td>93240</td>\n",
       "      <td>Janice Fry</td>\n",
       "      <td>West</td>\n",
       "      <td>HIGH</td>\n",
       "      <td>Adult</td>\n",
       "      <td>Parent</td>\n",
       "      <td>With Dependents</td>\n",
       "      <td>Regular Income</td>\n",
       "    </tr>\n",
       "    <tr>\n",
       "      <th>3</th>\n",
       "      <td>4</td>\n",
       "      <td>3343014</td>\n",
       "      <td>1</td>\n",
       "      <td>6</td>\n",
       "      <td>11</td>\n",
       "      <td>19.0</td>\n",
       "      <td>36606</td>\n",
       "      <td>1</td>\n",
       "      <td>0</td>\n",
       "      <td>Sprouted Multi-Grain Bread</td>\n",
       "      <td>...</td>\n",
       "      <td>3</td>\n",
       "      <td>married</td>\n",
       "      <td>45435</td>\n",
       "      <td>Bobby Reed</td>\n",
       "      <td>South</td>\n",
       "      <td>HIGH</td>\n",
       "      <td>Adult</td>\n",
       "      <td>Parent</td>\n",
       "      <td>With Dependents</td>\n",
       "      <td>Low Income</td>\n",
       "    </tr>\n",
       "    <tr>\n",
       "      <th>4</th>\n",
       "      <td>5</td>\n",
       "      <td>2717275</td>\n",
       "      <td>1</td>\n",
       "      <td>3</td>\n",
       "      <td>12</td>\n",
       "      <td>11.0</td>\n",
       "      <td>15349</td>\n",
       "      <td>1</td>\n",
       "      <td>0</td>\n",
       "      <td>Organic Raw Agave Nectar</td>\n",
       "      <td>...</td>\n",
       "      <td>0</td>\n",
       "      <td>divorced/widowed</td>\n",
       "      <td>115242</td>\n",
       "      <td>Janet Lester</td>\n",
       "      <td>West</td>\n",
       "      <td>LOW</td>\n",
       "      <td>Senior</td>\n",
       "      <td>Senior</td>\n",
       "      <td>No Dependents</td>\n",
       "      <td>Regular Income</td>\n",
       "    </tr>\n",
       "  </tbody>\n",
       "</table>\n",
       "<p>5 rows × 38 columns</p>\n",
       "</div>"
      ],
      "text/plain": [
       "   user_id  order_id  order_number  orders_day_of_week  order_hour_of_day  \\\n",
       "0        1   2539329             1                   2                  8   \n",
       "1        2   2168274             1                   2                 11   \n",
       "2        3   1374495             1                   1                 14   \n",
       "3        4   3343014             1                   6                 11   \n",
       "4        5   2717275             1                   3                 12   \n",
       "\n",
       "   days_since_prior_order  product_id  add_to_cart_order  reordered  \\\n",
       "0                    15.0         196                  1          0   \n",
       "1                    10.0       32792                  1          0   \n",
       "2                     9.0        9387                  1          0   \n",
       "3                    19.0       36606                  1          0   \n",
       "4                    11.0       15349                  1          0   \n",
       "\n",
       "                     product_name  ...  n_dependants        fam_status  \\\n",
       "0                            Soda  ...             3           married   \n",
       "1  Chipotle Beef & Pork Realstick  ...             3           married   \n",
       "2             Granny Smith Apples  ...             3           married   \n",
       "3      Sprouted Multi-Grain Bread  ...             3           married   \n",
       "4        Organic Raw Agave Nectar  ...             0  divorced/widowed   \n",
       "\n",
       "   income      full_name region customer_activity age_group_profile  \\\n",
       "0   40423   Linda Nguyen  South              HIGH             Adult   \n",
       "1   64940  Norma Chapman   West              HIGH            Senior   \n",
       "2   93240     Janice Fry   West              HIGH             Adult   \n",
       "3   45435     Bobby Reed  South              HIGH             Adult   \n",
       "4  115242   Janet Lester   West               LOW            Senior   \n",
       "\n",
       "   age_dependant_profile  dependant_group  income_profile  \n",
       "0                 Parent  With Dependents      Low Income  \n",
       "1              Caregiver  With Dependents  Regular Income  \n",
       "2                 Parent  With Dependents  Regular Income  \n",
       "3                 Parent  With Dependents      Low Income  \n",
       "4                 Senior    No Dependents  Regular Income  \n",
       "\n",
       "[5 rows x 38 columns]"
      ]
     },
     "execution_count": 44,
     "metadata": {},
     "output_type": "execute_result"
    }
   ],
   "source": [
    "# Check columns by user id with no repeats\n",
    "df.groupby('user_id').first().reset_index().head()"
   ]
  },
  {
   "cell_type": "markdown",
   "id": "e25fc662-ee61-421a-9026-4d15dd8cc46e",
   "metadata": {},
   "source": [
    "#### Income Visualization"
   ]
  },
  {
   "cell_type": "code",
   "execution_count": 45,
   "id": "0ccdf810-eed8-4ed5-8998-892f8457c0c2",
   "metadata": {},
   "outputs": [],
   "source": [
    "# Profile Counts\n",
    "income_profile_counts = df.groupby('income_profile')['user_id'].nunique()"
   ]
  },
  {
   "cell_type": "code",
   "execution_count": 46,
   "id": "581be17e-4ee0-4419-927d-d3f246f00d4d",
   "metadata": {},
   "outputs": [],
   "source": [
    "# Profile Order\n",
    "desired_order = ['High Income', 'Regular Income', 'Low Income']\n",
    "income_profile_counts = income_profile_counts.reindex(desired_order)"
   ]
  },
  {
   "cell_type": "code",
   "execution_count": 47,
   "id": "2ac1f3b0-041c-49d9-9dea-6a2cca235912",
   "metadata": {
    "scrolled": true
   },
   "outputs": [
    {
     "data": {
      "text/plain": [
       "(array([0, 1, 2]),\n",
       " [Text(0, 0, 'High Income'),\n",
       "  Text(1, 0, 'Regular Income'),\n",
       "  Text(2, 0, 'Low Income')])"
      ]
     },
     "execution_count": 47,
     "metadata": {},
     "output_type": "execute_result"
    },
    {
     "data": {
      "image/png": "[encoded data removed]",
      "text/plain": [
       "<Figure size 640x480 with 1 Axes>"
      ]
     },
     "metadata": {},
     "output_type": "display_data"
    }
   ],
   "source": [
    "# Create bar chart showing the number of unique users in each income profile\n",
    "income_profile_bar_chart = income_profile_counts.plot.bar(color = ['blue', 'orange', 'green'])\n",
    "plt.title('Income Profile')\n",
    "plt.xlabel('')\n",
    "plt.ylabel('count')\n",
    "plt.xticks(rotation=0)"
   ]
  },
  {
   "cell_type": "markdown",
   "id": "552296d9-b8e0-4d70-bb7a-0103febb48d5",
   "metadata": {},
   "source": [
    "##### Export "
   ]
  },
  {
   "cell_type": "code",
   "execution_count": 48,
   "id": "71030da2-66cb-430c-ac3b-281266107dbe",
   "metadata": {},
   "outputs": [],
   "source": [
    "# Export Image of Bar Chart frequency of income_profile\n",
    "income_profile_bar_chart.figure.savefig(os.path.join(path, '04_Analysis','Visualizations', 'income_profile_bar_chart.png'))"
   ]
  },
  {
   "cell_type": "markdown",
   "id": "9d2ac29b-65ec-48d8-88ec-25e29fcde030",
   "metadata": {},
   "source": [
    "### Department Profile"
   ]
  },
  {
   "cell_type": "code",
   "execution_count": 49,
   "id": "ca38de54-1daf-421c-8779-0c06c1b51cef",
   "metadata": {},
   "outputs": [],
   "source": [
    "# Group by customer_id and aggregate all departments into a list\n",
    "df_user_dpt_list = df.groupby('user_id')['department_id'].apply(list).reset_index()"
   ]
  },
  {
   "cell_type": "code",
   "execution_count": 50,
   "id": "923a1d66-ece2-4226-b967-69c398a1b410",
   "metadata": {
    "scrolled": true
   },
   "outputs": [
    {
     "data": {
      "text/html": [
       "<div>\n",
       "<style scoped>\n",
       "    .dataframe tbody tr th:only-of-type {\n",
       "        vertical-align: middle;\n",
       "    }\n",
       "\n",
       "    .dataframe tbody tr th {\n",
       "        vertical-align: top;\n",
       "    }\n",
       "\n",
       "    .dataframe thead th {\n",
       "        text-align: right;\n",
       "    }\n",
       "</style>\n",
       "<table border=\"1\" class=\"dataframe\">\n",
       "  <thead>\n",
       "    <tr style=\"text-align: right;\">\n",
       "      <th></th>\n",
       "      <th>user_id</th>\n",
       "      <th>department_id</th>\n",
       "    </tr>\n",
       "  </thead>\n",
       "  <tbody>\n",
       "    <tr>\n",
       "      <th>0</th>\n",
       "      <td>1</td>\n",
       "      <td>[7, 16, 19, 19, 17, 7, 19, 19, 4, 19, 14, 7, 1...</td>\n",
       "    </tr>\n",
       "    <tr>\n",
       "      <th>1</th>\n",
       "      <td>2</td>\n",
       "      <td>[19, 4, 20, 13, 19, 19, 19, 7, 20, 20, 4, 4, 4...</td>\n",
       "    </tr>\n",
       "    <tr>\n",
       "      <th>2</th>\n",
       "      <td>3</td>\n",
       "      <td>[4, 16, 4, 4, 16, 4, 4, 4, 19, 19, 16, 4, 19, ...</td>\n",
       "    </tr>\n",
       "    <tr>\n",
       "      <th>3</th>\n",
       "      <td>4</td>\n",
       "      <td>[3, 7, 1, 17, 5, 17, 15, 7, 3, 4, 1, 1, 4, 5, ...</td>\n",
       "    </tr>\n",
       "    <tr>\n",
       "      <th>4</th>\n",
       "      <td>5</td>\n",
       "      <td>[13, 6, 4, 4, 4, 4, 4, 4, 16, 4, 16, 16, 9, 16...</td>\n",
       "    </tr>\n",
       "  </tbody>\n",
       "</table>\n",
       "</div>"
      ],
      "text/plain": [
       "   user_id                                      department_id\n",
       "0        1  [7, 16, 19, 19, 17, 7, 19, 19, 4, 19, 14, 7, 1...\n",
       "1        2  [19, 4, 20, 13, 19, 19, 19, 7, 20, 20, 4, 4, 4...\n",
       "2        3  [4, 16, 4, 4, 16, 4, 4, 4, 19, 19, 16, 4, 19, ...\n",
       "3        4  [3, 7, 1, 17, 5, 17, 15, 7, 3, 4, 1, 1, 4, 5, ...\n",
       "4        5  [13, 6, 4, 4, 4, 4, 4, 4, 16, 4, 16, 16, 9, 16..."
      ]
     },
     "execution_count": 50,
     "metadata": {},
     "output_type": "execute_result"
    }
   ],
   "source": [
    "# Check List\n",
    "df_user_dpt_list.head()"
   ]
  },
  {
   "cell_type": "code",
   "execution_count": 51,
   "id": "f94e664f-acce-4880-8bdf-28fbacfa1104",
   "metadata": {},
   "outputs": [],
   "source": [
    "# Initialize diet profile list\n",
    "df_user_dpt_list['diet_profile'] = 'Meat Eater'"
   ]
  },
  {
   "cell_type": "code",
   "execution_count": 52,
   "id": "56827ec0-7074-4ca8-8c04-6d88930e906d",
   "metadata": {},
   "outputs": [],
   "source": [
    "# Vegan = no meat (12), no dairy/eggs (16)\n",
    "df_user_dpt_list.loc[df_user_dpt_list['department_id'].apply(lambda x: 12 not in x and 16 not in x), 'diet_profile'] = 'Vegan'"
   ]
  },
  {
   "cell_type": "code",
   "execution_count": 53,
   "id": "8a9661f4-32fc-4bcd-a55f-4d2b523bf0bf",
   "metadata": {},
   "outputs": [],
   "source": [
    "# Vegetarian = no meat (12), but not already Vegan\n",
    "df_user_dpt_list.loc[(df_user_dpt_list['diet_profile'] != 'Vegan') \n",
    "    & df_user_dpt_list['department_id'].apply(lambda x: 12 not in x), 'diet_profile'] = 'Vegetarian'"
   ]
  },
  {
   "cell_type": "code",
   "execution_count": 54,
   "id": "e6b0548d-7df1-442f-8e77-ae3336380592",
   "metadata": {},
   "outputs": [],
   "source": [
    "# Merge back into the original df on user_id\n",
    "df = df.merge(df_user_dpt_list[['user_id', 'diet_profile']], on = 'user_id', how = 'left')"
   ]
  },
  {
   "cell_type": "code",
   "execution_count": 55,
   "id": "736cd33b-9dc1-4775-bfa3-39c9f690ca28",
   "metadata": {},
   "outputs": [
    {
     "data": {
      "text/plain": [
       "diet_profile\n",
       "Meat Eater    113891\n",
       "Vegan          13249\n",
       "Vegetarian     79069\n",
       "Name: user_id, dtype: int64"
      ]
     },
     "execution_count": 55,
     "metadata": {},
     "output_type": "execute_result"
    }
   ],
   "source": [
    "# Count of users by diet profile groups\n",
    "df.groupby('diet_profile')['user_id'].nunique()"
   ]
  },
  {
   "cell_type": "code",
   "execution_count": 56,
   "id": "5aab3d72-be9c-481e-a683-3164e8a92613",
   "metadata": {
    "scrolled": true
   },
   "outputs": [
    {
     "data": {
      "text/html": [
       "<div>\n",
       "<style scoped>\n",
       "    .dataframe tbody tr th:only-of-type {\n",
       "        vertical-align: middle;\n",
       "    }\n",
       "\n",
       "    .dataframe tbody tr th {\n",
       "        vertical-align: top;\n",
       "    }\n",
       "\n",
       "    .dataframe thead th {\n",
       "        text-align: right;\n",
       "    }\n",
       "</style>\n",
       "<table border=\"1\" class=\"dataframe\">\n",
       "  <thead>\n",
       "    <tr style=\"text-align: right;\">\n",
       "      <th></th>\n",
       "      <th>user_id</th>\n",
       "      <th>order_id</th>\n",
       "      <th>order_number</th>\n",
       "      <th>orders_day_of_week</th>\n",
       "      <th>order_hour_of_day</th>\n",
       "      <th>days_since_prior_order</th>\n",
       "      <th>product_id</th>\n",
       "      <th>add_to_cart_order</th>\n",
       "      <th>reordered</th>\n",
       "      <th>product_name</th>\n",
       "      <th>...</th>\n",
       "      <th>fam_status</th>\n",
       "      <th>income</th>\n",
       "      <th>full_name</th>\n",
       "      <th>region</th>\n",
       "      <th>customer_activity</th>\n",
       "      <th>age_group_profile</th>\n",
       "      <th>age_dependant_profile</th>\n",
       "      <th>dependant_group</th>\n",
       "      <th>income_profile</th>\n",
       "      <th>diet_profile</th>\n",
       "    </tr>\n",
       "  </thead>\n",
       "  <tbody>\n",
       "    <tr>\n",
       "      <th>0</th>\n",
       "      <td>1</td>\n",
       "      <td>2539329</td>\n",
       "      <td>1</td>\n",
       "      <td>2</td>\n",
       "      <td>8</td>\n",
       "      <td>15.0</td>\n",
       "      <td>196</td>\n",
       "      <td>1</td>\n",
       "      <td>0</td>\n",
       "      <td>Soda</td>\n",
       "      <td>...</td>\n",
       "      <td>married</td>\n",
       "      <td>40423</td>\n",
       "      <td>Linda Nguyen</td>\n",
       "      <td>South</td>\n",
       "      <td>HIGH</td>\n",
       "      <td>Adult</td>\n",
       "      <td>Parent</td>\n",
       "      <td>With Dependents</td>\n",
       "      <td>Low Income</td>\n",
       "      <td>Vegetarian</td>\n",
       "    </tr>\n",
       "    <tr>\n",
       "      <th>1</th>\n",
       "      <td>2</td>\n",
       "      <td>2168274</td>\n",
       "      <td>1</td>\n",
       "      <td>2</td>\n",
       "      <td>11</td>\n",
       "      <td>10.0</td>\n",
       "      <td>32792</td>\n",
       "      <td>1</td>\n",
       "      <td>0</td>\n",
       "      <td>Chipotle Beef &amp; Pork Realstick</td>\n",
       "      <td>...</td>\n",
       "      <td>married</td>\n",
       "      <td>64940</td>\n",
       "      <td>Norma Chapman</td>\n",
       "      <td>West</td>\n",
       "      <td>HIGH</td>\n",
       "      <td>Senior</td>\n",
       "      <td>Caregiver</td>\n",
       "      <td>With Dependents</td>\n",
       "      <td>Regular Income</td>\n",
       "      <td>Meat Eater</td>\n",
       "    </tr>\n",
       "    <tr>\n",
       "      <th>2</th>\n",
       "      <td>3</td>\n",
       "      <td>1374495</td>\n",
       "      <td>1</td>\n",
       "      <td>1</td>\n",
       "      <td>14</td>\n",
       "      <td>9.0</td>\n",
       "      <td>9387</td>\n",
       "      <td>1</td>\n",
       "      <td>0</td>\n",
       "      <td>Granny Smith Apples</td>\n",
       "      <td>...</td>\n",
       "      <td>married</td>\n",
       "      <td>93240</td>\n",
       "      <td>Janice Fry</td>\n",
       "      <td>West</td>\n",
       "      <td>HIGH</td>\n",
       "      <td>Adult</td>\n",
       "      <td>Parent</td>\n",
       "      <td>With Dependents</td>\n",
       "      <td>Regular Income</td>\n",
       "      <td>Vegetarian</td>\n",
       "    </tr>\n",
       "    <tr>\n",
       "      <th>3</th>\n",
       "      <td>4</td>\n",
       "      <td>3343014</td>\n",
       "      <td>1</td>\n",
       "      <td>6</td>\n",
       "      <td>11</td>\n",
       "      <td>19.0</td>\n",
       "      <td>36606</td>\n",
       "      <td>1</td>\n",
       "      <td>0</td>\n",
       "      <td>Sprouted Multi-Grain Bread</td>\n",
       "      <td>...</td>\n",
       "      <td>married</td>\n",
       "      <td>45435</td>\n",
       "      <td>Bobby Reed</td>\n",
       "      <td>South</td>\n",
       "      <td>HIGH</td>\n",
       "      <td>Adult</td>\n",
       "      <td>Parent</td>\n",
       "      <td>With Dependents</td>\n",
       "      <td>Low Income</td>\n",
       "      <td>Vegan</td>\n",
       "    </tr>\n",
       "    <tr>\n",
       "      <th>4</th>\n",
       "      <td>5</td>\n",
       "      <td>2717275</td>\n",
       "      <td>1</td>\n",
       "      <td>3</td>\n",
       "      <td>12</td>\n",
       "      <td>11.0</td>\n",
       "      <td>15349</td>\n",
       "      <td>1</td>\n",
       "      <td>0</td>\n",
       "      <td>Organic Raw Agave Nectar</td>\n",
       "      <td>...</td>\n",
       "      <td>divorced/widowed</td>\n",
       "      <td>115242</td>\n",
       "      <td>Janet Lester</td>\n",
       "      <td>West</td>\n",
       "      <td>LOW</td>\n",
       "      <td>Senior</td>\n",
       "      <td>Senior</td>\n",
       "      <td>No Dependents</td>\n",
       "      <td>Regular Income</td>\n",
       "      <td>Vegetarian</td>\n",
       "    </tr>\n",
       "  </tbody>\n",
       "</table>\n",
       "<p>5 rows × 39 columns</p>\n",
       "</div>"
      ],
      "text/plain": [
       "   user_id  order_id  order_number  orders_day_of_week  order_hour_of_day  \\\n",
       "0        1   2539329             1                   2                  8   \n",
       "1        2   2168274             1                   2                 11   \n",
       "2        3   1374495             1                   1                 14   \n",
       "3        4   3343014             1                   6                 11   \n",
       "4        5   2717275             1                   3                 12   \n",
       "\n",
       "   days_since_prior_order  product_id  add_to_cart_order  reordered  \\\n",
       "0                    15.0         196                  1          0   \n",
       "1                    10.0       32792                  1          0   \n",
       "2                     9.0        9387                  1          0   \n",
       "3                    19.0       36606                  1          0   \n",
       "4                    11.0       15349                  1          0   \n",
       "\n",
       "                     product_name  ...        fam_status  income  \\\n",
       "0                            Soda  ...           married   40423   \n",
       "1  Chipotle Beef & Pork Realstick  ...           married   64940   \n",
       "2             Granny Smith Apples  ...           married   93240   \n",
       "3      Sprouted Multi-Grain Bread  ...           married   45435   \n",
       "4        Organic Raw Agave Nectar  ...  divorced/widowed  115242   \n",
       "\n",
       "       full_name region customer_activity age_group_profile  \\\n",
       "0   Linda Nguyen  South              HIGH             Adult   \n",
       "1  Norma Chapman   West              HIGH            Senior   \n",
       "2     Janice Fry   West              HIGH             Adult   \n",
       "3     Bobby Reed  South              HIGH             Adult   \n",
       "4   Janet Lester   West               LOW            Senior   \n",
       "\n",
       "  age_dependant_profile  dependant_group  income_profile  diet_profile  \n",
       "0                Parent  With Dependents      Low Income    Vegetarian  \n",
       "1             Caregiver  With Dependents  Regular Income    Meat Eater  \n",
       "2                Parent  With Dependents  Regular Income    Vegetarian  \n",
       "3                Parent  With Dependents      Low Income         Vegan  \n",
       "4                Senior    No Dependents  Regular Income    Vegetarian  \n",
       "\n",
       "[5 rows x 39 columns]"
      ]
     },
     "execution_count": 56,
     "metadata": {},
     "output_type": "execute_result"
    }
   ],
   "source": [
    "# Check columns by user id with no repeats\n",
    "df.groupby('user_id').first().reset_index().head()"
   ]
  },
  {
   "cell_type": "markdown",
   "id": "b7e2182d-5be7-46bc-aa44-4175634a135d",
   "metadata": {},
   "source": [
    "#### Diet Profile Visualization"
   ]
  },
  {
   "cell_type": "code",
   "execution_count": 57,
   "id": "5cccc4f7-82ae-49eb-8b1e-630c7b003b05",
   "metadata": {},
   "outputs": [],
   "source": [
    "# pandas Series for the diet profile count\n",
    "diet_profile_count = df.groupby('diet_profile')['user_id'].nunique()"
   ]
  },
  {
   "cell_type": "code",
   "execution_count": 58,
   "id": "02a1ef8b-c1a9-4a4d-b364-400931094c2e",
   "metadata": {},
   "outputs": [
    {
     "data": {
      "image/png": "[encoded data removed]",
      "text/plain": [
       "<Figure size 640x480 with 1 Axes>"
      ]
     },
     "metadata": {},
     "output_type": "display_data"
    }
   ],
   "source": [
    "# Create the pie chart\n",
    "diet_profile_pie_chart, ax = plt.subplots()\n",
    "ax.pie(diet_profile_count, labels = diet_profile_count.index, autopct='%1.1f%%', startangle=90)\n",
    "ax.set_title('Diet Profile Distribution')\n",
    "ax.axis('equal') \n",
    "plt.show()"
   ]
  },
  {
   "cell_type": "markdown",
   "id": "dfb37474-93a4-46cf-88d6-9c0a65a63975",
   "metadata": {},
   "source": [
    "##### Export"
   ]
  },
  {
   "cell_type": "code",
   "execution_count": 59,
   "id": "7adb9906-6545-4d93-b57d-83b6b80d82a5",
   "metadata": {},
   "outputs": [],
   "source": [
    "# Export Image of Pie Chart of diet_profile\n",
    "diet_profile_pie_chart.savefig(os.path.join(path, '04_Analysis','Visualizations', 'diet_profile_pie_chart.png'))"
   ]
  },
  {
   "cell_type": "markdown",
   "id": "0e084bc9-9093-421c-b440-10d079588fc6",
   "metadata": {},
   "source": [
    "### Time Pattern Profile"
   ]
  },
  {
   "cell_type": "code",
   "execution_count": 60,
   "id": "5af5e50b-7334-410a-8ef6-a44bb0a0b246",
   "metadata": {},
   "outputs": [],
   "source": [
    "# Creating a column of the time pattern profile for late night weekend shoppers\n",
    "df.loc[(df['order_hour_of_day'] >= 20) & (df['orders_day_of_week'].isin([0, 1])), 'time_profile'] = 'Late Night Weekend Shopper'"
   ]
  },
  {
   "cell_type": "code",
   "execution_count": 61,
   "id": "bb3794c8-d103-4fdd-a21f-b23876a791ef",
   "metadata": {},
   "outputs": [],
   "source": [
    "# Creating a column of the time pattern profile for late night shoppers\n",
    "df.loc[(df['order_hour_of_day'] >= 20) & (~df['orders_day_of_week'].isin([0, 1])), 'time_profile'] = 'Late Night Shopper'"
   ]
  },
  {
   "cell_type": "code",
   "execution_count": 62,
   "id": "b2ec8a7d-8304-41c3-a2ef-982566e59837",
   "metadata": {},
   "outputs": [],
   "source": [
    "# Creating a column of the time pattern profile for weekend shoppers\n",
    "df.loc[(df['order_hour_of_day'] < 20) & (df['orders_day_of_week'].isin([ 0, 1])), 'time_profile'] = 'Weekend Shopper'"
   ]
  },
  {
   "cell_type": "code",
   "execution_count": 63,
   "id": "75a72745-2f35-456d-9660-6bc633a371c6",
   "metadata": {},
   "outputs": [],
   "source": [
    "# Creating a column of the time pattern profile for weekday shoppers\n",
    "df.loc[(df['order_hour_of_day'] < 20) & (~df['orders_day_of_week'].isin([ 0, 1])), 'time_profile'] = 'Weekday Shopper'"
   ]
  },
  {
   "cell_type": "code",
   "execution_count": 64,
   "id": "78246793-3082-41fd-897d-decd015ffec3",
   "metadata": {},
   "outputs": [
    {
     "data": {
      "text/html": [
       "<div>\n",
       "<style scoped>\n",
       "    .dataframe tbody tr th:only-of-type {\n",
       "        vertical-align: middle;\n",
       "    }\n",
       "\n",
       "    .dataframe tbody tr th {\n",
       "        vertical-align: top;\n",
       "    }\n",
       "\n",
       "    .dataframe thead th {\n",
       "        text-align: right;\n",
       "    }\n",
       "</style>\n",
       "<table border=\"1\" class=\"dataframe\">\n",
       "  <thead>\n",
       "    <tr style=\"text-align: right;\">\n",
       "      <th></th>\n",
       "      <th>order_id</th>\n",
       "      <th>user_id</th>\n",
       "      <th>order_number</th>\n",
       "      <th>orders_day_of_week</th>\n",
       "      <th>order_hour_of_day</th>\n",
       "      <th>days_since_prior_order</th>\n",
       "      <th>product_id</th>\n",
       "      <th>add_to_cart_order</th>\n",
       "      <th>reordered</th>\n",
       "      <th>product_name</th>\n",
       "      <th>...</th>\n",
       "      <th>income</th>\n",
       "      <th>full_name</th>\n",
       "      <th>region</th>\n",
       "      <th>customer_activity</th>\n",
       "      <th>age_group_profile</th>\n",
       "      <th>age_dependant_profile</th>\n",
       "      <th>dependant_group</th>\n",
       "      <th>income_profile</th>\n",
       "      <th>diet_profile</th>\n",
       "      <th>time_profile</th>\n",
       "    </tr>\n",
       "  </thead>\n",
       "  <tbody>\n",
       "    <tr>\n",
       "      <th>0</th>\n",
       "      <td>2</td>\n",
       "      <td>202279</td>\n",
       "      <td>3</td>\n",
       "      <td>5</td>\n",
       "      <td>9</td>\n",
       "      <td>8.0</td>\n",
       "      <td>33120</td>\n",
       "      <td>1</td>\n",
       "      <td>1</td>\n",
       "      <td>Organic Egg Whites</td>\n",
       "      <td>...</td>\n",
       "      <td>98119</td>\n",
       "      <td>Paul Coleman</td>\n",
       "      <td>West</td>\n",
       "      <td>HIGH</td>\n",
       "      <td>Adult</td>\n",
       "      <td>Parent</td>\n",
       "      <td>With Dependents</td>\n",
       "      <td>Regular Income</td>\n",
       "      <td>Vegetarian</td>\n",
       "      <td>Weekday Shopper</td>\n",
       "    </tr>\n",
       "    <tr>\n",
       "      <th>1</th>\n",
       "      <td>3</td>\n",
       "      <td>205970</td>\n",
       "      <td>16</td>\n",
       "      <td>5</td>\n",
       "      <td>17</td>\n",
       "      <td>12.0</td>\n",
       "      <td>33754</td>\n",
       "      <td>1</td>\n",
       "      <td>1</td>\n",
       "      <td>Total 2% with Strawberry Lowfat Greek Strained...</td>\n",
       "      <td>...</td>\n",
       "      <td>149831</td>\n",
       "      <td>David Magana</td>\n",
       "      <td>West</td>\n",
       "      <td>HIGH</td>\n",
       "      <td>Adult</td>\n",
       "      <td>Parent</td>\n",
       "      <td>With Dependents</td>\n",
       "      <td>High Income</td>\n",
       "      <td>Meat Eater</td>\n",
       "      <td>Weekday Shopper</td>\n",
       "    </tr>\n",
       "    <tr>\n",
       "      <th>2</th>\n",
       "      <td>4</td>\n",
       "      <td>178520</td>\n",
       "      <td>36</td>\n",
       "      <td>1</td>\n",
       "      <td>9</td>\n",
       "      <td>7.0</td>\n",
       "      <td>46842</td>\n",
       "      <td>1</td>\n",
       "      <td>0</td>\n",
       "      <td>Plain Pre-Sliced Bagels</td>\n",
       "      <td>...</td>\n",
       "      <td>76976</td>\n",
       "      <td>Philip Vargas</td>\n",
       "      <td>Northeast</td>\n",
       "      <td>HIGH</td>\n",
       "      <td>Senior</td>\n",
       "      <td>Caregiver</td>\n",
       "      <td>With Dependents</td>\n",
       "      <td>Regular Income</td>\n",
       "      <td>Vegetarian</td>\n",
       "      <td>Weekend Shopper</td>\n",
       "    </tr>\n",
       "    <tr>\n",
       "      <th>3</th>\n",
       "      <td>5</td>\n",
       "      <td>156122</td>\n",
       "      <td>42</td>\n",
       "      <td>6</td>\n",
       "      <td>16</td>\n",
       "      <td>9.0</td>\n",
       "      <td>13176</td>\n",
       "      <td>1</td>\n",
       "      <td>1</td>\n",
       "      <td>Bag of Organic Bananas</td>\n",
       "      <td>...</td>\n",
       "      <td>80419</td>\n",
       "      <td>Justin Singleton</td>\n",
       "      <td>South</td>\n",
       "      <td>HIGH</td>\n",
       "      <td>Adult</td>\n",
       "      <td>Parent</td>\n",
       "      <td>With Dependents</td>\n",
       "      <td>Regular Income</td>\n",
       "      <td>Meat Eater</td>\n",
       "      <td>Weekday Shopper</td>\n",
       "    </tr>\n",
       "    <tr>\n",
       "      <th>4</th>\n",
       "      <td>6</td>\n",
       "      <td>22352</td>\n",
       "      <td>4</td>\n",
       "      <td>1</td>\n",
       "      <td>12</td>\n",
       "      <td>30.0</td>\n",
       "      <td>40462</td>\n",
       "      <td>1</td>\n",
       "      <td>0</td>\n",
       "      <td>Cleanse</td>\n",
       "      <td>...</td>\n",
       "      <td>88210</td>\n",
       "      <td>Shawn Chung</td>\n",
       "      <td>Midwest</td>\n",
       "      <td>HIGH</td>\n",
       "      <td>Adult</td>\n",
       "      <td>Parent</td>\n",
       "      <td>With Dependents</td>\n",
       "      <td>Regular Income</td>\n",
       "      <td>Meat Eater</td>\n",
       "      <td>Weekend Shopper</td>\n",
       "    </tr>\n",
       "  </tbody>\n",
       "</table>\n",
       "<p>5 rows × 40 columns</p>\n",
       "</div>"
      ],
      "text/plain": [
       "   order_id  user_id  order_number  orders_day_of_week  order_hour_of_day  \\\n",
       "0         2   202279             3                   5                  9   \n",
       "1         3   205970            16                   5                 17   \n",
       "2         4   178520            36                   1                  9   \n",
       "3         5   156122            42                   6                 16   \n",
       "4         6    22352             4                   1                 12   \n",
       "\n",
       "   days_since_prior_order  product_id  add_to_cart_order  reordered  \\\n",
       "0                     8.0       33120                  1          1   \n",
       "1                    12.0       33754                  1          1   \n",
       "2                     7.0       46842                  1          0   \n",
       "3                     9.0       13176                  1          1   \n",
       "4                    30.0       40462                  1          0   \n",
       "\n",
       "                                        product_name  ...  income  \\\n",
       "0                                 Organic Egg Whites  ...   98119   \n",
       "1  Total 2% with Strawberry Lowfat Greek Strained...  ...  149831   \n",
       "2                            Plain Pre-Sliced Bagels  ...   76976   \n",
       "3                             Bag of Organic Bananas  ...   80419   \n",
       "4                                            Cleanse  ...   88210   \n",
       "\n",
       "          full_name     region customer_activity age_group_profile  \\\n",
       "0      Paul Coleman       West              HIGH             Adult   \n",
       "1      David Magana       West              HIGH             Adult   \n",
       "2     Philip Vargas  Northeast              HIGH            Senior   \n",
       "3  Justin Singleton      South              HIGH             Adult   \n",
       "4       Shawn Chung    Midwest              HIGH             Adult   \n",
       "\n",
       "  age_dependant_profile  dependant_group  income_profile diet_profile  \\\n",
       "0                Parent  With Dependents  Regular Income   Vegetarian   \n",
       "1                Parent  With Dependents     High Income   Meat Eater   \n",
       "2             Caregiver  With Dependents  Regular Income   Vegetarian   \n",
       "3                Parent  With Dependents  Regular Income   Meat Eater   \n",
       "4                Parent  With Dependents  Regular Income   Meat Eater   \n",
       "\n",
       "      time_profile  \n",
       "0  Weekday Shopper  \n",
       "1  Weekday Shopper  \n",
       "2  Weekend Shopper  \n",
       "3  Weekday Shopper  \n",
       "4  Weekend Shopper  \n",
       "\n",
       "[5 rows x 40 columns]"
      ]
     },
     "execution_count": 64,
     "metadata": {},
     "output_type": "execute_result"
    }
   ],
   "source": [
    "# Check columns by order id with no repeats\n",
    "df.groupby('order_id').first().reset_index().head()"
   ]
  },
  {
   "cell_type": "code",
   "execution_count": 65,
   "id": "6e7e6ac3-471a-4bf8-9d24-feeef20df25b",
   "metadata": {},
   "outputs": [
    {
     "data": {
      "text/html": [
       "<div>\n",
       "<style scoped>\n",
       "    .dataframe tbody tr th:only-of-type {\n",
       "        vertical-align: middle;\n",
       "    }\n",
       "\n",
       "    .dataframe tbody tr th {\n",
       "        vertical-align: top;\n",
       "    }\n",
       "\n",
       "    .dataframe thead th {\n",
       "        text-align: right;\n",
       "    }\n",
       "</style>\n",
       "<table border=\"1\" class=\"dataframe\">\n",
       "  <thead>\n",
       "    <tr style=\"text-align: right;\">\n",
       "      <th>time_profile</th>\n",
       "      <th>Late Night Shopper</th>\n",
       "      <th>Late Night Weekend Shopper</th>\n",
       "      <th>Weekday Shopper</th>\n",
       "      <th>Weekend Shopper</th>\n",
       "    </tr>\n",
       "    <tr>\n",
       "      <th>user_id</th>\n",
       "      <th></th>\n",
       "      <th></th>\n",
       "      <th></th>\n",
       "      <th></th>\n",
       "    </tr>\n",
       "  </thead>\n",
       "  <tbody>\n",
       "    <tr>\n",
       "      <th>1</th>\n",
       "      <td>0</td>\n",
       "      <td>0</td>\n",
       "      <td>42</td>\n",
       "      <td>17</td>\n",
       "    </tr>\n",
       "    <tr>\n",
       "      <th>2</th>\n",
       "      <td>0</td>\n",
       "      <td>0</td>\n",
       "      <td>131</td>\n",
       "      <td>64</td>\n",
       "    </tr>\n",
       "    <tr>\n",
       "      <th>3</th>\n",
       "      <td>0</td>\n",
       "      <td>0</td>\n",
       "      <td>26</td>\n",
       "      <td>62</td>\n",
       "    </tr>\n",
       "    <tr>\n",
       "      <th>4</th>\n",
       "      <td>0</td>\n",
       "      <td>0</td>\n",
       "      <td>18</td>\n",
       "      <td>0</td>\n",
       "    </tr>\n",
       "    <tr>\n",
       "      <th>5</th>\n",
       "      <td>0</td>\n",
       "      <td>0</td>\n",
       "      <td>16</td>\n",
       "      <td>21</td>\n",
       "    </tr>\n",
       "    <tr>\n",
       "      <th>...</th>\n",
       "      <td>...</td>\n",
       "      <td>...</td>\n",
       "      <td>...</td>\n",
       "      <td>...</td>\n",
       "    </tr>\n",
       "    <tr>\n",
       "      <th>206205</th>\n",
       "      <td>0</td>\n",
       "      <td>0</td>\n",
       "      <td>32</td>\n",
       "      <td>0</td>\n",
       "    </tr>\n",
       "    <tr>\n",
       "      <th>206206</th>\n",
       "      <td>8</td>\n",
       "      <td>9</td>\n",
       "      <td>155</td>\n",
       "      <td>113</td>\n",
       "    </tr>\n",
       "    <tr>\n",
       "      <th>206207</th>\n",
       "      <td>25</td>\n",
       "      <td>5</td>\n",
       "      <td>127</td>\n",
       "      <td>66</td>\n",
       "    </tr>\n",
       "    <tr>\n",
       "      <th>206208</th>\n",
       "      <td>20</td>\n",
       "      <td>26</td>\n",
       "      <td>482</td>\n",
       "      <td>149</td>\n",
       "    </tr>\n",
       "    <tr>\n",
       "      <th>206209</th>\n",
       "      <td>0</td>\n",
       "      <td>0</td>\n",
       "      <td>82</td>\n",
       "      <td>47</td>\n",
       "    </tr>\n",
       "  </tbody>\n",
       "</table>\n",
       "<p>206209 rows × 4 columns</p>\n",
       "</div>"
      ],
      "text/plain": [
       "time_profile  Late Night Shopper  Late Night Weekend Shopper  Weekday Shopper  \\\n",
       "user_id                                                                         \n",
       "1                              0                           0               42   \n",
       "2                              0                           0              131   \n",
       "3                              0                           0               26   \n",
       "4                              0                           0               18   \n",
       "5                              0                           0               16   \n",
       "...                          ...                         ...              ...   \n",
       "206205                         0                           0               32   \n",
       "206206                         8                           9              155   \n",
       "206207                        25                           5              127   \n",
       "206208                        20                          26              482   \n",
       "206209                         0                           0               82   \n",
       "\n",
       "time_profile  Weekend Shopper  \n",
       "user_id                        \n",
       "1                          17  \n",
       "2                          64  \n",
       "3                          62  \n",
       "4                           0  \n",
       "5                          21  \n",
       "...                       ...  \n",
       "206205                      0  \n",
       "206206                    113  \n",
       "206207                     66  \n",
       "206208                    149  \n",
       "206209                     47  \n",
       "\n",
       "[206209 rows x 4 columns]"
      ]
     },
     "execution_count": 65,
     "metadata": {},
     "output_type": "execute_result"
    }
   ],
   "source": [
    "# Total Orders by time profile counts per user id\n",
    "df.pivot_table(\n",
    "    values='order_id',\n",
    "    index='user_id',\n",
    "    columns='time_profile',\n",
    "    aggfunc='count',\n",
    "    fill_value = 0)\n"
   ]
  },
  {
   "cell_type": "markdown",
   "id": "6fb626ca-995e-46ac-9b97-0286cf074a34",
   "metadata": {},
   "source": [
    "#### Time Pattern Visualizations"
   ]
  },
  {
   "cell_type": "markdown",
   "id": "0e9eeb6e-7233-4066-8bcc-9d3d0c834a5d",
   "metadata": {},
   "source": [
    "##### Heatmap + Export"
   ]
  },
  {
   "cell_type": "code",
   "execution_count": 66,
   "id": "f1cb8639-9204-45af-b048-c5431315940b",
   "metadata": {},
   "outputs": [
    {
     "data": {
      "image/png": "[encoded data removed]",
      "text/plain": [
       "<Figure size 1200x600 with 2 Axes>"
      ]
     },
     "metadata": {},
     "output_type": "display_data"
    }
   ],
   "source": [
    "# Aggregate order counts by weekday and hour for heatmap\n",
    "heatmap_data = df.pivot_table(index='orders_day_of_week', columns='order_hour_of_day', values='order_id', aggfunc='count')\n",
    "\n",
    "plt.figure(figsize=(12, 6))\n",
    "sns.heatmap(heatmap_data, cmap='Blues')\n",
    "plt.title('Order Volume by Day of Week and Hour of Day')\n",
    "plt.xlabel('Hour of Day')\n",
    "plt.ylabel('Day of Week')\n",
    "\n",
    "# Export Heatmap\n",
    "plt.savefig(os.path.join(path, '04_Analysis', 'Visualizations', 'order_volume_heatmap.png'), dpi=300, bbox_inches='tight')\n",
    "plt.show()\n"
   ]
  },
  {
   "cell_type": "markdown",
   "id": "719c8b46-dc74-4903-b8e0-9ff9ddc1464a",
   "metadata": {},
   "source": [
    "##### Bar Chart + Export"
   ]
  },
  {
   "cell_type": "code",
   "execution_count": 67,
   "id": "0b6000f8-3229-4a91-a05e-889d992c5bd0",
   "metadata": {},
   "outputs": [
    {
     "data": {
      "image/png": "[encoded data removed]",
      "text/plain": [
       "<Figure size 640x480 with 1 Axes>"
      ]
     },
     "metadata": {},
     "output_type": "display_data"
    }
   ],
   "source": [
    "# Create Bar Chart based on the distribution of orders across time profile\n",
    "time_profile_bar_chart = df.groupby('time_profile')['order_id'].nunique().plot.bar(color='skyblue', edgecolor='black')\n",
    "plt.title('Time Profile')\n",
    "plt.xlabel('')\n",
    "plt.ylabel('count')\n",
    "plt.xticks(rotation=0)\n",
    "\n",
    "# Add line breaks to x-axis labels\n",
    "new_labels = [label.get_text().replace(' ', '\\n') for label in time_profile_bar_chart.get_xticklabels()] #List of strings\n",
    "time_profile_bar_chart.set_xticklabels(new_labels) # Set string as new tick labels\n",
    "\n",
    "plt.tight_layout()\n",
    "\n",
    "# Export Bar Chart\n",
    "plt.savefig(os.path.join(path, '04_Analysis', 'Visualizations', 'orders_by_time_profile_bar_chart.png'), dpi=300, bbox_inches='tight')\n",
    "plt.show()\n"
   ]
  },
  {
   "cell_type": "markdown",
   "id": "ac3d0951-8624-4125-a19b-9e33c5ac1572",
   "metadata": {},
   "source": [
    "#  08. Customer Profile Aggregation"
   ]
  },
  {
   "cell_type": "code",
   "execution_count": 68,
   "id": "1056ae3a-1472-480b-a69d-39d1b4ffa9b9",
   "metadata": {},
   "outputs": [
    {
     "data": {
      "text/plain": [
       "Index(['order_id', 'user_id', 'order_number', 'orders_day_of_week',\n",
       "       'order_hour_of_day', 'days_since_prior_order', 'product_id',\n",
       "       'add_to_cart_order', 'reordered', 'product_name', 'aisle_id',\n",
       "       'department_id', 'prices', 'price_range_loc', 'daily_frequency',\n",
       "       'new_daily_frequency', 'busiest_period_of_day', 'max_order',\n",
       "       'loyalty_flag', 'average_spend_item', 'spnd_itm_price_flag',\n",
       "       'total_order_spend', 'order_spend_flag', 'customer_freq',\n",
       "       'customer_freq_flag', 'gender', 'state', 'age', 'n_dependants',\n",
       "       'fam_status', 'income', 'full_name', 'region', 'customer_activity',\n",
       "       'age_group_profile', 'age_dependant_profile', 'dependant_group',\n",
       "       'income_profile', 'diet_profile', 'time_profile'],\n",
       "      dtype='object')"
      ]
     },
     "execution_count": 68,
     "metadata": {},
     "output_type": "execute_result"
    }
   ],
   "source": [
    "# Check Columns to aggregate\n",
    "df.columns"
   ]
  },
  {
   "cell_type": "code",
   "execution_count": 69,
   "id": "c2f1d6d6-a0d8-4d13-9e48-ea634293365e",
   "metadata": {},
   "outputs": [
    {
     "data": {
      "text/html": [
       "<div>\n",
       "<style scoped>\n",
       "    .dataframe tbody tr th:only-of-type {\n",
       "        vertical-align: middle;\n",
       "    }\n",
       "\n",
       "    .dataframe tbody tr th {\n",
       "        vertical-align: top;\n",
       "    }\n",
       "\n",
       "    .dataframe thead th {\n",
       "        text-align: right;\n",
       "    }\n",
       "</style>\n",
       "<table border=\"1\" class=\"dataframe\">\n",
       "  <thead>\n",
       "    <tr style=\"text-align: right;\">\n",
       "      <th></th>\n",
       "      <th>max</th>\n",
       "      <th>mean</th>\n",
       "      <th>min</th>\n",
       "    </tr>\n",
       "    <tr>\n",
       "      <th>income_profile</th>\n",
       "      <th></th>\n",
       "      <th></th>\n",
       "      <th></th>\n",
       "    </tr>\n",
       "  </thead>\n",
       "  <tbody>\n",
       "    <tr>\n",
       "      <th>High Income</th>\n",
       "      <td>30.0</td>\n",
       "      <td>10.283592</td>\n",
       "      <td>0.0</td>\n",
       "    </tr>\n",
       "    <tr>\n",
       "      <th>Low Income</th>\n",
       "      <td>30.0</td>\n",
       "      <td>11.123182</td>\n",
       "      <td>0.0</td>\n",
       "    </tr>\n",
       "    <tr>\n",
       "      <th>Regular Income</th>\n",
       "      <td>30.0</td>\n",
       "      <td>10.319037</td>\n",
       "      <td>0.0</td>\n",
       "    </tr>\n",
       "  </tbody>\n",
       "</table>\n",
       "</div>"
      ],
      "text/plain": [
       "                 max       mean  min\n",
       "income_profile                      \n",
       "High Income     30.0  10.283592  0.0\n",
       "Low Income      30.0  11.123182  0.0\n",
       "Regular Income  30.0  10.319037  0.0"
      ]
     },
     "execution_count": 69,
     "metadata": {},
     "output_type": "execute_result"
    }
   ],
   "source": [
    "# Aggregate customer Frequency by income profile\n",
    "df.groupby('income_profile')['customer_freq'].agg(['max', 'mean', 'min'])"
   ]
  },
  {
   "cell_type": "markdown",
   "id": "6ff21740-2aec-4395-bdd8-fcc12d4f37aa",
   "metadata": {},
   "source": [
    "Regardless of the income it seems like people shop at instacart at about the same rate. The low income does have a slight higher frequency."
   ]
  },
  {
   "cell_type": "code",
   "execution_count": 70,
   "id": "d868d641-382f-42a5-91b6-85a5ed9f12f3",
   "metadata": {},
   "outputs": [
    {
     "data": {
      "text/html": [
       "<div>\n",
       "<style scoped>\n",
       "    .dataframe tbody tr th:only-of-type {\n",
       "        vertical-align: middle;\n",
       "    }\n",
       "\n",
       "    .dataframe tbody tr th {\n",
       "        vertical-align: top;\n",
       "    }\n",
       "\n",
       "    .dataframe thead th {\n",
       "        text-align: right;\n",
       "    }\n",
       "</style>\n",
       "<table border=\"1\" class=\"dataframe\">\n",
       "  <thead>\n",
       "    <tr style=\"text-align: right;\">\n",
       "      <th></th>\n",
       "      <th>max</th>\n",
       "      <th>mean</th>\n",
       "      <th>min</th>\n",
       "    </tr>\n",
       "    <tr>\n",
       "      <th>income_profile</th>\n",
       "      <th></th>\n",
       "      <th></th>\n",
       "      <th></th>\n",
       "    </tr>\n",
       "  </thead>\n",
       "  <tbody>\n",
       "    <tr>\n",
       "      <th>High Income</th>\n",
       "      <td>1047.4</td>\n",
       "      <td>126.122653</td>\n",
       "      <td>1.0</td>\n",
       "    </tr>\n",
       "    <tr>\n",
       "      <th>Low Income</th>\n",
       "      <td>875.0</td>\n",
       "      <td>92.617933</td>\n",
       "      <td>1.0</td>\n",
       "    </tr>\n",
       "    <tr>\n",
       "      <th>Regular Income</th>\n",
       "      <td>1092.2</td>\n",
       "      <td>125.596006</td>\n",
       "      <td>1.0</td>\n",
       "    </tr>\n",
       "  </tbody>\n",
       "</table>\n",
       "</div>"
      ],
      "text/plain": [
       "                   max        mean  min\n",
       "income_profile                         \n",
       "High Income     1047.4  126.122653  1.0\n",
       "Low Income       875.0   92.617933  1.0\n",
       "Regular Income  1092.2  125.596006  1.0"
      ]
     },
     "execution_count": 70,
     "metadata": {},
     "output_type": "execute_result"
    }
   ],
   "source": [
    "# Aggregate total amount spent per order by income profile\n",
    "df.groupby('income_profile')['total_order_spend'].agg(['max', 'mean', 'min'])"
   ]
  },
  {
   "cell_type": "markdown",
   "id": "2e23c0d6-7327-4209-83de-9c46978fcd77",
   "metadata": {},
   "source": [
    "This aggregation shows us that both the Regular income and high income spend around the same when they shop at instacart but the lower income tends to spend slightly less."
   ]
  },
  {
   "cell_type": "code",
   "execution_count": 71,
   "id": "9bc30437-31f6-4d2f-8c44-0f9345f1359c",
   "metadata": {},
   "outputs": [
    {
     "data": {
      "text/html": [
       "<div>\n",
       "<style scoped>\n",
       "    .dataframe tbody tr th:only-of-type {\n",
       "        vertical-align: middle;\n",
       "    }\n",
       "\n",
       "    .dataframe tbody tr th {\n",
       "        vertical-align: top;\n",
       "    }\n",
       "\n",
       "    .dataframe thead th {\n",
       "        text-align: right;\n",
       "    }\n",
       "</style>\n",
       "<table border=\"1\" class=\"dataframe\">\n",
       "  <thead>\n",
       "    <tr style=\"text-align: right;\">\n",
       "      <th></th>\n",
       "      <th>max</th>\n",
       "      <th>mean</th>\n",
       "      <th>min</th>\n",
       "    </tr>\n",
       "    <tr>\n",
       "      <th>age_group_profile</th>\n",
       "      <th></th>\n",
       "      <th></th>\n",
       "      <th></th>\n",
       "    </tr>\n",
       "  </thead>\n",
       "  <tbody>\n",
       "    <tr>\n",
       "      <th>Adult</th>\n",
       "      <td>30.0</td>\n",
       "      <td>10.416145</td>\n",
       "      <td>0.0</td>\n",
       "    </tr>\n",
       "    <tr>\n",
       "      <th>Senior</th>\n",
       "      <td>30.0</td>\n",
       "      <td>10.362496</td>\n",
       "      <td>0.0</td>\n",
       "    </tr>\n",
       "    <tr>\n",
       "      <th>Young Adult</th>\n",
       "      <td>30.0</td>\n",
       "      <td>10.382574</td>\n",
       "      <td>0.0</td>\n",
       "    </tr>\n",
       "  </tbody>\n",
       "</table>\n",
       "</div>"
      ],
      "text/plain": [
       "                    max       mean  min\n",
       "age_group_profile                      \n",
       "Adult              30.0  10.416145  0.0\n",
       "Senior             30.0  10.362496  0.0\n",
       "Young Adult        30.0  10.382574  0.0"
      ]
     },
     "execution_count": 71,
     "metadata": {},
     "output_type": "execute_result"
    }
   ],
   "source": [
    "# Aggregate customer Frequency by age group profile\n",
    "df.groupby('age_group_profile')['customer_freq'].agg(['max', 'mean', 'min'])"
   ]
  },
  {
   "cell_type": "markdown",
   "id": "01e2994b-33bc-464d-92b9-9103012dec5a",
   "metadata": {},
   "source": [
    "When viewed by age group it seems like all groups shop at instacart at around the same rate."
   ]
  },
  {
   "cell_type": "code",
   "execution_count": 72,
   "id": "c6de6be0-810c-4acd-ab16-602fed72c31c",
   "metadata": {},
   "outputs": [
    {
     "data": {
      "text/html": [
       "<div>\n",
       "<style scoped>\n",
       "    .dataframe tbody tr th:only-of-type {\n",
       "        vertical-align: middle;\n",
       "    }\n",
       "\n",
       "    .dataframe tbody tr th {\n",
       "        vertical-align: top;\n",
       "    }\n",
       "\n",
       "    .dataframe thead th {\n",
       "        text-align: right;\n",
       "    }\n",
       "</style>\n",
       "<table border=\"1\" class=\"dataframe\">\n",
       "  <thead>\n",
       "    <tr style=\"text-align: right;\">\n",
       "      <th></th>\n",
       "      <th>max</th>\n",
       "      <th>mean</th>\n",
       "      <th>min</th>\n",
       "    </tr>\n",
       "    <tr>\n",
       "      <th>age_group_profile</th>\n",
       "      <th></th>\n",
       "      <th></th>\n",
       "      <th></th>\n",
       "    </tr>\n",
       "  </thead>\n",
       "  <tbody>\n",
       "    <tr>\n",
       "      <th>Adult</th>\n",
       "      <td>1092.2</td>\n",
       "      <td>122.375664</td>\n",
       "      <td>1.0</td>\n",
       "    </tr>\n",
       "    <tr>\n",
       "      <th>Senior</th>\n",
       "      <td>787.0</td>\n",
       "      <td>121.398491</td>\n",
       "      <td>1.0</td>\n",
       "    </tr>\n",
       "    <tr>\n",
       "      <th>Young Adult</th>\n",
       "      <td>842.1</td>\n",
       "      <td>122.189941</td>\n",
       "      <td>1.0</td>\n",
       "    </tr>\n",
       "  </tbody>\n",
       "</table>\n",
       "</div>"
      ],
      "text/plain": [
       "                      max        mean  min\n",
       "age_group_profile                         \n",
       "Adult              1092.2  122.375664  1.0\n",
       "Senior              787.0  121.398491  1.0\n",
       "Young Adult         842.1  122.189941  1.0"
      ]
     },
     "execution_count": 72,
     "metadata": {},
     "output_type": "execute_result"
    }
   ],
   "source": [
    "# Aggregate total amount spent per order by age group profile\n",
    "df.groupby('age_group_profile')['total_order_spend'].agg(['max', 'mean', 'min'])"
   ]
  },
  {
   "cell_type": "markdown",
   "id": "44624809-005f-4433-8600-f655fea70321",
   "metadata": {},
   "source": [
    "Unlike when we grouped by income, it seems that when we group by age group the average amount spent on orders is about the same. We do see a difference in the max spent on the adult profile."
   ]
  },
  {
   "cell_type": "markdown",
   "id": "f23e5632-a00a-4e36-b883-279e2553dd8a",
   "metadata": {},
   "source": [
    "# 09. Comparing Customer Profile with Regions and Departments"
   ]
  },
  {
   "cell_type": "markdown",
   "id": "c269732a-2f06-4c7e-a657-b36574d94311",
   "metadata": {},
   "source": [
    "#### Comparing Customer Profile with Region"
   ]
  },
  {
   "cell_type": "code",
   "execution_count": 73,
   "id": "9f6b77bb-3fb6-44af-a2ed-10cea592b79d",
   "metadata": {},
   "outputs": [
    {
     "data": {
      "text/html": [
       "<div>\n",
       "<style scoped>\n",
       "    .dataframe tbody tr th:only-of-type {\n",
       "        vertical-align: middle;\n",
       "    }\n",
       "\n",
       "    .dataframe tbody tr th {\n",
       "        vertical-align: top;\n",
       "    }\n",
       "\n",
       "    .dataframe thead th {\n",
       "        text-align: right;\n",
       "    }\n",
       "</style>\n",
       "<table border=\"1\" class=\"dataframe\">\n",
       "  <thead>\n",
       "    <tr style=\"text-align: right;\">\n",
       "      <th>income_profile</th>\n",
       "      <th>High Income</th>\n",
       "      <th>Low Income</th>\n",
       "      <th>Regular Income</th>\n",
       "    </tr>\n",
       "    <tr>\n",
       "      <th>region</th>\n",
       "      <th></th>\n",
       "      <th></th>\n",
       "      <th></th>\n",
       "    </tr>\n",
       "  </thead>\n",
       "  <tbody>\n",
       "    <tr>\n",
       "      <th>Midwest</th>\n",
       "      <td>30.0</td>\n",
       "      <td>11.0</td>\n",
       "      <td>59.0</td>\n",
       "    </tr>\n",
       "    <tr>\n",
       "      <th>Northeast</th>\n",
       "      <td>29.7</td>\n",
       "      <td>11.0</td>\n",
       "      <td>59.3</td>\n",
       "    </tr>\n",
       "    <tr>\n",
       "      <th>South</th>\n",
       "      <td>29.1</td>\n",
       "      <td>11.3</td>\n",
       "      <td>59.5</td>\n",
       "    </tr>\n",
       "    <tr>\n",
       "      <th>West</th>\n",
       "      <td>29.4</td>\n",
       "      <td>11.0</td>\n",
       "      <td>59.7</td>\n",
       "    </tr>\n",
       "  </tbody>\n",
       "</table>\n",
       "</div>"
      ],
      "text/plain": [
       "income_profile  High Income  Low Income  Regular Income\n",
       "region                                                 \n",
       "Midwest                30.0        11.0            59.0\n",
       "Northeast              29.7        11.0            59.3\n",
       "South                  29.1        11.3            59.5\n",
       "West                   29.4        11.0            59.7"
      ]
     },
     "execution_count": 73,
     "metadata": {},
     "output_type": "execute_result"
    }
   ],
   "source": [
    "# Proportion of income profiles within each region\n",
    "pd.crosstab(df['region'], df['income_profile'], normalize='index').round(3)*100"
   ]
  },
  {
   "cell_type": "code",
   "execution_count": 74,
   "id": "e81365b5-c7a1-42c9-a7cd-ce820eeaa21f",
   "metadata": {},
   "outputs": [
    {
     "data": {
      "text/html": [
       "<div>\n",
       "<style scoped>\n",
       "    .dataframe tbody tr th:only-of-type {\n",
       "        vertical-align: middle;\n",
       "    }\n",
       "\n",
       "    .dataframe tbody tr th {\n",
       "        vertical-align: top;\n",
       "    }\n",
       "\n",
       "    .dataframe thead th {\n",
       "        text-align: right;\n",
       "    }\n",
       "</style>\n",
       "<table border=\"1\" class=\"dataframe\">\n",
       "  <thead>\n",
       "    <tr style=\"text-align: right;\">\n",
       "      <th>age_group_profile</th>\n",
       "      <th>Adult</th>\n",
       "      <th>Senior</th>\n",
       "      <th>Young Adult</th>\n",
       "    </tr>\n",
       "    <tr>\n",
       "      <th>region</th>\n",
       "      <th></th>\n",
       "      <th></th>\n",
       "      <th></th>\n",
       "    </tr>\n",
       "  </thead>\n",
       "  <tbody>\n",
       "    <tr>\n",
       "      <th>Midwest</th>\n",
       "      <td>61.4</td>\n",
       "      <td>26.2</td>\n",
       "      <td>12.4</td>\n",
       "    </tr>\n",
       "    <tr>\n",
       "      <th>Northeast</th>\n",
       "      <td>60.4</td>\n",
       "      <td>27.2</td>\n",
       "      <td>12.4</td>\n",
       "    </tr>\n",
       "    <tr>\n",
       "      <th>South</th>\n",
       "      <td>61.0</td>\n",
       "      <td>26.3</td>\n",
       "      <td>12.8</td>\n",
       "    </tr>\n",
       "    <tr>\n",
       "      <th>West</th>\n",
       "      <td>61.3</td>\n",
       "      <td>26.5</td>\n",
       "      <td>12.3</td>\n",
       "    </tr>\n",
       "  </tbody>\n",
       "</table>\n",
       "</div>"
      ],
      "text/plain": [
       "age_group_profile  Adult  Senior  Young Adult\n",
       "region                                       \n",
       "Midwest             61.4    26.2         12.4\n",
       "Northeast           60.4    27.2         12.4\n",
       "South               61.0    26.3         12.8\n",
       "West                61.3    26.5         12.3"
      ]
     },
     "execution_count": 74,
     "metadata": {},
     "output_type": "execute_result"
    }
   ],
   "source": [
    "# Proportion of age group profiles within each region\n",
    "pd.crosstab(df['region'], df['age_group_profile'], normalize='index').round(3)*100"
   ]
  },
  {
   "cell_type": "code",
   "execution_count": 75,
   "id": "2fde2248-b2a1-47eb-95a2-bb3b90e8b3df",
   "metadata": {},
   "outputs": [
    {
     "data": {
      "text/html": [
       "<div>\n",
       "<style scoped>\n",
       "    .dataframe tbody tr th:only-of-type {\n",
       "        vertical-align: middle;\n",
       "    }\n",
       "\n",
       "    .dataframe tbody tr th {\n",
       "        vertical-align: top;\n",
       "    }\n",
       "\n",
       "    .dataframe thead th {\n",
       "        text-align: right;\n",
       "    }\n",
       "</style>\n",
       "<table border=\"1\" class=\"dataframe\">\n",
       "  <thead>\n",
       "    <tr style=\"text-align: right;\">\n",
       "      <th>time_profile</th>\n",
       "      <th>Late Night Shopper</th>\n",
       "      <th>Late Night Weekend Shopper</th>\n",
       "      <th>Weekday Shopper</th>\n",
       "      <th>Weekend Shopper</th>\n",
       "    </tr>\n",
       "    <tr>\n",
       "      <th>region</th>\n",
       "      <th></th>\n",
       "      <th></th>\n",
       "      <th></th>\n",
       "      <th></th>\n",
       "    </tr>\n",
       "  </thead>\n",
       "  <tbody>\n",
       "    <tr>\n",
       "      <th>Midwest</th>\n",
       "      <td>5.8</td>\n",
       "      <td>2.9</td>\n",
       "      <td>57.6</td>\n",
       "      <td>33.7</td>\n",
       "    </tr>\n",
       "    <tr>\n",
       "      <th>Northeast</th>\n",
       "      <td>5.8</td>\n",
       "      <td>3.0</td>\n",
       "      <td>57.6</td>\n",
       "      <td>33.7</td>\n",
       "    </tr>\n",
       "    <tr>\n",
       "      <th>South</th>\n",
       "      <td>5.7</td>\n",
       "      <td>2.9</td>\n",
       "      <td>57.7</td>\n",
       "      <td>33.6</td>\n",
       "    </tr>\n",
       "    <tr>\n",
       "      <th>West</th>\n",
       "      <td>5.7</td>\n",
       "      <td>2.9</td>\n",
       "      <td>57.7</td>\n",
       "      <td>33.8</td>\n",
       "    </tr>\n",
       "  </tbody>\n",
       "</table>\n",
       "</div>"
      ],
      "text/plain": [
       "time_profile  Late Night Shopper  Late Night Weekend Shopper  Weekday Shopper  \\\n",
       "region                                                                          \n",
       "Midwest                      5.8                         2.9             57.6   \n",
       "Northeast                    5.8                         3.0             57.6   \n",
       "South                        5.7                         2.9             57.7   \n",
       "West                         5.7                         2.9             57.7   \n",
       "\n",
       "time_profile  Weekend Shopper  \n",
       "region                         \n",
       "Midwest                  33.7  \n",
       "Northeast                33.7  \n",
       "South                    33.6  \n",
       "West                     33.8  "
      ]
     },
     "execution_count": 75,
     "metadata": {},
     "output_type": "execute_result"
    }
   ],
   "source": [
    "# Proportion of time profiles withing each region\n",
    "pd.crosstab(df['region'], df['time_profile'], normalize='index').mul(100).round(1)"
   ]
  },
  {
   "cell_type": "markdown",
   "id": "57e1064b-3668-4448-8194-51a6caa0d003",
   "metadata": {},
   "source": [
    "#### Comparing Customer Profile with Departments"
   ]
  },
  {
   "cell_type": "code",
   "execution_count": 76,
   "id": "136df26e-ae69-417c-a9a9-a1e0a3bcf563",
   "metadata": {},
   "outputs": [],
   "source": [
    "df_dept = pd.read_csv(os.path.join(path, '02_Data', 'Prepared Data', 'departments_wrangled_task.csv'))"
   ]
  },
  {
   "cell_type": "code",
   "execution_count": 77,
   "id": "010f1b38-6e91-4817-b6ac-c766a5d58885",
   "metadata": {},
   "outputs": [
    {
     "data": {
      "text/html": [
       "<div>\n",
       "<style scoped>\n",
       "    .dataframe tbody tr th:only-of-type {\n",
       "        vertical-align: middle;\n",
       "    }\n",
       "\n",
       "    .dataframe tbody tr th {\n",
       "        vertical-align: top;\n",
       "    }\n",
       "\n",
       "    .dataframe thead th {\n",
       "        text-align: right;\n",
       "    }\n",
       "</style>\n",
       "<table border=\"1\" class=\"dataframe\">\n",
       "  <thead>\n",
       "    <tr style=\"text-align: right;\">\n",
       "      <th></th>\n",
       "      <th>department_id</th>\n",
       "      <th>department</th>\n",
       "    </tr>\n",
       "  </thead>\n",
       "  <tbody>\n",
       "    <tr>\n",
       "      <th>0</th>\n",
       "      <td>1</td>\n",
       "      <td>frozen</td>\n",
       "    </tr>\n",
       "    <tr>\n",
       "      <th>1</th>\n",
       "      <td>2</td>\n",
       "      <td>other</td>\n",
       "    </tr>\n",
       "    <tr>\n",
       "      <th>2</th>\n",
       "      <td>3</td>\n",
       "      <td>bakery</td>\n",
       "    </tr>\n",
       "    <tr>\n",
       "      <th>3</th>\n",
       "      <td>4</td>\n",
       "      <td>produce</td>\n",
       "    </tr>\n",
       "    <tr>\n",
       "      <th>4</th>\n",
       "      <td>5</td>\n",
       "      <td>alcohol</td>\n",
       "    </tr>\n",
       "    <tr>\n",
       "      <th>5</th>\n",
       "      <td>6</td>\n",
       "      <td>international</td>\n",
       "    </tr>\n",
       "    <tr>\n",
       "      <th>6</th>\n",
       "      <td>7</td>\n",
       "      <td>beverages</td>\n",
       "    </tr>\n",
       "    <tr>\n",
       "      <th>7</th>\n",
       "      <td>8</td>\n",
       "      <td>pets</td>\n",
       "    </tr>\n",
       "    <tr>\n",
       "      <th>8</th>\n",
       "      <td>9</td>\n",
       "      <td>dry goods pasta</td>\n",
       "    </tr>\n",
       "    <tr>\n",
       "      <th>9</th>\n",
       "      <td>10</td>\n",
       "      <td>bulk</td>\n",
       "    </tr>\n",
       "    <tr>\n",
       "      <th>10</th>\n",
       "      <td>11</td>\n",
       "      <td>personal care</td>\n",
       "    </tr>\n",
       "    <tr>\n",
       "      <th>11</th>\n",
       "      <td>12</td>\n",
       "      <td>meat seafood</td>\n",
       "    </tr>\n",
       "    <tr>\n",
       "      <th>12</th>\n",
       "      <td>13</td>\n",
       "      <td>pantry</td>\n",
       "    </tr>\n",
       "    <tr>\n",
       "      <th>13</th>\n",
       "      <td>14</td>\n",
       "      <td>breakfast</td>\n",
       "    </tr>\n",
       "    <tr>\n",
       "      <th>14</th>\n",
       "      <td>15</td>\n",
       "      <td>canned goods</td>\n",
       "    </tr>\n",
       "    <tr>\n",
       "      <th>15</th>\n",
       "      <td>16</td>\n",
       "      <td>dairy eggs</td>\n",
       "    </tr>\n",
       "    <tr>\n",
       "      <th>16</th>\n",
       "      <td>17</td>\n",
       "      <td>household</td>\n",
       "    </tr>\n",
       "    <tr>\n",
       "      <th>17</th>\n",
       "      <td>18</td>\n",
       "      <td>babies</td>\n",
       "    </tr>\n",
       "    <tr>\n",
       "      <th>18</th>\n",
       "      <td>19</td>\n",
       "      <td>snacks</td>\n",
       "    </tr>\n",
       "    <tr>\n",
       "      <th>19</th>\n",
       "      <td>20</td>\n",
       "      <td>deli</td>\n",
       "    </tr>\n",
       "    <tr>\n",
       "      <th>20</th>\n",
       "      <td>21</td>\n",
       "      <td>missing</td>\n",
       "    </tr>\n",
       "  </tbody>\n",
       "</table>\n",
       "</div>"
      ],
      "text/plain": [
       "    department_id       department\n",
       "0               1           frozen\n",
       "1               2            other\n",
       "2               3           bakery\n",
       "3               4          produce\n",
       "4               5          alcohol\n",
       "5               6    international\n",
       "6               7        beverages\n",
       "7               8             pets\n",
       "8               9  dry goods pasta\n",
       "9              10             bulk\n",
       "10             11    personal care\n",
       "11             12     meat seafood\n",
       "12             13           pantry\n",
       "13             14        breakfast\n",
       "14             15     canned goods\n",
       "15             16       dairy eggs\n",
       "16             17        household\n",
       "17             18           babies\n",
       "18             19           snacks\n",
       "19             20             deli\n",
       "20             21          missing"
      ]
     },
     "execution_count": 77,
     "metadata": {},
     "output_type": "execute_result"
    }
   ],
   "source": [
    "df_dept"
   ]
  },
  {
   "cell_type": "code",
   "execution_count": 78,
   "id": "33aedf87-5b63-4a3a-9dcb-7bab66ec7f70",
   "metadata": {},
   "outputs": [],
   "source": [
    "# Columns you want to keep\n",
    "cols = ['department_id', 'region', 'age_dependant_profile', 'income_profile', \n",
    "        'user_id', 'order_id', 'order_number', 'total_order_spend', 'customer_activity', 'age_group_profile', 'income']\n",
    "\n",
    "df2 = df[cols].copy()\n",
    "\n",
    "# Convert numeric columns to smaller dtypes\n",
    "df2['department_id'] = df2['department_id'].astype('int32')\n",
    "df2['user_id'] = df2['user_id'].astype('int32')\n",
    "df2['order_id'] = df2['order_id'].astype('int32')\n",
    "df2['order_number'] = df2['order_number'].astype('int16')\n",
    "\n",
    "# Convert categorical columns to save memory\n",
    "cat_cols = ['region', 'age_dependant_profile', 'income_profile', 'customer_activity']\n",
    "for col in cat_cols:\n",
    "    df2[col] = df2[col].astype('category')\n",
    "\n",
    "# Prepare reduced department dataframe\n",
    "df_dept_reduced = df_dept[['department_id', 'department']].copy()\n",
    "df_dept_reduced['department_id'] = df_dept_reduced['department_id'].astype('int32')\n",
    "df_dept_reduced['department'] = df_dept_reduced['department'].astype('category')\n",
    "\n",
    "# Chunked merge\n",
    "chunk_size = 1_000_000\n",
    "chunks = []\n",
    "\n",
    "for start in range(0, len(df2), chunk_size):\n",
    "    chunk = df2.iloc[start:start+chunk_size]\n",
    "    merged_chunk = chunk.merge(df_dept_reduced, on='department_id', how='left')\n",
    "    chunks.append(merged_chunk)\n",
    "\n",
    "df_merged = pd.concat(chunks, ignore_index=True)"
   ]
  },
  {
   "cell_type": "markdown",
   "id": "93c498c6-5e7e-49d9-a187-c4d3f6601449",
   "metadata": {},
   "source": [
    "Used chat gpt to create this code to merge my two df because i was getting a constant error on how much ram was being used."
   ]
  },
  {
   "cell_type": "code",
   "execution_count": 79,
   "id": "5513b9e1-a413-4047-94e3-d441a12110f6",
   "metadata": {},
   "outputs": [
    {
     "data": {
      "text/html": [
       "<div>\n",
       "<style scoped>\n",
       "    .dataframe tbody tr th:only-of-type {\n",
       "        vertical-align: middle;\n",
       "    }\n",
       "\n",
       "    .dataframe tbody tr th {\n",
       "        vertical-align: top;\n",
       "    }\n",
       "\n",
       "    .dataframe thead th {\n",
       "        text-align: right;\n",
       "    }\n",
       "</style>\n",
       "<table border=\"1\" class=\"dataframe\">\n",
       "  <thead>\n",
       "    <tr style=\"text-align: right;\">\n",
       "      <th>region</th>\n",
       "      <th>Midwest</th>\n",
       "      <th>Northeast</th>\n",
       "      <th>South</th>\n",
       "      <th>West</th>\n",
       "    </tr>\n",
       "    <tr>\n",
       "      <th>department</th>\n",
       "      <th></th>\n",
       "      <th></th>\n",
       "      <th></th>\n",
       "      <th></th>\n",
       "    </tr>\n",
       "  </thead>\n",
       "  <tbody>\n",
       "    <tr>\n",
       "      <th>alcohol</th>\n",
       "      <td>24.1</td>\n",
       "      <td>17.7</td>\n",
       "      <td>32.0</td>\n",
       "      <td>26.2</td>\n",
       "    </tr>\n",
       "    <tr>\n",
       "      <th>babies</th>\n",
       "      <td>23.8</td>\n",
       "      <td>18.0</td>\n",
       "      <td>32.7</td>\n",
       "      <td>25.5</td>\n",
       "    </tr>\n",
       "    <tr>\n",
       "      <th>bakery</th>\n",
       "      <td>23.8</td>\n",
       "      <td>18.2</td>\n",
       "      <td>31.8</td>\n",
       "      <td>26.2</td>\n",
       "    </tr>\n",
       "    <tr>\n",
       "      <th>beverages</th>\n",
       "      <td>23.7</td>\n",
       "      <td>18.3</td>\n",
       "      <td>32.2</td>\n",
       "      <td>25.8</td>\n",
       "    </tr>\n",
       "    <tr>\n",
       "      <th>breakfast</th>\n",
       "      <td>23.7</td>\n",
       "      <td>17.9</td>\n",
       "      <td>32.0</td>\n",
       "      <td>26.4</td>\n",
       "    </tr>\n",
       "    <tr>\n",
       "      <th>bulk</th>\n",
       "      <td>24.2</td>\n",
       "      <td>17.1</td>\n",
       "      <td>32.0</td>\n",
       "      <td>26.7</td>\n",
       "    </tr>\n",
       "    <tr>\n",
       "      <th>canned goods</th>\n",
       "      <td>23.9</td>\n",
       "      <td>17.8</td>\n",
       "      <td>32.1</td>\n",
       "      <td>26.2</td>\n",
       "    </tr>\n",
       "    <tr>\n",
       "      <th>dairy eggs</th>\n",
       "      <td>23.9</td>\n",
       "      <td>18.0</td>\n",
       "      <td>32.0</td>\n",
       "      <td>26.1</td>\n",
       "    </tr>\n",
       "    <tr>\n",
       "      <th>deli</th>\n",
       "      <td>23.8</td>\n",
       "      <td>18.1</td>\n",
       "      <td>32.0</td>\n",
       "      <td>26.1</td>\n",
       "    </tr>\n",
       "    <tr>\n",
       "      <th>dry goods pasta</th>\n",
       "      <td>24.0</td>\n",
       "      <td>17.9</td>\n",
       "      <td>31.9</td>\n",
       "      <td>26.3</td>\n",
       "    </tr>\n",
       "    <tr>\n",
       "      <th>frozen</th>\n",
       "      <td>23.9</td>\n",
       "      <td>17.8</td>\n",
       "      <td>32.2</td>\n",
       "      <td>26.1</td>\n",
       "    </tr>\n",
       "    <tr>\n",
       "      <th>household</th>\n",
       "      <td>24.3</td>\n",
       "      <td>18.2</td>\n",
       "      <td>31.5</td>\n",
       "      <td>26.0</td>\n",
       "    </tr>\n",
       "    <tr>\n",
       "      <th>international</th>\n",
       "      <td>24.2</td>\n",
       "      <td>17.8</td>\n",
       "      <td>31.7</td>\n",
       "      <td>26.3</td>\n",
       "    </tr>\n",
       "    <tr>\n",
       "      <th>meat seafood</th>\n",
       "      <td>23.9</td>\n",
       "      <td>17.9</td>\n",
       "      <td>32.0</td>\n",
       "      <td>26.2</td>\n",
       "    </tr>\n",
       "    <tr>\n",
       "      <th>missing</th>\n",
       "      <td>24.3</td>\n",
       "      <td>18.2</td>\n",
       "      <td>32.4</td>\n",
       "      <td>25.1</td>\n",
       "    </tr>\n",
       "    <tr>\n",
       "      <th>other</th>\n",
       "      <td>23.7</td>\n",
       "      <td>18.5</td>\n",
       "      <td>32.2</td>\n",
       "      <td>25.6</td>\n",
       "    </tr>\n",
       "    <tr>\n",
       "      <th>pantry</th>\n",
       "      <td>24.0</td>\n",
       "      <td>17.9</td>\n",
       "      <td>31.9</td>\n",
       "      <td>26.2</td>\n",
       "    </tr>\n",
       "    <tr>\n",
       "      <th>personal care</th>\n",
       "      <td>24.1</td>\n",
       "      <td>18.0</td>\n",
       "      <td>32.2</td>\n",
       "      <td>25.7</td>\n",
       "    </tr>\n",
       "    <tr>\n",
       "      <th>pets</th>\n",
       "      <td>23.3</td>\n",
       "      <td>19.4</td>\n",
       "      <td>30.9</td>\n",
       "      <td>26.5</td>\n",
       "    </tr>\n",
       "    <tr>\n",
       "      <th>produce</th>\n",
       "      <td>23.9</td>\n",
       "      <td>17.9</td>\n",
       "      <td>32.1</td>\n",
       "      <td>26.1</td>\n",
       "    </tr>\n",
       "    <tr>\n",
       "      <th>snacks</th>\n",
       "      <td>23.8</td>\n",
       "      <td>18.2</td>\n",
       "      <td>31.9</td>\n",
       "      <td>26.2</td>\n",
       "    </tr>\n",
       "  </tbody>\n",
       "</table>\n",
       "</div>"
      ],
      "text/plain": [
       "region           Midwest  Northeast  South  West\n",
       "department                                      \n",
       "alcohol             24.1       17.7   32.0  26.2\n",
       "babies              23.8       18.0   32.7  25.5\n",
       "bakery              23.8       18.2   31.8  26.2\n",
       "beverages           23.7       18.3   32.2  25.8\n",
       "breakfast           23.7       17.9   32.0  26.4\n",
       "bulk                24.2       17.1   32.0  26.7\n",
       "canned goods        23.9       17.8   32.1  26.2\n",
       "dairy eggs          23.9       18.0   32.0  26.1\n",
       "deli                23.8       18.1   32.0  26.1\n",
       "dry goods pasta     24.0       17.9   31.9  26.3\n",
       "frozen              23.9       17.8   32.2  26.1\n",
       "household           24.3       18.2   31.5  26.0\n",
       "international       24.2       17.8   31.7  26.3\n",
       "meat seafood        23.9       17.9   32.0  26.2\n",
       "missing             24.3       18.2   32.4  25.1\n",
       "other               23.7       18.5   32.2  25.6\n",
       "pantry              24.0       17.9   31.9  26.2\n",
       "personal care       24.1       18.0   32.2  25.7\n",
       "pets                23.3       19.4   30.9  26.5\n",
       "produce             23.9       17.9   32.1  26.1\n",
       "snacks              23.8       18.2   31.9  26.2"
      ]
     },
     "execution_count": 79,
     "metadata": {},
     "output_type": "execute_result"
    }
   ],
   "source": [
    "# Proportion of Region and Department\n",
    "pd.crosstab(df_merged['department'], df_merged['region'], normalize='index').mul(100).round(1)"
   ]
  },
  {
   "cell_type": "code",
   "execution_count": 80,
   "id": "9c0ac00d-1cab-45bb-be05-cce5d8323c26",
   "metadata": {},
   "outputs": [],
   "source": [
    "# Flip crossstab for bar chart\n",
    "reg_dept_dist = pd.crosstab(df_merged['region'], df_merged['department'], normalize='index').mul(100).round(1)"
   ]
  },
  {
   "cell_type": "code",
   "execution_count": 81,
   "id": "62af442b-07e8-4d0d-9c42-12c37b31e497",
   "metadata": {},
   "outputs": [
    {
     "data": {
      "image/png": "[encoded data removed]",
      "text/plain": [
       "<Figure size 1200x600 with 1 Axes>"
      ]
     },
     "metadata": {},
     "output_type": "display_data"
    }
   ],
   "source": [
    "# Plot as grouped bar chart\n",
    "reg_dept_dist_bar_chart = reg_dept_dist.plot(kind='barh', figsize=(12, 6))\n",
    "\n",
    "plt.title('Department Distribution by Region')\n",
    "plt.xlabel('Percentage')\n",
    "plt.ylabel('Region')\n",
    "\n",
    "# Move legend to the side (right of plot)\n",
    "plt.legend(title='Department', bbox_to_anchor=(1.02, 1), loc='upper left', borderaxespad=0)\n",
    "plt.tight_layout(rect=[0, 0, 0.85, 1])  # leave space on the right for the legend\n",
    "\n",
    "plt.show()\n"
   ]
  },
  {
   "cell_type": "code",
   "execution_count": 82,
   "id": "0959cd3f-0774-4e80-8493-bfa7fb800d09",
   "metadata": {},
   "outputs": [
    {
     "data": {
      "text/html": [
       "<div>\n",
       "<style scoped>\n",
       "    .dataframe tbody tr th:only-of-type {\n",
       "        vertical-align: middle;\n",
       "    }\n",
       "\n",
       "    .dataframe tbody tr th {\n",
       "        vertical-align: top;\n",
       "    }\n",
       "\n",
       "    .dataframe thead th {\n",
       "        text-align: right;\n",
       "    }\n",
       "</style>\n",
       "<table border=\"1\" class=\"dataframe\">\n",
       "  <thead>\n",
       "    <tr style=\"text-align: right;\">\n",
       "      <th>department</th>\n",
       "      <th>alcohol</th>\n",
       "      <th>babies</th>\n",
       "      <th>bakery</th>\n",
       "      <th>beverages</th>\n",
       "      <th>breakfast</th>\n",
       "      <th>bulk</th>\n",
       "      <th>canned goods</th>\n",
       "      <th>dairy eggs</th>\n",
       "      <th>deli</th>\n",
       "      <th>dry goods pasta</th>\n",
       "      <th>...</th>\n",
       "      <th>household</th>\n",
       "      <th>international</th>\n",
       "      <th>meat seafood</th>\n",
       "      <th>missing</th>\n",
       "      <th>other</th>\n",
       "      <th>pantry</th>\n",
       "      <th>personal care</th>\n",
       "      <th>pets</th>\n",
       "      <th>produce</th>\n",
       "      <th>snacks</th>\n",
       "    </tr>\n",
       "    <tr>\n",
       "      <th>age_group_profile</th>\n",
       "      <th></th>\n",
       "      <th></th>\n",
       "      <th></th>\n",
       "      <th></th>\n",
       "      <th></th>\n",
       "      <th></th>\n",
       "      <th></th>\n",
       "      <th></th>\n",
       "      <th></th>\n",
       "      <th></th>\n",
       "      <th></th>\n",
       "      <th></th>\n",
       "      <th></th>\n",
       "      <th></th>\n",
       "      <th></th>\n",
       "      <th></th>\n",
       "      <th></th>\n",
       "      <th></th>\n",
       "      <th></th>\n",
       "      <th></th>\n",
       "      <th></th>\n",
       "    </tr>\n",
       "  </thead>\n",
       "  <tbody>\n",
       "    <tr>\n",
       "      <th>Adult</th>\n",
       "      <td>0.5</td>\n",
       "      <td>1.3</td>\n",
       "      <td>3.6</td>\n",
       "      <td>8.3</td>\n",
       "      <td>2.2</td>\n",
       "      <td>0.1</td>\n",
       "      <td>3.3</td>\n",
       "      <td>16.7</td>\n",
       "      <td>3.3</td>\n",
       "      <td>2.7</td>\n",
       "      <td>...</td>\n",
       "      <td>2.3</td>\n",
       "      <td>0.8</td>\n",
       "      <td>2.2</td>\n",
       "      <td>0.2</td>\n",
       "      <td>0.1</td>\n",
       "      <td>5.8</td>\n",
       "      <td>1.4</td>\n",
       "      <td>0.3</td>\n",
       "      <td>29.3</td>\n",
       "      <td>8.9</td>\n",
       "    </tr>\n",
       "    <tr>\n",
       "      <th>Senior</th>\n",
       "      <td>0.5</td>\n",
       "      <td>1.3</td>\n",
       "      <td>3.6</td>\n",
       "      <td>8.3</td>\n",
       "      <td>2.1</td>\n",
       "      <td>0.1</td>\n",
       "      <td>3.3</td>\n",
       "      <td>16.6</td>\n",
       "      <td>3.2</td>\n",
       "      <td>2.7</td>\n",
       "      <td>...</td>\n",
       "      <td>2.3</td>\n",
       "      <td>0.8</td>\n",
       "      <td>2.2</td>\n",
       "      <td>0.2</td>\n",
       "      <td>0.1</td>\n",
       "      <td>5.8</td>\n",
       "      <td>1.4</td>\n",
       "      <td>0.3</td>\n",
       "      <td>29.3</td>\n",
       "      <td>8.9</td>\n",
       "    </tr>\n",
       "    <tr>\n",
       "      <th>Young Adult</th>\n",
       "      <td>0.5</td>\n",
       "      <td>1.3</td>\n",
       "      <td>3.6</td>\n",
       "      <td>8.2</td>\n",
       "      <td>2.2</td>\n",
       "      <td>0.1</td>\n",
       "      <td>3.3</td>\n",
       "      <td>16.7</td>\n",
       "      <td>3.2</td>\n",
       "      <td>2.7</td>\n",
       "      <td>...</td>\n",
       "      <td>2.3</td>\n",
       "      <td>0.8</td>\n",
       "      <td>2.2</td>\n",
       "      <td>0.2</td>\n",
       "      <td>0.1</td>\n",
       "      <td>5.8</td>\n",
       "      <td>1.4</td>\n",
       "      <td>0.3</td>\n",
       "      <td>29.1</td>\n",
       "      <td>8.9</td>\n",
       "    </tr>\n",
       "  </tbody>\n",
       "</table>\n",
       "<p>3 rows × 21 columns</p>\n",
       "</div>"
      ],
      "text/plain": [
       "department         alcohol  babies  bakery  beverages  breakfast  bulk  \\\n",
       "age_group_profile                                                        \n",
       "Adult                  0.5     1.3     3.6        8.3        2.2   0.1   \n",
       "Senior                 0.5     1.3     3.6        8.3        2.1   0.1   \n",
       "Young Adult            0.5     1.3     3.6        8.2        2.2   0.1   \n",
       "\n",
       "department         canned goods  dairy eggs  deli  dry goods pasta  ...  \\\n",
       "age_group_profile                                                   ...   \n",
       "Adult                       3.3        16.7   3.3              2.7  ...   \n",
       "Senior                      3.3        16.6   3.2              2.7  ...   \n",
       "Young Adult                 3.3        16.7   3.2              2.7  ...   \n",
       "\n",
       "department         household  international  meat seafood  missing  other  \\\n",
       "age_group_profile                                                           \n",
       "Adult                    2.3            0.8           2.2      0.2    0.1   \n",
       "Senior                   2.3            0.8           2.2      0.2    0.1   \n",
       "Young Adult              2.3            0.8           2.2      0.2    0.1   \n",
       "\n",
       "department         pantry  personal care  pets  produce  snacks  \n",
       "age_group_profile                                                \n",
       "Adult                 5.8            1.4   0.3     29.3     8.9  \n",
       "Senior                5.8            1.4   0.3     29.3     8.9  \n",
       "Young Adult           5.8            1.4   0.3     29.1     8.9  \n",
       "\n",
       "[3 rows x 21 columns]"
      ]
     },
     "execution_count": 82,
     "metadata": {},
     "output_type": "execute_result"
    }
   ],
   "source": [
    "# Proportion of age group profile by department\n",
    "pd.crosstab(df_merged['age_group_profile'], df_merged['department'], normalize='index').mul(100).round(1)"
   ]
  },
  {
   "cell_type": "code",
   "execution_count": 83,
   "id": "63718f3b-dddd-45d5-bf37-f6a53bae78b6",
   "metadata": {},
   "outputs": [],
   "source": [
    "# Distribution of Department by age group\n",
    "age_grp_dept_dist = pd.crosstab(df_merged['age_group_profile'], df_merged['department'], normalize='index').mul(100).round(1)"
   ]
  },
  {
   "cell_type": "code",
   "execution_count": 84,
   "id": "b1c5622a-9109-4e96-98e6-54cca3e9ddd4",
   "metadata": {},
   "outputs": [
    {
     "data": {
      "image/png": "[encoded data removed]",
      "text/plain": [
       "<Figure size 1200x600 with 1 Axes>"
      ]
     },
     "metadata": {},
     "output_type": "display_data"
    }
   ],
   "source": [
    "# Plot as grouped bar chart\n",
    "age_grp_dept_dist_bar_chart = age_grp_dept_dist.plot(kind='barh', figsize=(12, 6))\n",
    "plt.title('Department Distribution by Age Group')\n",
    "plt.xlabel('Percentage')\n",
    "plt.ylabel('Age Group')\n",
    "\n",
    "# Move legend to the side (right of plot)\n",
    "plt.legend(title='Department', bbox_to_anchor=(1.02, 1), loc='upper left', borderaxespad=0)\n",
    "plt.tight_layout(rect=[0, 0, 0.85, 1])  # leave space on the right for the legend\n",
    "\n",
    "plt.show()\n"
   ]
  },
  {
   "cell_type": "code",
   "execution_count": 85,
   "id": "c4cf7fb3-442b-4881-adbf-60e1306b47a6",
   "metadata": {
    "scrolled": true
   },
   "outputs": [
    {
     "data": {
      "text/html": [
       "<div>\n",
       "<style scoped>\n",
       "    .dataframe tbody tr th:only-of-type {\n",
       "        vertical-align: middle;\n",
       "    }\n",
       "\n",
       "    .dataframe tbody tr th {\n",
       "        vertical-align: top;\n",
       "    }\n",
       "\n",
       "    .dataframe thead th {\n",
       "        text-align: right;\n",
       "    }\n",
       "</style>\n",
       "<table border=\"1\" class=\"dataframe\">\n",
       "  <thead>\n",
       "    <tr style=\"text-align: right;\">\n",
       "      <th>income_profile</th>\n",
       "      <th>High Income</th>\n",
       "      <th>Low Income</th>\n",
       "      <th>Regular Income</th>\n",
       "    </tr>\n",
       "    <tr>\n",
       "      <th>department</th>\n",
       "      <th></th>\n",
       "      <th></th>\n",
       "      <th></th>\n",
       "    </tr>\n",
       "  </thead>\n",
       "  <tbody>\n",
       "    <tr>\n",
       "      <th>alcohol</th>\n",
       "      <td>31.8</td>\n",
       "      <td>12.9</td>\n",
       "      <td>55.3</td>\n",
       "    </tr>\n",
       "    <tr>\n",
       "      <th>babies</th>\n",
       "      <td>30.8</td>\n",
       "      <td>7.3</td>\n",
       "      <td>62.0</td>\n",
       "    </tr>\n",
       "    <tr>\n",
       "      <th>bakery</th>\n",
       "      <td>30.4</td>\n",
       "      <td>9.8</td>\n",
       "      <td>59.8</td>\n",
       "    </tr>\n",
       "    <tr>\n",
       "      <th>beverages</th>\n",
       "      <td>28.3</td>\n",
       "      <td>15.1</td>\n",
       "      <td>56.6</td>\n",
       "    </tr>\n",
       "    <tr>\n",
       "      <th>breakfast</th>\n",
       "      <td>28.5</td>\n",
       "      <td>13.8</td>\n",
       "      <td>57.6</td>\n",
       "    </tr>\n",
       "    <tr>\n",
       "      <th>bulk</th>\n",
       "      <td>26.6</td>\n",
       "      <td>14.1</td>\n",
       "      <td>59.3</td>\n",
       "    </tr>\n",
       "    <tr>\n",
       "      <th>canned goods</th>\n",
       "      <td>30.9</td>\n",
       "      <td>8.1</td>\n",
       "      <td>61.0</td>\n",
       "    </tr>\n",
       "    <tr>\n",
       "      <th>dairy eggs</th>\n",
       "      <td>29.9</td>\n",
       "      <td>9.9</td>\n",
       "      <td>60.1</td>\n",
       "    </tr>\n",
       "    <tr>\n",
       "      <th>deli</th>\n",
       "      <td>29.5</td>\n",
       "      <td>10.9</td>\n",
       "      <td>59.6</td>\n",
       "    </tr>\n",
       "    <tr>\n",
       "      <th>dry goods pasta</th>\n",
       "      <td>30.7</td>\n",
       "      <td>8.2</td>\n",
       "      <td>61.2</td>\n",
       "    </tr>\n",
       "    <tr>\n",
       "      <th>frozen</th>\n",
       "      <td>30.1</td>\n",
       "      <td>10.4</td>\n",
       "      <td>59.5</td>\n",
       "    </tr>\n",
       "    <tr>\n",
       "      <th>household</th>\n",
       "      <td>29.7</td>\n",
       "      <td>12.7</td>\n",
       "      <td>57.5</td>\n",
       "    </tr>\n",
       "    <tr>\n",
       "      <th>international</th>\n",
       "      <td>30.1</td>\n",
       "      <td>8.7</td>\n",
       "      <td>61.2</td>\n",
       "    </tr>\n",
       "    <tr>\n",
       "      <th>meat seafood</th>\n",
       "      <td>32.1</td>\n",
       "      <td>5.2</td>\n",
       "      <td>62.7</td>\n",
       "    </tr>\n",
       "    <tr>\n",
       "      <th>missing</th>\n",
       "      <td>29.6</td>\n",
       "      <td>10.5</td>\n",
       "      <td>60.0</td>\n",
       "    </tr>\n",
       "    <tr>\n",
       "      <th>other</th>\n",
       "      <td>29.8</td>\n",
       "      <td>11.5</td>\n",
       "      <td>58.7</td>\n",
       "    </tr>\n",
       "    <tr>\n",
       "      <th>pantry</th>\n",
       "      <td>30.3</td>\n",
       "      <td>9.6</td>\n",
       "      <td>60.1</td>\n",
       "    </tr>\n",
       "    <tr>\n",
       "      <th>personal care</th>\n",
       "      <td>29.5</td>\n",
       "      <td>11.6</td>\n",
       "      <td>58.9</td>\n",
       "    </tr>\n",
       "    <tr>\n",
       "      <th>pets</th>\n",
       "      <td>31.8</td>\n",
       "      <td>9.5</td>\n",
       "      <td>58.7</td>\n",
       "    </tr>\n",
       "    <tr>\n",
       "      <th>produce</th>\n",
       "      <td>29.9</td>\n",
       "      <td>9.3</td>\n",
       "      <td>60.8</td>\n",
       "    </tr>\n",
       "    <tr>\n",
       "      <th>snacks</th>\n",
       "      <td>25.7</td>\n",
       "      <td>20.5</td>\n",
       "      <td>53.8</td>\n",
       "    </tr>\n",
       "  </tbody>\n",
       "</table>\n",
       "</div>"
      ],
      "text/plain": [
       "income_profile   High Income  Low Income  Regular Income\n",
       "department                                              \n",
       "alcohol                 31.8        12.9            55.3\n",
       "babies                  30.8         7.3            62.0\n",
       "bakery                  30.4         9.8            59.8\n",
       "beverages               28.3        15.1            56.6\n",
       "breakfast               28.5        13.8            57.6\n",
       "bulk                    26.6        14.1            59.3\n",
       "canned goods            30.9         8.1            61.0\n",
       "dairy eggs              29.9         9.9            60.1\n",
       "deli                    29.5        10.9            59.6\n",
       "dry goods pasta         30.7         8.2            61.2\n",
       "frozen                  30.1        10.4            59.5\n",
       "household               29.7        12.7            57.5\n",
       "international           30.1         8.7            61.2\n",
       "meat seafood            32.1         5.2            62.7\n",
       "missing                 29.6        10.5            60.0\n",
       "other                   29.8        11.5            58.7\n",
       "pantry                  30.3         9.6            60.1\n",
       "personal care           29.5        11.6            58.9\n",
       "pets                    31.8         9.5            58.7\n",
       "produce                 29.9         9.3            60.8\n",
       "snacks                  25.7        20.5            53.8"
      ]
     },
     "execution_count": 85,
     "metadata": {},
     "output_type": "execute_result"
    }
   ],
   "source": [
    "# Proportion of age group profile by department\n",
    "pd.crosstab(df_merged['department'], df_merged['income_profile'], normalize='index').mul(100).round(1)"
   ]
  },
  {
   "cell_type": "code",
   "execution_count": 86,
   "id": "016eb23a-3a61-415c-ba7c-67af7ecf4418",
   "metadata": {},
   "outputs": [],
   "source": [
    "# Income profile distribution within each department\n",
    "income_dept_dist = pd.crosstab(df_merged['income_profile'], df_merged['department'], normalize='index').mul(100).round(1)"
   ]
  },
  {
   "cell_type": "code",
   "execution_count": 87,
   "id": "2532abd5-d3a3-44e5-b558-2d2a36e76734",
   "metadata": {},
   "outputs": [
    {
     "data": {
      "image/png": "[encoded data removed]",
      "text/plain": [
       "<Figure size 1200x600 with 1 Axes>"
      ]
     },
     "metadata": {},
     "output_type": "display_data"
    }
   ],
   "source": [
    "# Plot as grouped bar chart\n",
    "income_dept_dist_bar_chart = income_dept_dist.plot(kind='barh', figsize=(12, 6))\n",
    "plt.title('Department Distribution by Income Profile')\n",
    "plt.xlabel('Percentage')\n",
    "plt.ylabel('Income Profile')\n",
    "\n",
    "# Move legend to the side (right of plot)\n",
    "plt.legend(title='Department', bbox_to_anchor=(1.02, 1), loc='upper left', borderaxespad=0)\n",
    "plt.tight_layout(rect=[0, 0, 0.85, 1])  # leave space on the right for the legend\n",
    "\n",
    "plt.show()\n"
   ]
  },
  {
   "cell_type": "markdown",
   "id": "196b3165-64c7-49e3-bbff-9d96be43f2e4",
   "metadata": {},
   "source": [
    "As expected the lower income bracket spends the least on all departments and the regular income bracket spends the most. This is so because there are more people in the regular income bracket which increases their percentage per department."
   ]
  },
  {
   "cell_type": "markdown",
   "id": "d324043f-2855-4870-8ab1-a5b990628d63",
   "metadata": {},
   "source": [
    "##### Export"
   ]
  },
  {
   "cell_type": "code",
   "execution_count": 88,
   "id": "157cd771-0974-47c6-ac7e-deced556ba20",
   "metadata": {},
   "outputs": [],
   "source": [
    "reg_dept_dist_bar_chart.figure.savefig(os.path.join(path, '04_Analysis','Visualizations', 'reg_dept_dist_bar_chart.png'))"
   ]
  },
  {
   "cell_type": "code",
   "execution_count": 89,
   "id": "7d000634-b2d6-484d-8148-47de0ebb2a2e",
   "metadata": {},
   "outputs": [],
   "source": [
    "age_grp_dept_dist_bar_chart.figure.savefig(os.path.join(path, '04_Analysis','Visualizations', 'age_grp_dept_dist_bar_chart.png'))"
   ]
  },
  {
   "cell_type": "code",
   "execution_count": 90,
   "id": "b9fc63df-3c35-489a-a892-49acc4650476",
   "metadata": {},
   "outputs": [],
   "source": [
    "income_dept_dist_bar_chart.figure.savefig(os.path.join(path, '04_Analysis','Visualizations', 'income_dept_dist_bar_chart.png'))"
   ]
  },
  {
   "cell_type": "markdown",
   "id": "734ca7d3-ea3f-4bf1-8047-e0b1e718ad00",
   "metadata": {},
   "source": [
    "#  10. Export"
   ]
  },
  {
   "cell_type": "code",
   "execution_count": 91,
   "id": "2026582c-d5a2-4cdb-ae38-00793cce33a5",
   "metadata": {},
   "outputs": [],
   "source": [
    "df.to_pickle(os.path.join(path, '02_Data', 'Prepared Data', 'instacart_final_df_1.pkl'))"
   ]
  },
  {
   "cell_type": "code",
   "execution_count": 92,
   "id": "71bde919-b443-4a4b-af9e-571cd149d6ef",
   "metadata": {},
   "outputs": [],
   "source": [
    "df2.to_pickle(os.path.join(path, '02_Data', 'Prepared Data', 'instacart_final_df_2.pkl'))"
   ]
  },
  {
   "cell_type": "code",
   "execution_count": null,
   "id": "6c8547ed-8c01-4289-8b26-e11c45c33bf9",
   "metadata": {},
   "outputs": [],
   "source": []
  }
 ],
 "metadata": {
  "kernelspec": {
   "display_name": "Python 3 (ipykernel)",
   "language": "python",
   "name": "python3"
  },
  "language_info": {
   "codemirror_mode": {
    "name": "ipython",
    "version": 3
   },
   "file_extension": ".py",
   "mimetype": "text/x-python",
   "name": "python",
   "nbconvert_exporter": "python",
   "pygments_lexer": "ipython3",
   "version": "3.12.7"
  }
 },
 "nbformat": 4,
 "nbformat_minor": 5
}
